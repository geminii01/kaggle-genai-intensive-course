{
 "cells": [
  {
   "cell_type": "markdown",
   "metadata": {},
   "source": [
    "# 📘 **Step 0. 프로젝트 배경 소개**"
   ]
  },
  {
   "cell_type": "markdown",
   "metadata": {},
   "source": [
    "## 🛒 **Online Grocery Store Chatbot**"
   ]
  },
  {
   "cell_type": "markdown",
   "metadata": {},
   "source": [
    "이 프로젝트는 **LangGraph**와 **Gemini LLM**을 기반으로 만든 온라인 마트 챗봇입니다.\n",
    "사용자는 카테고리를 탐색하거나 제품을 직접 찾지 않고, 챗봇에게 \"말로 요청\"함으로써 필요한 상품을 찾고 장바구니에 담을 수 있습니다."
   ]
  },
  {
   "cell_type": "markdown",
   "metadata": {},
   "source": [
    "### ✅ **주요 기능**"
   ]
  },
  {
   "cell_type": "markdown",
   "metadata": {},
   "source": [
    "- 제품 카테고리 탐색\n",
    "\n",
    "- 특정 제품 또는 브랜드 검색\n",
    "\n",
    "- 가격, 평점, 리뷰 기반 비교\n",
    "\n",
    "- 장바구니에 담기 / 수정 / 확인"
   ]
  },
  {
   "cell_type": "markdown",
   "metadata": {},
   "source": [
    "### 💡 **사용 시나리오 예시**"
   ]
  },
  {
   "cell_type": "markdown",
   "metadata": {},
   "source": [
    "> \"show me some milk under $5\"\n",
    "\n",
    "> \"compare popcorn brands by rating\"\n",
    "\n",
    "> \"what's in my cart?\""
   ]
  },
  {
   "cell_type": "markdown",
   "metadata": {},
   "source": [
    "이 챗봇은 어떻게 사용자 요청을 이해하고, 어떤 과정을 거쳐 장바구니를 구성할까요?  \n",
    "이 노트북은 그런 과정을 시각적으로 하나씩 따라가며 설명합니다."
   ]
  },
  {
   "cell_type": "markdown",
   "metadata": {},
   "source": [
    "# 📍 **Step 1. LangGraph 구조 시각화 + Tool 소개**"
   ]
  },
  {
   "cell_type": "markdown",
   "metadata": {},
   "source": [
    "## 📸 **1-1. 구조 이미지 표시**"
   ]
  },
  {
   "cell_type": "code",
   "execution_count": 1,
   "metadata": {},
   "outputs": [
    {
     "data": {
      "image/png": "[encoded data removed]",
      "text/plain": [
       "<IPython.core.display.Image object>"
      ]
     },
     "metadata": {
      "image/png": {
       "width": 480
      }
     },
     "output_type": "display_data"
    }
   ],
   "source": [
    "from IPython.display import Image, display\n",
    "\n",
    "# 그래프 시각화 이미지 파일 경로\n",
    "display(Image(filename=\"./assets/graph_image.png\", width=480))"
   ]
  },
  {
   "cell_type": "markdown",
   "metadata": {},
   "source": [
    "## ⚙️ **1-2. LangGraph 구조 설명**"
   ]
  },
  {
   "cell_type": "markdown",
   "metadata": {},
   "source": [
    "이 챗봇은 LangGraph를 이용하여 다음과 같은 단계로 사용자 요청을 처리합니다:\n",
    "\n",
    "1. **Agent Node**\n",
    "\n",
    "   - LLM이 사용자의 요청을 받아 어떤 작업(툴 호출 등)이 필요한지 판단합니다.\n",
    "\n",
    "2. **Tool Node**\n",
    "\n",
    "   - 적절한 Tool을 호출하여 실제 상품 검색, 비교, 장바구니 조작 등을 수행합니다.\n",
    "\n",
    "3. **Update Cart Node**\n",
    "\n",
    "   - Tool의 결과를 기반으로 장바구니 상태를 갱신합니다.\n",
    "\n",
    "4. **View Cart Node (별도 처리)**\n",
    "\n",
    "   - 장바구니를 확인할 때는 별도로 분기하여 확인합니다."
   ]
  },
  {
   "cell_type": "markdown",
   "metadata": {},
   "source": [
    "### 🔧 **사용 가능한 주요 Tool 종류**"
   ]
  },
  {
   "cell_type": "markdown",
   "metadata": {},
   "source": [
    "| 분류 | Tool 이름 (대표 함수 예시) | 설명 | 질문 예시 |\n",
    "|------|-----------|------|------|\n",
    "| 🧺 **카테고리 탐색** (유사도 기반) | `search_category_by_type` | 카테고리명 검색 | \"do you have vegetables?\" |\n",
    "|                      | `search_category_by_type_all` | 전체 카테고리 리스트 | \"what kinds of categories do you have?\" |\n",
    "| 🧂 **상품 탐색** (유사도 기반) | `search_ingredient_by_brand` | 브랜드 또는 제품명으로 검색 | \"show me Apple juice\" |\n",
    "|                     | `search_multiple_ingredients` | 여러 제품을 동시에 찾기 | \"show me popcorn and milk\" |\n",
    "|                     | `search_ingredient_by_price` | 가격 기준 검색 | \"find milk under $3\" |\n",
    "|                     | `search_ingredient_by_rating` | 평점 높은 상품 검색 | \"best rated popcorn\" |\n",
    "| 🔍 **상품 비교** | `compare_ingredient_by_price` | 가격으로 브랜드 비교 | \"compare milk brands by price\" |\n",
    "|                   | `compare_ingredient_by_rating` | 평점으로 비교 | \"which popcorn is best rated?\" |\n",
    "| 🛒 **장바구니 조작** | `add_to_cart`, `remove_from_cart` 등 | 장바구니 관리 | \"add 2 oat milks to cart\" |\n",
    "| 🤖 **기타** | `greeting`, `help`, `fallback` | 인사/도움말/잘못된 요청 처리 | \"hi\", \"help\", \"tell me a joke\" |"
   ]
  },
  {
   "cell_type": "markdown",
   "metadata": {},
   "source": [
    "# 📘 **Step 2. 환경 설정 및 데이터 로드**"
   ]
  },
  {
   "cell_type": "markdown",
   "metadata": {},
   "source": [
    "## 🧱 **2-1. 환경 설정 (.env 및 config 로드)**"
   ]
  },
  {
   "cell_type": "code",
   "execution_count": 2,
   "metadata": {},
   "outputs": [
    {
     "name": "stdout",
     "output_type": "stream",
     "text": [
      "📁 데이터 경로: ./data/sample_data.csv\n",
      "🧠 Fuzzy Matching 임계점: 67\n"
     ]
    }
   ],
   "source": [
    "import os\n",
    "from dotenv import load_dotenv\n",
    "\n",
    "load_dotenv(override=True)\n",
    "\n",
    "# 설정값 확인\n",
    "from chatbot.configs import DATA_FILE_PATH, FUZZY_SCORE_THRESHOLD\n",
    "\n",
    "print(\"📁 데이터 경로:\", DATA_FILE_PATH)\n",
    "print(\"🧠 Fuzzy Matching 임계점:\", FUZZY_SCORE_THRESHOLD)"
   ]
  },
  {
   "cell_type": "markdown",
   "metadata": {},
   "source": [
    "## 🧪 **2-2. 데이터 로드 + 미리보기**"
   ]
  },
  {
   "cell_type": "code",
   "execution_count": 3,
   "metadata": {},
   "outputs": [
    {
     "name": "stdout",
     "output_type": "stream",
     "text": [
      "✅ 데이터 로드 성공! 총 120개 항목\n"
     ]
    },
    {
     "data": {
      "text/html": [
       "<div>\n",
       "<style scoped>\n",
       "    .dataframe tbody tr th:only-of-type {\n",
       "        vertical-align: middle;\n",
       "    }\n",
       "\n",
       "    .dataframe tbody tr th {\n",
       "        vertical-align: top;\n",
       "    }\n",
       "\n",
       "    .dataframe thead th {\n",
       "        text-align: right;\n",
       "    }\n",
       "</style>\n",
       "<table border=\"1\" class=\"dataframe\">\n",
       "  <thead>\n",
       "    <tr style=\"text-align: right;\">\n",
       "      <th></th>\n",
       "      <th>category_type</th>\n",
       "      <th>product_type</th>\n",
       "      <th>product_brand</th>\n",
       "      <th>product_rating</th>\n",
       "      <th>product_review</th>\n",
       "      <th>product_price</th>\n",
       "    </tr>\n",
       "  </thead>\n",
       "  <tbody>\n",
       "    <tr>\n",
       "      <th>0</th>\n",
       "      <td>Vegetables</td>\n",
       "      <td>Carrot</td>\n",
       "      <td>FreshFarm</td>\n",
       "      <td>4.5</td>\n",
       "      <td>150</td>\n",
       "      <td>2.99</td>\n",
       "    </tr>\n",
       "    <tr>\n",
       "      <th>1</th>\n",
       "      <td>Vegetables</td>\n",
       "      <td>Carrot</td>\n",
       "      <td>Nature's Best</td>\n",
       "      <td>4.6</td>\n",
       "      <td>120</td>\n",
       "      <td>3.19</td>\n",
       "    </tr>\n",
       "    <tr>\n",
       "      <th>2</th>\n",
       "      <td>Vegetables</td>\n",
       "      <td>Carrot</td>\n",
       "      <td>VeggieWorld</td>\n",
       "      <td>4.4</td>\n",
       "      <td>100</td>\n",
       "      <td>2.79</td>\n",
       "    </tr>\n",
       "    <tr>\n",
       "      <th>3</th>\n",
       "      <td>Vegetables</td>\n",
       "      <td>Carrot</td>\n",
       "      <td>GreenLeaf</td>\n",
       "      <td>4.7</td>\n",
       "      <td>90</td>\n",
       "      <td>3.09</td>\n",
       "    </tr>\n",
       "    <tr>\n",
       "      <th>4</th>\n",
       "      <td>Vegetables</td>\n",
       "      <td>Carrot</td>\n",
       "      <td>FarmSelect</td>\n",
       "      <td>4.3</td>\n",
       "      <td>80</td>\n",
       "      <td>2.89</td>\n",
       "    </tr>\n",
       "  </tbody>\n",
       "</table>\n",
       "</div>"
      ],
      "text/plain": [
       "  category_type product_type  product_brand  product_rating  product_review  \\\n",
       "0    Vegetables       Carrot      FreshFarm             4.5             150   \n",
       "1    Vegetables       Carrot  Nature's Best             4.6             120   \n",
       "2    Vegetables       Carrot    VeggieWorld             4.4             100   \n",
       "3    Vegetables       Carrot      GreenLeaf             4.7              90   \n",
       "4    Vegetables       Carrot     FarmSelect             4.3              80   \n",
       "\n",
       "   product_price  \n",
       "0           2.99  \n",
       "1           3.19  \n",
       "2           2.79  \n",
       "3           3.09  \n",
       "4           2.89  "
      ]
     },
     "execution_count": 3,
     "metadata": {},
     "output_type": "execute_result"
    }
   ],
   "source": [
    "import pandas as pd\n",
    "\n",
    "try:\n",
    "    data = pd.read_csv(DATA_FILE_PATH)\n",
    "    print(f\"✅ 데이터 로드 성공! 총 {len(data)}개 항목\")\n",
    "except FileNotFoundError:\n",
    "    print(f\"❌ 데이터 파일을 찾을 수 없습니다: {DATA_FILE_PATH}\")\n",
    "    data = pd.DataFrame()\n",
    "\n",
    "# 데이터 일부 확인\n",
    "data.head()"
   ]
  },
  {
   "cell_type": "markdown",
   "metadata": {},
   "source": [
    "## **🧾 2-3. 사용 가능한 카테고리 추출**"
   ]
  },
  {
   "cell_type": "code",
   "execution_count": 4,
   "metadata": {},
   "outputs": [
    {
     "name": "stdout",
     "output_type": "stream",
     "text": [
      "📦 사용 가능한 카테고리 목록:\n",
      "1. vegetables\n",
      "2. fruits\n",
      "3. meats\n",
      "4. dairy\n",
      "5. bakery\n",
      "6. beverages\n",
      "7. snacks\n",
      "8. frozen foods\n"
     ]
    }
   ],
   "source": [
    "# ✅ 사용 가능한 카테고리 추출\n",
    "available_categories = (\n",
    "    data[\"category_type\"].astype(str).str.strip().str.lower().unique().tolist()\n",
    ")\n",
    "\n",
    "print(\"📦 사용 가능한 카테고리 목록:\")\n",
    "for i, cat in enumerate(available_categories, 1):\n",
    "    print(f\"{i}. {cat}\")"
   ]
  },
  {
   "cell_type": "markdown",
   "metadata": {},
   "source": [
    "# 📘 **Step 3. Warm-Up! 사용자 친화 기능**"
   ]
  },
  {
   "cell_type": "markdown",
   "metadata": {},
   "source": [
    "## 💡 **3-1. Fuzzy Matching (유사한 단어 매칭)**"
   ]
  },
  {
   "cell_type": "code",
   "execution_count": 5,
   "metadata": {},
   "outputs": [
    {
     "name": "stdout",
     "output_type": "stream",
     "text": [
      "{'status': 'matched', 'input': 'veggie', 'matched_category': 'vegetables', 'score': 72}\n",
      "{'status': 'not_matched', 'input': 'veggies', 'suggestion': 'beverages', 'score': 62}\n",
      "{'status': 'matched', 'input': 'dairy', 'matched_category': 'dairy', 'score': 100}\n",
      "{'status': 'matched', 'input': 'frut', 'matched_category': 'fruits', 'score': 80}\n",
      "{'status': 'matched', 'input': 'snakz', 'matched_category': 'snacks', 'score': 73}\n"
     ]
    }
   ],
   "source": [
    "from thefuzz import process\n",
    "\n",
    "\n",
    "def find_closest_category(\n",
    "    query: str, categories: list[str], threshold: int = 67\n",
    ") -> dict:\n",
    "    query = query.strip().lower()\n",
    "    best_match, score = process.extractOne(query, categories)\n",
    "    if score >= threshold:\n",
    "        return {\n",
    "            \"status\": \"matched\",\n",
    "            \"input\": query,\n",
    "            \"matched_category\": best_match,\n",
    "            \"score\": score,\n",
    "        }\n",
    "    else:\n",
    "        return {\n",
    "            \"status\": \"not_matched\",\n",
    "            \"input\": query,\n",
    "            \"suggestion\": best_match,\n",
    "            \"score\": score,\n",
    "        }\n",
    "\n",
    "\n",
    "# 예시 입력 테스트\n",
    "test_inputs = [\"veggie\", \"Veggies\", \"dairy\", \"frut\", \"snakz\"]\n",
    "\n",
    "for query in test_inputs:\n",
    "    print(find_closest_category(query, available_categories))"
   ]
  },
  {
   "cell_type": "markdown",
   "metadata": {},
   "source": [
    "### **✨ Fuzzy Matching**"
   ]
  },
  {
   "cell_type": "markdown",
   "metadata": {},
   "source": [
    "- 사용자가 정확하게 \"vegetables\"라고 입력하지 않아도 \"veggie\", \"veggies\" 등으로 요청하면 알아서 찾아줍니다.\n",
    "\n",
    "- 이는 `thefuzz` 라이브러리의 `extractOne()` 기능으로 구현됩니다."
   ]
  },
  {
   "cell_type": "markdown",
   "metadata": {},
   "source": [
    "## 💵 **3-2. 가격 필터 예시 (직접 해보는 체험)**"
   ]
  },
  {
   "cell_type": "code",
   "execution_count": 6,
   "metadata": {},
   "outputs": [
    {
     "data": {
      "text/html": [
       "<div>\n",
       "<style scoped>\n",
       "    .dataframe tbody tr th:only-of-type {\n",
       "        vertical-align: middle;\n",
       "    }\n",
       "\n",
       "    .dataframe tbody tr th {\n",
       "        vertical-align: top;\n",
       "    }\n",
       "\n",
       "    .dataframe thead th {\n",
       "        text-align: right;\n",
       "    }\n",
       "</style>\n",
       "<table border=\"1\" class=\"dataframe\">\n",
       "  <thead>\n",
       "    <tr style=\"text-align: right;\">\n",
       "      <th></th>\n",
       "      <th>product_brand</th>\n",
       "      <th>product_price</th>\n",
       "    </tr>\n",
       "  </thead>\n",
       "  <tbody>\n",
       "    <tr>\n",
       "      <th>49</th>\n",
       "      <td>YogurtLand</td>\n",
       "      <td>3.99</td>\n",
       "    </tr>\n",
       "    <tr>\n",
       "      <th>48</th>\n",
       "      <td>CheeseCraft</td>\n",
       "      <td>4.09</td>\n",
       "    </tr>\n",
       "    <tr>\n",
       "      <th>47</th>\n",
       "      <td>CreamyGold</td>\n",
       "      <td>4.19</td>\n",
       "    </tr>\n",
       "    <tr>\n",
       "      <th>45</th>\n",
       "      <td>DairyPure</td>\n",
       "      <td>4.29</td>\n",
       "    </tr>\n",
       "    <tr>\n",
       "      <th>46</th>\n",
       "      <td>PureDairy</td>\n",
       "      <td>4.39</td>\n",
       "    </tr>\n",
       "  </tbody>\n",
       "</table>\n",
       "</div>"
      ],
      "text/plain": [
       "   product_brand  product_price\n",
       "49    YogurtLand           3.99\n",
       "48   CheeseCraft           4.09\n",
       "47    CreamyGold           4.19\n",
       "45     DairyPure           4.29\n",
       "46     PureDairy           4.39"
      ]
     },
     "execution_count": 6,
     "metadata": {},
     "output_type": "execute_result"
    }
   ],
   "source": [
    "# 💰 특정 제품에 대해 가격 조건으로 필터링\n",
    "def search_product_under_price(data, product_type: str, max_price: float):\n",
    "    filtered = data[\n",
    "        (data[\"product_type\"].str.lower() == product_type.lower())\n",
    "        & (data[\"product_price\"].astype(float) <= max_price)\n",
    "    ]\n",
    "    return filtered[[\"product_brand\", \"product_price\"]].sort_values(by=\"product_price\")\n",
    "\n",
    "\n",
    "# 예시: milk 중 가격이 $5 이하인 것들\n",
    "search_product_under_price(data, \"milk\", 5.0)"
   ]
  },
  {
   "cell_type": "markdown",
   "metadata": {},
   "source": [
    "### **💵 가격 기준 필터링**"
   ]
  },
  {
   "cell_type": "markdown",
   "metadata": {},
   "source": [
    "- 사용자가 `\"show me milk under $5\"` 라고 입력했을 때,<br>시스템은 해당 제품 타입 중 `product_price <= 5` 인 항목을 찾아 정렬해 보여줍니다."
   ]
  },
  {
   "cell_type": "markdown",
   "metadata": {},
   "source": [
    "## 🧁 **3-3. 리뷰 수 또는 평점 높은 제품 찾기**"
   ]
  },
  {
   "cell_type": "code",
   "execution_count": 7,
   "metadata": {},
   "outputs": [
    {
     "data": {
      "text/html": [
       "<div>\n",
       "<style scoped>\n",
       "    .dataframe tbody tr th:only-of-type {\n",
       "        vertical-align: middle;\n",
       "    }\n",
       "\n",
       "    .dataframe tbody tr th {\n",
       "        vertical-align: top;\n",
       "    }\n",
       "\n",
       "    .dataframe thead th {\n",
       "        text-align: right;\n",
       "    }\n",
       "</style>\n",
       "<table border=\"1\" class=\"dataframe\">\n",
       "  <thead>\n",
       "    <tr style=\"text-align: right;\">\n",
       "      <th></th>\n",
       "      <th>product_brand</th>\n",
       "      <th>product_rating</th>\n",
       "    </tr>\n",
       "  </thead>\n",
       "  <tbody>\n",
       "    <tr>\n",
       "      <th>101</th>\n",
       "      <td>SweetBite</td>\n",
       "      <td>4.5</td>\n",
       "    </tr>\n",
       "  </tbody>\n",
       "</table>\n",
       "</div>"
      ],
      "text/plain": [
       "    product_brand  product_rating\n",
       "101     SweetBite             4.5"
      ]
     },
     "execution_count": 7,
     "metadata": {},
     "output_type": "execute_result"
    }
   ],
   "source": [
    "# 🌟 평점 높은 제품 찾기 예시\n",
    "def find_high_rated_products(data, product_type: str, min_rating: float = 4.0):\n",
    "    df = data[data[\"product_type\"].str.lower() == product_type.lower()]\n",
    "    filtered = df[df[\"product_rating\"].astype(float) >= min_rating]\n",
    "    return filtered[[\"product_brand\", \"product_rating\"]].sort_values(\n",
    "        by=\"product_rating\", ascending=False\n",
    "    )\n",
    "\n",
    "\n",
    "# 예시: popcorn 중 평점 4.5 이상\n",
    "find_high_rated_products(data, \"popcorn\", 4.5)"
   ]
  },
  {
   "cell_type": "markdown",
   "metadata": {},
   "source": [
    "## 🧪 **Warm-Up 요약**"
   ]
  },
  {
   "cell_type": "markdown",
   "metadata": {},
   "source": [
    "이 파트에서는 챗봇이 어떻게 **사람 중심적인 자연어 요청**을 처리하는지 미리 체험해보았습니다.\n",
    "\n",
    "- \"veggie\" → \"vegetables\"로 자동 매칭\n",
    "\n",
    "- \"milk under $5\" → 조건 필터링\n",
    "\n",
    "- \"best popcorn\" → 평점 기반 필터링\n",
    "\n",
    "👉 다음 파트에서는 이러한 기능들이 LangGraph 안에서 어떻게 흘러가는지 시각적으로 살펴봅니다."
   ]
  },
  {
   "cell_type": "markdown",
   "metadata": {},
   "source": [
    "# 📘 **Step 4. Warm-Up! LangGraph 구조 분해 설명**"
   ]
  },
  {
   "cell_type": "markdown",
   "metadata": {},
   "source": [
    "## 🧠 **4-1. 전체 구조 그래프 시각화**"
   ]
  },
  {
   "cell_type": "code",
   "execution_count": 8,
   "metadata": {},
   "outputs": [
    {
     "data": {
      "image/png": "[encoded data removed]",
      "text/plain": [
       "<Figure size 800x600 with 1 Axes>"
      ]
     },
     "metadata": {},
     "output_type": "display_data"
    }
   ],
   "source": [
    "# 🧭 LangGraph 노드/엣지 시각화\n",
    "import networkx as nx\n",
    "import matplotlib.pyplot as plt\n",
    "\n",
    "# 폰트 설정\n",
    "plt.rcParams[\"font.family\"] = \"AppleGothic\"\n",
    "plt.rcParams[\"axes.titlesize\"] = 16\n",
    "\n",
    "# 그래프 구성\n",
    "G = nx.DiGraph()\n",
    "\n",
    "G.add_edges_from(\n",
    "    [\n",
    "        (\"__start__\", \"agent\"),\n",
    "        (\"agent\", \"action\"),  # call_tool -> action\n",
    "        (\"action\", \"update_cart\"),\n",
    "        (\"update_cart\", \"agent\"),\n",
    "        (\"agent\", \"view_cart\"),  # call_view_cart -> view_cart\n",
    "        (\"view_cart\", \"agent\"),\n",
    "        (\"agent\", \"__end__\"),  # end\n",
    "    ]\n",
    ")\n",
    "\n",
    "# 시각화\n",
    "plt.figure(figsize=(8, 6))\n",
    "pos = nx.spring_layout(G, seed=2)\n",
    "nx.draw_networkx(\n",
    "    G,\n",
    "    pos,\n",
    "    node_size=3000,\n",
    "    node_color=\"lavender\",\n",
    "    font_size=11,\n",
    "    font_weight=\"bold\",\n",
    ")\n",
    "plt.title(\"LangGraph 전체 흐름 (노드 간 연결)\")\n",
    "plt.axis(\"off\")\n",
    "plt.show()"
   ]
  },
  {
   "cell_type": "markdown",
   "metadata": {},
   "source": [
    "## 🧾 **4-2. 각 Node 역할 정리**"
   ]
  },
  {
   "cell_type": "markdown",
   "metadata": {},
   "source": [
    "| Node 이름 | 설명 |\n",
    "|-----------|------|\n",
    "| `agent` | LLM이 사용자의 메시지를 분석하여 적절한 툴 호출 판단 |\n",
    "| `action` | 실제 툴을 실행하는 노드 (`ToolNode`) |\n",
    "| `update_cart` | 툴 실행 결과에 따라 장바구니 상태를 업데이트 |\n",
    "| `view_cart` | 장바구니를 직접 보여주는 기능 (상태 기반) |\n",
    "| `__start__` | 그래프의 시작 지점 |\n",
    "| `__end__` | 대화 종료 지점 |"
   ]
  },
  {
   "cell_type": "markdown",
   "metadata": {},
   "source": [
    "## 💡 **4-3. 흐름 예시 설명**"
   ]
  },
  {
   "cell_type": "markdown",
   "metadata": {},
   "source": [
    "예: 사용자가 \"add 2 milks of A brand to cart\"라고 말했을 때:\n",
    "\n",
    "1. 사용자가 \"add 2 milks of A brand to cart\" 요청\n",
    "\n",
    "2. `agent` → `call_tool` 판단 → `action` 노드에서 `add_to_cart` 실행\n",
    "\n",
    "3. `update_cart`에서 장바구니에 반영\n",
    "\n",
    "4. 다시 `agent`로 돌아가 다음 요청을 기다림\n",
    "\n",
    "예: 사용자가 \"what's in my cart?\"라고 말했을 때:\n",
    "\n",
    "1. 사용자가 \"what's in my cart?\" 요청\n",
    "\n",
    "2. `agent` → `call_view_cart` 판단\n",
    "\n",
    "3. `view_cart`에서 장바구니 반환\n",
    "\n",
    "4. 다시 `agent`로 돌아가 다음 요청을 기다림"
   ]
  },
  {
   "cell_type": "markdown",
   "metadata": {},
   "source": [
    "## 🔁 **4-4. 상태(State) 구조 이해**"
   ]
  },
  {
   "cell_type": "markdown",
   "metadata": {},
   "source": [
    "그래프에 전달되는 상태값이 어떤 구조로 되어 있는지 보여줌 (예시)"
   ]
  },
  {
   "cell_type": "code",
   "execution_count": 9,
   "metadata": {},
   "outputs": [
    {
     "data": {
      "text/plain": [
       "{'messages': [],\n",
       " 'cart_items': [],\n",
       " 'category_type': None,\n",
       " 'product_type': None,\n",
       " 'product_brand': None,\n",
       " 'product_rating': None,\n",
       " 'product_review': None,\n",
       " 'product_price': None,\n",
       " 'finished': False}"
      ]
     },
     "execution_count": 9,
     "metadata": {},
     "output_type": "execute_result"
    }
   ],
   "source": [
    "from chatbot.state import State\n",
    "\n",
    "# 예시 초기 상태\n",
    "initial_state = State(\n",
    "    messages=[],\n",
    "    cart_items=[],\n",
    "    category_type=None,\n",
    "    product_type=None,\n",
    "    product_brand=None,\n",
    "    product_rating=None,\n",
    "    product_review=None,\n",
    "    product_price=None,\n",
    "    finished=False,\n",
    ")\n",
    "\n",
    "# 구조 확인\n",
    "initial_state"
   ]
  },
  {
   "cell_type": "markdown",
   "metadata": {},
   "source": [
    "## 🧪 **Warm-Up 요약**"
   ]
  },
  {
   "cell_type": "markdown",
   "metadata": {},
   "source": [
    "LangGraph는 대화의 흐름을 명확하게 시각화하고 추론 흐름을 컨트롤할 수 있게 해줍니다.\n",
    "\n",
    "- 각 단계는 명확히 분리된 node로 구성됨\n",
    "\n",
    "- 흐름 제어와 상태 업데이트가 간단명료\n",
    "\n",
    "- 기능이 복잡해질수록 **LangGraph 구조는 가독성과 유지보수에 강력한 이점**을 가짐\n",
    "\n",
    "👉 이제 실제 코드를 실행하고, 챗봇과 직접 대화해볼 준비가 되었습니다!"
   ]
  },
  {
   "cell_type": "markdown",
   "metadata": {},
   "source": [
    "# 📘 **Step 5. 실행 코드 구성**"
   ]
  },
  {
   "cell_type": "markdown",
   "metadata": {},
   "source": [
    "## ✅ **5-1. 초기 상태 정의**"
   ]
  },
  {
   "cell_type": "code",
   "execution_count": 10,
   "metadata": {},
   "outputs": [],
   "source": [
    "from chatbot.state import State\n",
    "from langchain_core.messages import HumanMessage, SystemMessage\n",
    "from chatbot.configs import SYSTEM_PROMPT\n",
    "\n",
    "# 대화 초기화\n",
    "initial_state = State(\n",
    "    messages=[SystemMessage(content=SYSTEM_PROMPT)],\n",
    "    category_type=None,\n",
    "    product_type=None,\n",
    "    product_brand=None,\n",
    "    product_rating=None,\n",
    "    product_review=None,\n",
    "    product_price=None,\n",
    "    cart_items=[],\n",
    "    finished=False,\n",
    ")"
   ]
  },
  {
   "cell_type": "markdown",
   "metadata": {},
   "source": [
    "## 🚀 **5-2. 챗봇 실행 함수 정의**"
   ]
  },
  {
   "cell_type": "code",
   "execution_count": 11,
   "metadata": {},
   "outputs": [
    {
     "name": "stdout",
     "output_type": "stream",
     "text": [
      "[INFO] LLM initialized successfully with model: gemini-2.0-flash\n",
      "[INFO] Initializing Data Loader\n",
      "[INFO] CSV data loaded successfully from ./data/sample_data.csv!\n",
      "[INFO] Available categories: ['vegetables', 'fruits', 'meats', 'dairy', 'bakery', 'beverages', 'snacks', 'frozen foods']\n",
      "[INFO] Data Loader Initialization Complete\n",
      "[INFO] Tools List Loaded: ['search_category_by_type', 'search_category_by_type_all', 'search_multiple_ingredients', 'search_ingredient_by_type_all', 'search_ingredient_by_brand', 'search_ingredient_by_rating', 'search_ingredient_by_price', 'search_ingredient_by_review', 'compare_ingredient_by_rating', 'compare_ingredient_by_price', 'compare_ingredient_by_review', 'view_cart', 'add_to_cart', 'remove_from_cart', 'modify_cart', 'clear_cart', 'help', 'greeting', 'fallback']\n",
      "[INFO] Building Graph\n",
      "[INFO] LLM successfully bound with tools.\n",
      "[INFO] Graph compiled successfully!\n"
     ]
    }
   ],
   "source": [
    "from chatbot.graph import app\n",
    "\n",
    "\n",
    "def chatbot_turn(state, user_input):\n",
    "    from langchain_core.messages import HumanMessage\n",
    "\n",
    "    new_state = state.copy()\n",
    "    new_state[\"messages\"].append(HumanMessage(content=user_input))\n",
    "\n",
    "    print(f\"\\n👤 User: {user_input}\")\n",
    "    print(\"🤖 Chatbot:\")\n",
    "\n",
    "    for event in app.stream(new_state):\n",
    "        if \"agent\" in event:\n",
    "            agent_response = event[\"agent\"][\"messages\"][-1].content\n",
    "            print(agent_response)\n",
    "        if \"update_cart\" in event:\n",
    "            new_state = event[\"update_cart\"]\n",
    "        if \"view_cart\" in event:\n",
    "            view_cart_result = event[\"view_cart\"][\"messages\"][-1].content\n",
    "            print(view_cart_result)\n",
    "\n",
    "    return new_state"
   ]
  },
  {
   "cell_type": "markdown",
   "metadata": {},
   "source": [
    "## ✉️ **5-3. 예시 입력 실행**"
   ]
  },
  {
   "cell_type": "code",
   "execution_count": 12,
   "metadata": {},
   "outputs": [
    {
     "name": "stdout",
     "output_type": "stream",
     "text": [
      "\n",
      "👤 User: Please show me the categories!\n",
      "🤖 Chatbot:\n",
      "[INFO] Agent Node Execution\n",
      "[INFO] Checking for tool call\n",
      "[INFO] Decision: Tool call required (1 calls, first: search_category_by_type_all) -> Routing to action node\n",
      "\n",
      "\n",
      "[INFO] Executing tool: search_category_by_type_all\n",
      "[INFO] Result: Found 8 categories.\n",
      "[DEBUG] update_cart_node processing ToolMessage: ID=42d25f3d-c79a-466d-b44c-1869cf96afbb, Content Snippet={\"status\": \"success\", \"categories\": [\"vegetables\", \"fruits\", \"meats\", \"dairy\", \"bakery\", \"beverages\"...\n",
      "[DEBUG] Found corresponding tool call in history: {'name': 'search_category_by_type_all', 'args': {}, 'id': '42d25f3d-c79a-466d-b44c-1869cf96afbb', 'type': 'tool_call'}\n",
      "[INFO] update_cart_node triggered by tool: search_category_by_type_all\n",
      "[DEBUG] Successfully parsed ToolMessage content as JSON.\n",
      "[DEBUG] Cart items after update: 0 types, 0 total items, total price $0.00\n",
      "[INFO] Agent Node Execution\n",
      "[INFO] Checking for tool call\n",
      "[INFO] Decision: No tool call required (End Turn)\n",
      "OK. Here are the categories we have: vegetables, fruits, meats, dairy, bakery, beverages, snacks, and frozen foods.\n"
     ]
    }
   ],
   "source": [
    "current_state = initial_state\n",
    "\n",
    "# 사용 예시 1\n",
    "current_state = chatbot_turn(current_state, \"Please show me the categories!\")"
   ]
  },
  {
   "cell_type": "markdown",
   "metadata": {},
   "source": [
    "### ✅ **실행 흐름 요약**"
   ]
  },
  {
   "cell_type": "markdown",
   "metadata": {},
   "source": [
    "- 사용자가 자연어로 요청을 입력합니다.\n",
    "\n",
    "- LLM(agent)이 적절한 Tool을 선택하고 실행합니다.\n",
    "\n",
    "- Tool의 실행 결과는 update_cart 또는 view_cart를 통해 상태에 반영됩니다.\n",
    "\n",
    "- 다음 대화에서는 이전 상태를 유지한 채로 이어집니다.\n",
    "\n",
    "👉 아래 셀에서 실제로 챗봇과 대화해보며 흐름을 확인할 수 있습니다."
   ]
  },
  {
   "cell_type": "markdown",
   "metadata": {},
   "source": [
    "# 📘 **Step 6. 자유 대화 셀 (인터랙션)**"
   ]
  },
  {
   "cell_type": "markdown",
   "metadata": {},
   "source": [
    "## ✅ **6-1. 대화 루프용 셀**"
   ]
  },
  {
   "cell_type": "code",
   "execution_count": 13,
   "metadata": {},
   "outputs": [
    {
     "name": "stdout",
     "output_type": "stream",
     "text": [
      "\n",
      "👤 User: Hi\n",
      "🤖 Chatbot:\n",
      "[INFO] Agent Node Execution\n",
      "[INFO] Checking for tool call\n",
      "[INFO] Decision: Tool call required (1 calls, first: search_category_by_type_all) -> Routing to action node\n",
      "\n",
      "\n",
      "[INFO] Executing tool: search_category_by_type_all\n",
      "[INFO] Result: Found 8 categories.\n",
      "[DEBUG] update_cart_node processing ToolMessage: ID=91f5cbac-65cb-41a8-83d1-fbfd345d083e, Content Snippet={\"status\": \"success\", \"categories\": [\"vegetables\", \"fruits\", \"meats\", \"dairy\", \"bakery\", \"beverages\"...\n",
      "[DEBUG] Found corresponding tool call in history: {'name': 'search_category_by_type_all', 'args': {}, 'id': '91f5cbac-65cb-41a8-83d1-fbfd345d083e', 'type': 'tool_call'}\n",
      "[INFO] update_cart_node triggered by tool: search_category_by_type_all\n",
      "[DEBUG] Successfully parsed ToolMessage content as JSON.\n",
      "[DEBUG] Cart items after update: 0 types, 0 total items, total price $0.00\n",
      "[INFO] Agent Node Execution\n",
      "[INFO] Checking for tool call\n",
      "[INFO] Decision: No tool call required (End Turn)\n",
      "Here are all of the categories: vegetables, fruits, meats, dairy, bakery, beverages, snacks, and frozen foods.\n",
      "\n",
      "👤 User: i wanna the druits! what kinds of that?\n",
      "🤖 Chatbot:\n",
      "[INFO] Agent Node Execution\n",
      "[INFO] Checking for tool call\n",
      "[INFO] Decision: Tool call required (1 calls, first: search_category_by_type) -> Routing to action node\n",
      "\n",
      "\n",
      "[INFO] Executing tool: search_category_by_type (Input: fruits)\n",
      "[INFO] Result: Exact match found for category 'fruits'\n",
      "[DEBUG] update_cart_node processing ToolMessage: ID=3c496adf-a1cc-4d34-a700-5e97163d4144, Content Snippet={\"status\": \"found\", \"matched_category\": \"fruits\", \"input_query\": \"fruits\", \"score\": 100}...\n",
      "[DEBUG] Found corresponding tool call in history: {'name': 'search_category_by_type', 'args': {'category_type': 'fruits'}, 'id': '3c496adf-a1cc-4d34-a700-5e97163d4144', 'type': 'tool_call'}\n",
      "[INFO] update_cart_node triggered by tool: search_category_by_type\n",
      "[DEBUG] Successfully parsed ToolMessage content as JSON.\n",
      "[DEBUG] Cart items after update: 0 types, 0 total items, total price $0.00\n",
      "[INFO] Agent Node Execution\n",
      "[INFO] Checking for tool call\n",
      "[INFO] Decision: Tool call required (1 calls, first: search_ingredient_by_type_all) -> Routing to action node\n",
      "\n",
      "\n",
      "[INFO] Executing tool: search_ingredient_by_type_all\n",
      "[INFO] Found products in 8 categories\n",
      "[DEBUG] update_cart_node processing ToolMessage: ID=e3fb257a-ec4c-4ab8-b675-e40ea7499e6d, Content Snippet={\"status\": \"success\", \"products_by_category\": {\"vegetables\": [\"Carrot\", \"Broccoli\", \"Spinach\"], \"fru...\n",
      "[DEBUG] Found corresponding tool call in history: {'name': 'search_ingredient_by_type_all', 'args': {}, 'id': 'e3fb257a-ec4c-4ab8-b675-e40ea7499e6d', 'type': 'tool_call'}\n",
      "[INFO] update_cart_node triggered by tool: search_ingredient_by_type_all\n",
      "[DEBUG] Successfully parsed ToolMessage content as JSON.\n",
      "[DEBUG] Cart items after update: 0 types, 0 total items, total price $0.00\n",
      "[INFO] Agent Node Execution\n",
      "[INFO] Checking for tool call\n",
      "[INFO] Decision: Tool call required (1 calls, first: search_multiple_ingredients) -> Routing to action node\n",
      "\n",
      "\n",
      "[INFO] Executing tool: search_multiple_ingredients (Products: ['Apple', 'Banana', 'Blueberry'])\n",
      "\n",
      "[INFO] Executing tool: search_ingredient_by_brand (Product: Apple, Brand: None)\n",
      "[INFO] Found 5 brands for product Apple\n",
      "\n",
      "[INFO] Executing tool: search_ingredient_by_brand (Product: Banana, Brand: None)\n",
      "[INFO] Found 5 brands for product Banana\n",
      "\n",
      "[INFO] Executing tool: search_ingredient_by_brand (Product: Blueberry, Brand: None)\n",
      "[INFO] Found 5 brands for product Blueberry\n",
      "[DEBUG] update_cart_node processing ToolMessage: ID=636c3551-85c3-4d33-9292-5689d1fe76d7, Content Snippet={\"status\": \"success\", \"products\": {\"Apple\": {\"status\": \"success\", \"product_type\": \"Apple\", \"brands\":...\n",
      "[DEBUG] Found corresponding tool call in history: {'name': 'search_multiple_ingredients', 'args': {'product_names': ['Apple', 'Banana', 'Blueberry']}, 'id': '636c3551-85c3-4d33-9292-5689d1fe76d7', 'type': 'tool_call'}\n",
      "[INFO] update_cart_node triggered by tool: search_multiple_ingredients\n",
      "[DEBUG] Successfully parsed ToolMessage content as JSON.\n",
      "[DEBUG] Cart items after update: 0 types, 0 total items, total price $0.00\n",
      "[INFO] Agent Node Execution\n",
      "[INFO] Checking for tool call\n",
      "[INFO] Decision: No tool call required (End Turn)\n",
      "OK. I found Apple, Banana, and Blueberry in fruits. Do you want to know more?\n",
      "\n",
      "👤 User: Can you tell me which one is the cheapest among them?\n",
      "🤖 Chatbot:\n",
      "[INFO] Agent Node Execution\n",
      "[INFO] Checking for tool call\n",
      "[INFO] Decision: Tool call required (3 calls, first: compare_ingredient_by_price) -> Routing to action node\n",
      "\n",
      "\n",
      "[INFO] Executing tool: compare_ingredient_by_price (Product: Apple)\n",
      "\n",
      "[INFO] Executing tool: compare_ingredient_by_price (Product: Blueberry)\n",
      "\n",
      "[INFO] Executing tool: compare_ingredient_by_price (Product: Banana)\n",
      "[INFO] Compared 5 products by price\n",
      "[INFO] Compared 5 products by price\n",
      "[INFO] Compared 5 products by price\n",
      "[DEBUG] update_cart_node processing ToolMessage: ID=860eab02-7ad9-4f3f-9a1e-73f42ec92cb7, Content Snippet={\"status\": \"success\", \"metric\": \"price\", \"comparisons\": [{\"category_type\": \"Fruits\", \"product_type\":...\n",
      "[WARNING] update_cart_node: Could not find matching tool call for ToolMessage ID 860eab02-7ad9-4f3f-9a1e-73f42ec92cb7. Trying order-based fallback matching...\n",
      "[ERROR] Could not find matching tool_call_id in tool_messages during order-based fallback.\n",
      "[INFO] Agent Node Execution\n",
      "[INFO] Checking for tool call\n",
      "[INFO] Decision: No tool call required (End Turn)\n",
      "The cheapest apple is VineSweet at $3.19. The cheapest banana is VineSweet at $2.69. The cheapest blueberry is VineSweet at $3.99.\n",
      "\n",
      "👤 User: please add the 3 items in my cart!\n",
      "🤖 Chatbot:\n",
      "[INFO] Agent Node Execution\n",
      "[INFO] Checking for tool call\n",
      "[INFO] Decision: Tool call required (1 calls, first: add_to_cart) -> Routing to action node\n",
      "\n",
      "\n",
      "[INFO] Executing tool: add_to_cart (Product: Apple, Brand: VineSweet, Quantity: 1)\n",
      "[INFO] Added to cart: 1 VineSweet Apple\n",
      "[DEBUG] update_cart_node processing ToolMessage: ID=17167246-542b-487c-9dd2-e6d1f777c5da, Content Snippet={\"status\": \"success\", \"message\": \"Added 1 VineSweet Apple to your cart.\", \"item\": {\"product_type\": \"...\n",
      "[DEBUG] Found corresponding tool call in history: {'name': 'add_to_cart', 'args': {'product_type': 'Apple', 'brand': 'VineSweet'}, 'id': '17167246-542b-487c-9dd2-e6d1f777c5da', 'type': 'tool_call'}\n",
      "[INFO] update_cart_node triggered by tool: add_to_cart\n",
      "[DEBUG] Successfully parsed ToolMessage content as JSON.\n",
      "[INFO] Added to cart: {'product_type': 'Apple', 'product_brand': 'VineSweet', 'price': 3.19, 'quantity': 1, 'item_total': 3.19}\n",
      "[DEBUG] Cart items after update: 1 types, 1 total items, total price $3.19\n",
      "[INFO] Agent Node Execution\n",
      "[INFO] Checking for tool call\n",
      "[INFO] Decision: Tool call required (1 calls, first: add_to_cart) -> Routing to action node\n",
      "\n",
      "\n",
      "[INFO] Executing tool: add_to_cart (Product: Banana, Brand: VineSweet, Quantity: 1)\n",
      "[INFO] Added to cart: 1 VineSweet Banana\n",
      "[DEBUG] update_cart_node processing ToolMessage: ID=5008f5ad-889b-409e-9d70-5663cd282594, Content Snippet={\"status\": \"success\", \"message\": \"Added 1 VineSweet Banana to your cart.\", \"item\": {\"product_type\": ...\n",
      "[DEBUG] Found corresponding tool call in history: {'name': 'add_to_cart', 'args': {'product_type': 'Banana', 'brand': 'VineSweet'}, 'id': '5008f5ad-889b-409e-9d70-5663cd282594', 'type': 'tool_call'}\n",
      "[INFO] update_cart_node triggered by tool: add_to_cart\n",
      "[DEBUG] Successfully parsed ToolMessage content as JSON.\n",
      "[INFO] Added to cart: {'product_type': 'Banana', 'product_brand': 'VineSweet', 'price': 2.69, 'quantity': 1, 'item_total': 2.69}\n",
      "[DEBUG] Cart items after update: 2 types, 2 total items, total price $5.88\n",
      "[INFO] Agent Node Execution\n",
      "[INFO] Checking for tool call\n",
      "[INFO] Decision: Tool call required (1 calls, first: add_to_cart) -> Routing to action node\n",
      "\n",
      "\n",
      "[INFO] Executing tool: add_to_cart (Product: Blueberry, Brand: VineSweet, Quantity: 1)\n",
      "[INFO] Added to cart: 1 VineSweet Blueberry\n",
      "[DEBUG] update_cart_node processing ToolMessage: ID=1385fd81-5f3e-4a0e-ad7e-121a923947ac, Content Snippet={\"status\": \"success\", \"message\": \"Added 1 VineSweet Blueberry to your cart.\", \"item\": {\"product_type...\n",
      "[DEBUG] Found corresponding tool call in history: {'name': 'add_to_cart', 'args': {'product_type': 'Blueberry', 'brand': 'VineSweet'}, 'id': '1385fd81-5f3e-4a0e-ad7e-121a923947ac', 'type': 'tool_call'}\n",
      "[INFO] update_cart_node triggered by tool: add_to_cart\n",
      "[DEBUG] Successfully parsed ToolMessage content as JSON.\n",
      "[INFO] Added to cart: {'product_type': 'Blueberry', 'product_brand': 'VineSweet', 'price': 3.99, 'quantity': 1, 'item_total': 3.99}\n",
      "[DEBUG] Cart items after update: 3 types, 3 total items, total price $9.87\n",
      "[INFO] Agent Node Execution\n",
      "[INFO] Checking for tool call\n",
      "[INFO] Decision: No tool call required (End Turn)\n",
      "OK. I have added one VineSweet Apple, one VineSweet Banana, and one VineSweet Blueberry to your cart.\n",
      "\n",
      "👤 User: Can you show me my cart?\n",
      "🤖 Chatbot:\n",
      "[INFO] Agent Node Execution\n",
      "[INFO] Checking for tool call\n",
      "[INFO] Decision: 'view_cart' call required -> Routing to view_cart_node\n",
      "\n",
      "\n",
      "[INFO] View Cart Node Execution\n",
      "[INFO] Found 3 unique item types (3 total items) in cart, total: $9.87\n",
      "[INFO] view_cart_node result for LLM: Cart status: success\n",
      "Items (3 total): [1x VineSweet Apple, 1x VineSweet Banana, 1x VineSweet Blueberry]\n",
      "Total Price: $9.87\n",
      "Cart status: success\n",
      "Items (3 total): [1x VineSweet Apple, 1x VineSweet Banana, 1x VineSweet Blueberry]\n",
      "Total Price: $9.87\n",
      "[INFO] Agent Node Execution\n",
      "[INFO] Checking for tool call\n",
      "[INFO] Decision: No tool call required (End Turn)\n",
      "OK. I have added one VineSweet Apple, one VineSweet Banana, and one VineSweet Blueberry to your cart. The total price is $9.87.\n",
      "\n",
      "👤 User: Please delete the apple\n",
      "🤖 Chatbot:\n",
      "[INFO] Agent Node Execution\n",
      "[INFO] Checking for tool call\n",
      "[INFO] Decision: Tool call required (1 calls, first: remove_from_cart) -> Routing to action node\n",
      "\n",
      "\n",
      "[INFO] Executing tool: remove_from_cart (Product: Apple, Brand: None)\n",
      "[INFO] Removed from cart: Apple (Brand: Any)\n",
      "[DEBUG] update_cart_node processing ToolMessage: ID=0ab9bac0-3b07-4076-9cd8-da3c2e35fd90, Content Snippet={\"status\": \"success\", \"message\": \"Removed Apple  from your cart.\"}...\n",
      "[DEBUG] Found corresponding tool call in history: {'name': 'remove_from_cart', 'args': {'product_type': 'Apple'}, 'id': '0ab9bac0-3b07-4076-9cd8-da3c2e35fd90', 'type': 'tool_call'}\n",
      "[INFO] update_cart_node triggered by tool: remove_from_cart\n",
      "[DEBUG] Successfully parsed ToolMessage content as JSON.\n",
      "[INFO] Removed from cart: 1x VineSweet Apple\n",
      "[DEBUG] Cart items after update: 2 types, 2 total items, total price $6.68\n",
      "[INFO] Agent Node Execution\n",
      "[INFO] Checking for tool call\n",
      "[INFO] Decision: 'view_cart' call required -> Routing to view_cart_node\n",
      "\n",
      "\n",
      "[INFO] View Cart Node Execution\n",
      "[INFO] Found 2 unique item types (2 total items) in cart, total: $6.68\n",
      "[INFO] view_cart_node result for LLM: Cart status: success\n",
      "Items (2 total): [1x VineSweet Banana, 1x VineSweet Blueberry]\n",
      "Total Price: $6.68\n",
      "Cart status: success\n",
      "Items (2 total): [1x VineSweet Banana, 1x VineSweet Blueberry]\n",
      "Total Price: $6.68\n",
      "[INFO] Agent Node Execution\n",
      "[INFO] Checking for tool call\n",
      "[INFO] Decision: No tool call required (End Turn)\n",
      "OK. Is there anything else I can help you with?\n",
      "\n",
      "👤 User: Show me the shopping cart again\n",
      "🤖 Chatbot:\n",
      "[INFO] Agent Node Execution\n",
      "[INFO] Checking for tool call\n",
      "[INFO] Decision: 'view_cart' call required -> Routing to view_cart_node\n",
      "\n",
      "\n",
      "[INFO] View Cart Node Execution\n",
      "[INFO] Found 2 unique item types (2 total items) in cart, total: $6.68\n",
      "[INFO] view_cart_node result for LLM: Cart status: success\n",
      "Items (2 total): [1x VineSweet Banana, 1x VineSweet Blueberry]\n",
      "Total Price: $6.68\n",
      "Cart status: success\n",
      "Items (2 total): [1x VineSweet Banana, 1x VineSweet Blueberry]\n",
      "Total Price: $6.68\n",
      "[INFO] Agent Node Execution\n",
      "[INFO] Checking for tool call\n",
      "[INFO] Decision: No tool call required (End Turn)\n",
      "OK. There is 1 VineSweet Banana and 1 VineSweet Blueberry in your cart, for a total of $6.68.\n",
      "👋 대화를 종료합니다.\n"
     ]
    }
   ],
   "source": [
    "# 💬 자유 대화 루프 셀\n",
    "current_state = initial_state  # 초기 상태에서 시작\n",
    "\n",
    "while True:\n",
    "    user_input = input(\"👤 User (종료하려면 'exit' 입력): \")\n",
    "    if user_input.lower() in [\"exit\", \"quit\", \"bye\"]:\n",
    "        print(\"👋 대화를 종료합니다.\")\n",
    "        break\n",
    "\n",
    "    current_state = chatbot_turn(current_state, user_input)"
   ]
  },
  {
   "cell_type": "markdown",
   "metadata": {},
   "source": [
    "### ✨ **옵션: 단일 입력용 셀 (한 번씩 실험하기 좋아)**"
   ]
  },
  {
   "cell_type": "code",
   "execution_count": null,
   "metadata": {},
   "outputs": [],
   "source": [
    "# # 💡 한 번만 테스트하고 싶을 때\n",
    "# user_input = \"do you have any snacks under $2?\"\n",
    "# current_state = chatbot_turn(current_state, user_input)"
   ]
  },
  {
   "cell_type": "markdown",
   "metadata": {},
   "source": [
    "## 💬 **자유롭게 대화해보세요!**"
   ]
  },
  {
   "cell_type": "markdown",
   "metadata": {},
   "source": [
    "실제 챗봇과 대화하며 다음과 같은 요청을 해볼 수 있습니다:\n",
    "\n",
    "- \"show me popcorn brands\"\n",
    "\n",
    "- \"compare milk by price\"\n",
    "\n",
    "- \"what's in my cart?\"\n",
    "\n",
    "입력을 종료하고 싶다면: `\"exit\"`, `\"quit\"` 또는 `\"bye\"`를 입력하세요."
   ]
  },
  {
   "cell_type": "markdown",
   "metadata": {},
   "source": [
    "# 📘 **Step 7. 프로젝트 요약 (장점 / 확장성 / 한계)**"
   ]
  },
  {
   "cell_type": "markdown",
   "metadata": {},
   "source": [
    "## ✅ **프로젝트 요약**"
   ]
  },
  {
   "cell_type": "markdown",
   "metadata": {},
   "source": [
    "### 🎯 **주요 장점**"
   ]
  },
  {
   "cell_type": "markdown",
   "metadata": {},
   "source": [
    "1. **자연어 인터페이스**\n",
    "\n",
    "- 사용자는 카테고리나 제품명을 정확히 몰라도, 챗봇이 유사도 검색(Fuzzy Matching)을 통해 알아서 찾아줍니다.\n",
    "\n",
    "2. **툴 기반 처리 구조**  \n",
    "\n",
    "- LLM은 도구 선택만 판단하고, 실제 행동은 툴이 수행함 → 안정적이고 예측 가능한 흐름\n",
    "\n",
    "3. **LangGraph 사용**  \n",
    "\n",
    "- 대화 흐름을 시각적으로 관리할 수 있고, Node/Edge 단위로 흐름을 정제할 수 있음\n",
    "\n",
    "4. **장바구니 상태 지속 유지**  \n",
    "\n",
    "- 이전 대화에서의 장바구니 상태가 다음 요청에서도 반영되어 \"대화가 이어지는 느낌\"을 줍니다"
   ]
  },
  {
   "cell_type": "markdown",
   "metadata": {},
   "source": [
    "### 🚀 **확장 가능성**"
   ]
  },
  {
   "cell_type": "markdown",
   "metadata": {},
   "source": [
    "- 🛍 **재고 정보 연동**: 실시간 재고 API 연동 시, 실제 마트와 연결 가능\n",
    "\n",
    "- 🗣 **음성 I/O 연계**: Whisper + TTS 연결로 \"대화하는 마트봇\" 제작 가능\n",
    "\n",
    "- 📱 **UI 프론트엔드**: React, Streamlit 등과 연동하여 챗봇 인터페이스 구성 가능\n",
    "\n",
    "- 🔄 **추천 시스템 연결**: 이전 구매 이력 기반 추천 시스템 추가 가능\n",
    "\n",
    "- 😁 **사용자 선호도 반영**: 미리 사용자의 선호도를 반영하여 간결한 대화 가능"
   ]
  },
  {
   "cell_type": "markdown",
   "metadata": {},
   "source": [
    "### ⚠️ **한계점 및 보완 방향**"
   ]
  },
  {
   "cell_type": "markdown",
   "metadata": {},
   "source": [
    "- **툴 호출 결과 출력이 텍스트 기반이라 정보 구조화 부족**  \n",
    "향후 HTML Table, 시각화 추가 필요\n",
    "\n",
    "- **멀티턴 상태 관리의 한계**  \n",
    "예: \"그거 2개 더 담아줘\" 같은 참조 발화 처리 미지원\n",
    "\n",
    "- **반응 속도**  \n",
    "LangGraph + LLM Tool 호출 간 처리 시간이 조금 길 수 있음 → 비동기 최적화 고려 가능"
   ]
  },
  {
   "cell_type": "markdown",
   "metadata": {},
   "source": [
    "---\n",
    "\n",
    "🎉 감사합니다! 이 노트북을 통해 LangGraph 기반 챗봇이 어떻게 작동하는지 이해하고 직접 체험해보셨길 바랍니다."
   ]
  }
 ],
 "metadata": {
  "kernelspec": {
   "display_name": "kaggle-genai-intensive-course-N9wcoyOR-py3.12",
   "language": "python",
   "name": "python3"
  },
  "language_info": {
   "codemirror_mode": {
    "name": "ipython",
    "version": 3
   },
   "file_extension": ".py",
   "mimetype": "text/x-python",
   "name": "python",
   "nbconvert_exporter": "python",
   "pygments_lexer": "ipython3",
   "version": "3.12.9"
  }
 },
 "nbformat": 4,
 "nbformat_minor": 2
}
