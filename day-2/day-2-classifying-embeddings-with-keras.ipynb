{
 "cells": [
  {
   "cell_type": "markdown",
   "id": "2e2f3d61",
   "metadata": {
    "id": "v0WeWbFNkUSz",
    "papermill": {
     "duration": 0.008957,
     "end_time": "2025-04-02T15:56:12.694722",
     "exception": false,
     "start_time": "2025-04-02T15:56:12.685765",
     "status": "completed"
    },
    "tags": []
   },
   "source": [
    "##### Copyright 2025 Google LLC."
   ]
  },
  {
   "cell_type": "code",
   "execution_count": 1,
   "id": "9828197c",
   "metadata": {
    "_kg_hide-input": true,
    "cellView": "form",
    "execution": {
     "iopub.execute_input": "2025-04-02T15:56:12.713174Z",
     "iopub.status.busy": "2025-04-02T15:56:12.712660Z",
     "iopub.status.idle": "2025-04-02T15:56:12.718794Z",
     "shell.execute_reply": "2025-04-02T15:56:12.717687Z"
    },
    "id": "Aqwsgz9lkUst",
    "jupyter": {
     "source_hidden": true
    },
    "papermill": {
     "duration": 0.01811,
     "end_time": "2025-04-02T15:56:12.720874",
     "exception": false,
     "start_time": "2025-04-02T15:56:12.702764",
     "status": "completed"
    },
    "tags": []
   },
   "outputs": [],
   "source": [
    "# @title Licensed under the Apache License, Version 2.0 (the \"License\");\n",
    "# you may not use this file except in compliance with the License.\n",
    "# You may obtain a copy of the License at\n",
    "#\n",
    "# https://www.apache.org/licenses/LICENSE-2.0\n",
    "#\n",
    "# Unless required by applicable law or agreed to in writing, software\n",
    "# distributed under the License is distributed on an \"AS IS\" BASIS,\n",
    "# WITHOUT WARRANTIES OR CONDITIONS OF ANY KIND, either express or implied.\n",
    "# See the License for the specific language governing permissions and\n",
    "# limitations under the License."
   ]
  },
  {
   "cell_type": "markdown",
   "id": "1226d48f",
   "metadata": {
    "id": "bhT1u-Pof10V",
    "papermill": {
     "duration": 0.007539,
     "end_time": "2025-04-02T15:56:12.737326",
     "exception": false,
     "start_time": "2025-04-02T15:56:12.729787",
     "status": "completed"
    },
    "tags": []
   },
   "source": [
    "# Day 2 - Classifying embeddings with Keras and the Gemini API\n",
    "\n",
    "## Overview\n",
    "\n",
    "Welcome back to the Kaggle 5-day Generative AI course. In this notebook, you'll learn to use the embeddings produced by the Gemini API to train a model that can classify newsgroup posts into the categories (the newsgroup itself) from the post contents.\n",
    "\n",
    "This technique uses the Gemini API's embeddings as input, avoiding the need to train on text input directly, and as a result it is able to perform quite well using relatively few examples compared to training a text model from scratch.\n",
    "\n",
    "## For help\n",
    "\n",
    "**Common issues are covered in the [FAQ and troubleshooting guide](https://www.kaggle.com/code/markishere/day-0-troubleshooting-and-faqs).**\n"
   ]
  },
  {
   "cell_type": "code",
   "execution_count": 2,
   "id": "ac683d24",
   "metadata": {
    "execution": {
     "iopub.execute_input": "2025-04-02T15:56:12.754555Z",
     "iopub.status.busy": "2025-04-02T15:56:12.754148Z",
     "iopub.status.idle": "2025-04-02T15:56:31.861250Z",
     "shell.execute_reply": "2025-04-02T15:56:31.859722Z"
    },
    "id": "FXq0ygI3BCdQ",
    "papermill": {
     "duration": 19.118951,
     "end_time": "2025-04-02T15:56:31.864041",
     "exception": false,
     "start_time": "2025-04-02T15:56:12.745090",
     "status": "completed"
    },
    "tags": []
   },
   "outputs": [],
   "source": [
    "!pip uninstall -qqy jupyterlab kfp 2>/dev/null  # Remove unused conflicting packages\n",
    "!pip install -U -q \"google-genai==1.7.0\""
   ]
  },
  {
   "cell_type": "code",
   "execution_count": 3,
   "id": "e5aade45",
   "metadata": {
    "execution": {
     "iopub.execute_input": "2025-04-02T15:56:31.882578Z",
     "iopub.status.busy": "2025-04-02T15:56:31.882171Z",
     "iopub.status.idle": "2025-04-02T15:56:33.296076Z",
     "shell.execute_reply": "2025-04-02T15:56:33.294892Z"
    },
    "id": "XiJjB2vWCQJP",
    "papermill": {
     "duration": 1.426556,
     "end_time": "2025-04-02T15:56:33.298725",
     "exception": false,
     "start_time": "2025-04-02T15:56:31.872169",
     "status": "completed"
    },
    "tags": []
   },
   "outputs": [
    {
     "data": {
      "text/plain": [
       "'1.7.0'"
      ]
     },
     "execution_count": 3,
     "metadata": {},
     "output_type": "execute_result"
    }
   ],
   "source": [
    "from google import genai\n",
    "from google.genai import types\n",
    "\n",
    "genai.__version__"
   ]
  },
  {
   "cell_type": "markdown",
   "id": "63b9982b",
   "metadata": {
    "id": "_mwJYXpElYJc",
    "papermill": {
     "duration": 0.007783,
     "end_time": "2025-04-02T15:56:33.315245",
     "exception": false,
     "start_time": "2025-04-02T15:56:33.307462",
     "status": "completed"
    },
    "tags": []
   },
   "source": [
    "### Set up your API key\n",
    "\n",
    "To run the following cell, your API key must be stored it in a [Kaggle secret](https://www.kaggle.com/discussions/product-feedback/114053) named `GOOGLE_API_KEY`.\n",
    "\n",
    "If you don't already have an API key, you can grab one from [AI Studio](https://aistudio.google.com/app/apikey). You can find [detailed instructions in the docs](https://ai.google.dev/gemini-api/docs/api-key).\n",
    "\n",
    "To make the key available through Kaggle secrets, choose `Secrets` from the `Add-ons` menu and follow the instructions to add your key or enable it for this notebook."
   ]
  },
  {
   "cell_type": "code",
   "execution_count": 4,
   "id": "dff685fa",
   "metadata": {
    "execution": {
     "iopub.execute_input": "2025-04-02T15:56:33.334391Z",
     "iopub.status.busy": "2025-04-02T15:56:33.333412Z",
     "iopub.status.idle": "2025-04-02T15:56:33.728605Z",
     "shell.execute_reply": "2025-04-02T15:56:33.727564Z"
    },
    "id": "tayrk_A2lZ7A",
    "papermill": {
     "duration": 0.407691,
     "end_time": "2025-04-02T15:56:33.731772",
     "exception": false,
     "start_time": "2025-04-02T15:56:33.324081",
     "status": "completed"
    },
    "tags": []
   },
   "outputs": [],
   "source": [
    "from kaggle_secrets import UserSecretsClient\n",
    "\n",
    "GOOGLE_API_KEY = UserSecretsClient().get_secret(\"GOOGLE_API_KEY\")\n",
    "\n",
    "client = genai.Client(api_key=GOOGLE_API_KEY)"
   ]
  },
  {
   "attachments": {
    "d3939d80-b913-4db1-bd49-77f6183bf86e.png": {
     "image/png": "[encoded data removed]"
    }
   },
   "cell_type": "markdown",
   "id": "5a74e2cd",
   "metadata": {
    "id": "c79728739642",
    "papermill": {
     "duration": 0.007793,
     "end_time": "2025-04-02T15:56:33.751574",
     "exception": false,
     "start_time": "2025-04-02T15:56:33.743781",
     "status": "completed"
    },
    "tags": []
   },
   "source": [
    "If you received an error response along the lines of `No user secrets exist for kernel id ...`, then you need to add your API key via `Add-ons`, `Secrets` **and** enable it.\n",
    "\n",
    "![Screenshot of the checkbox to enable GOOGLE_API_KEY secret](https://storage.googleapis.com/kaggle-media/Images/5gdai_sc_3.png)"
   ]
  },
  {
   "cell_type": "markdown",
   "id": "ffdb51f3",
   "metadata": {
    "id": "C5B9sWq0hNEV",
    "papermill": {
     "duration": 0.007652,
     "end_time": "2025-04-02T15:56:33.767378",
     "exception": false,
     "start_time": "2025-04-02T15:56:33.759726",
     "status": "completed"
    },
    "tags": []
   },
   "source": [
    "## Dataset\n",
    "\n",
    "The [20 Newsgroups Text Dataset](https://scikit-learn.org/0.19/datasets/twenty_newsgroups.html) contains 18,000 newsgroups posts on 20 topics divided into training and test sets. The split between the training and test datasets are based on messages posted before and after a specific date. For this tutorial, you will use sampled subsets of the training and test sets, and perform some processing using Pandas."
   ]
  },
  {
   "cell_type": "code",
   "execution_count": 5,
   "id": "497a5068",
   "metadata": {
    "execution": {
     "iopub.execute_input": "2025-04-02T15:56:33.785529Z",
     "iopub.status.busy": "2025-04-02T15:56:33.784632Z",
     "iopub.status.idle": "2025-04-02T15:56:44.375168Z",
     "shell.execute_reply": "2025-04-02T15:56:44.373924Z"
    },
    "id": "jDoKis4om-Ea",
    "papermill": {
     "duration": 10.602586,
     "end_time": "2025-04-02T15:56:44.378042",
     "exception": false,
     "start_time": "2025-04-02T15:56:33.775456",
     "status": "completed"
    },
    "tags": []
   },
   "outputs": [
    {
     "data": {
      "text/plain": [
       "['alt.atheism',\n",
       " 'comp.graphics',\n",
       " 'comp.os.ms-windows.misc',\n",
       " 'comp.sys.ibm.pc.hardware',\n",
       " 'comp.sys.mac.hardware',\n",
       " 'comp.windows.x',\n",
       " 'misc.forsale',\n",
       " 'rec.autos',\n",
       " 'rec.motorcycles',\n",
       " 'rec.sport.baseball',\n",
       " 'rec.sport.hockey',\n",
       " 'sci.crypt',\n",
       " 'sci.electronics',\n",
       " 'sci.med',\n",
       " 'sci.space',\n",
       " 'soc.religion.christian',\n",
       " 'talk.politics.guns',\n",
       " 'talk.politics.mideast',\n",
       " 'talk.politics.misc',\n",
       " 'talk.religion.misc']"
      ]
     },
     "execution_count": 5,
     "metadata": {},
     "output_type": "execute_result"
    }
   ],
   "source": [
    "from sklearn.datasets import fetch_20newsgroups\n",
    "\n",
    "newsgroups_train = fetch_20newsgroups(subset=\"train\")\n",
    "newsgroups_test = fetch_20newsgroups(subset=\"test\")\n",
    "\n",
    "# View list of class names for dataset\n",
    "newsgroups_train.target_names"
   ]
  },
  {
   "cell_type": "markdown",
   "id": "31a0db49",
   "metadata": {
    "id": "hDz9MjkNl_FD",
    "papermill": {
     "duration": 0.0079,
     "end_time": "2025-04-02T15:56:44.394164",
     "exception": false,
     "start_time": "2025-04-02T15:56:44.386264",
     "status": "completed"
    },
    "tags": []
   },
   "source": [
    "Here is an example of what a record from the training set looks like."
   ]
  },
  {
   "cell_type": "code",
   "execution_count": 6,
   "id": "6c575c92",
   "metadata": {
    "execution": {
     "iopub.execute_input": "2025-04-02T15:56:44.411983Z",
     "iopub.status.busy": "2025-04-02T15:56:44.411561Z",
     "iopub.status.idle": "2025-04-02T15:56:44.417368Z",
     "shell.execute_reply": "2025-04-02T15:56:44.416275Z"
    },
    "id": "FPq-56AimOPX",
    "papermill": {
     "duration": 0.017637,
     "end_time": "2025-04-02T15:56:44.419895",
     "exception": false,
     "start_time": "2025-04-02T15:56:44.402258",
     "status": "completed"
    },
    "tags": []
   },
   "outputs": [
    {
     "name": "stdout",
     "output_type": "stream",
     "text": [
      "From: lerxst@wam.umd.edu (where's my thing)\n",
      "Subject: WHAT car is this!?\n",
      "Nntp-Posting-Host: rac3.wam.umd.edu\n",
      "Organization: University of Maryland, College Park\n",
      "Lines: 15\n",
      "\n",
      " I was wondering if anyone out there could enlighten me on this car I saw\n",
      "the other day. It was a 2-door sports car, looked to be from the late 60s/\n",
      "early 70s. It was called a Bricklin. The doors were really small. In addition,\n",
      "the front bumper was separate from the rest of the body. This is \n",
      "all I know. If anyone can tellme a model name, engine specs, years\n",
      "of production, where this car is made, history, or whatever info you\n",
      "have on this funky looking car, please e-mail.\n",
      "\n",
      "Thanks,\n",
      "- IL\n",
      "   ---- brought to you by your neighborhood Lerxst ----\n",
      "\n",
      "\n",
      "\n",
      "\n",
      "\n"
     ]
    }
   ],
   "source": [
    "print(newsgroups_train.data[0])"
   ]
  },
  {
   "cell_type": "markdown",
   "id": "3808b206",
   "metadata": {
    "id": "A9-DD7wgCx8j",
    "papermill": {
     "duration": 0.007748,
     "end_time": "2025-04-02T15:56:44.436036",
     "exception": false,
     "start_time": "2025-04-02T15:56:44.428288",
     "status": "completed"
    },
    "tags": []
   },
   "source": [
    "Start by preprocessing the data for this tutorial in a Pandas dataframe. To remove any sensitive information like names and email addresses, you will take only the subject and body of each message. This is an optional step that transforms the input data into more generic text, rather than email posts, so that it will work in other contexts."
   ]
  },
  {
   "cell_type": "code",
   "execution_count": 7,
   "id": "95927b1d",
   "metadata": {
    "execution": {
     "iopub.execute_input": "2025-04-02T15:56:44.453922Z",
     "iopub.status.busy": "2025-04-02T15:56:44.453493Z",
     "iopub.status.idle": "2025-04-02T15:56:45.293416Z",
     "shell.execute_reply": "2025-04-02T15:56:45.291784Z"
    },
    "id": "urpLwp3UmPF3",
    "papermill": {
     "duration": 0.853037,
     "end_time": "2025-04-02T15:56:45.297162",
     "exception": false,
     "start_time": "2025-04-02T15:56:44.444125",
     "status": "completed"
    },
    "tags": []
   },
   "outputs": [],
   "source": [
    "import email\n",
    "import re\n",
    "\n",
    "import pandas as pd\n",
    "\n",
    "\n",
    "def preprocess_newsgroup_row(data):\n",
    "    # Extract only the subject and body\n",
    "    msg = email.message_from_string(data)\n",
    "    text = f\"{msg['Subject']}\\n\\n{msg.get_payload()}\"\n",
    "    # Strip any remaining email addresses\n",
    "    text = re.sub(r\"[\\w\\.-]+@[\\w\\.-]+\", \"\", text)\n",
    "    # Truncate each entry to 5,000 characters\n",
    "    text = text[:5000]\n",
    "\n",
    "    return text.strip()  # Self : Add the strip()\n",
    "\n",
    "\n",
    "def preprocess_newsgroup_data(newsgroup_dataset):\n",
    "    # Put data points into dataframe\n",
    "    df = pd.DataFrame(\n",
    "        {\"Text\": newsgroup_dataset.data, \"Label\": newsgroup_dataset.target}\n",
    "    )\n",
    "    # Clean up the text\n",
    "    df[\"Text\"] = df[\"Text\"].apply(preprocess_newsgroup_row)\n",
    "    # Match label to target name index\n",
    "    df[\"Class Name\"] = df[\"Label\"].map(lambda l: newsgroup_dataset.target_names[l])\n",
    "\n",
    "    return df"
   ]
  },
  {
   "cell_type": "code",
   "execution_count": 8,
   "id": "65096d8f",
   "metadata": {
    "execution": {
     "iopub.execute_input": "2025-04-02T15:56:45.321830Z",
     "iopub.status.busy": "2025-04-02T15:56:45.321254Z",
     "iopub.status.idle": "2025-04-02T15:56:49.154504Z",
     "shell.execute_reply": "2025-04-02T15:56:49.153248Z"
    },
    "id": "JMKddQdNnAOV",
    "papermill": {
     "duration": 3.847161,
     "end_time": "2025-04-02T15:56:49.156930",
     "exception": false,
     "start_time": "2025-04-02T15:56:45.309769",
     "status": "completed"
    },
    "tags": []
   },
   "outputs": [
    {
     "data": {
      "text/html": [
       "<div>\n",
       "<style scoped>\n",
       "    .dataframe tbody tr th:only-of-type {\n",
       "        vertical-align: middle;\n",
       "    }\n",
       "\n",
       "    .dataframe tbody tr th {\n",
       "        vertical-align: top;\n",
       "    }\n",
       "\n",
       "    .dataframe thead th {\n",
       "        text-align: right;\n",
       "    }\n",
       "</style>\n",
       "<table border=\"1\" class=\"dataframe\">\n",
       "  <thead>\n",
       "    <tr style=\"text-align: right;\">\n",
       "      <th></th>\n",
       "      <th>Text</th>\n",
       "      <th>Label</th>\n",
       "      <th>Class Name</th>\n",
       "    </tr>\n",
       "  </thead>\n",
       "  <tbody>\n",
       "    <tr>\n",
       "      <th>0</th>\n",
       "      <td>WHAT car is this!?\\n\\n I was wondering if anyo...</td>\n",
       "      <td>7</td>\n",
       "      <td>rec.autos</td>\n",
       "    </tr>\n",
       "    <tr>\n",
       "      <th>1</th>\n",
       "      <td>SI Clock Poll - Final Call\\n\\nA fair number of...</td>\n",
       "      <td>4</td>\n",
       "      <td>comp.sys.mac.hardware</td>\n",
       "    </tr>\n",
       "    <tr>\n",
       "      <th>2</th>\n",
       "      <td>PB questions...\\n\\nwell folks, my mac plus fin...</td>\n",
       "      <td>4</td>\n",
       "      <td>comp.sys.mac.hardware</td>\n",
       "    </tr>\n",
       "    <tr>\n",
       "      <th>3</th>\n",
       "      <td>Re: Weitek P9000 ?\\n\\nRobert J.C. Kyanko () wr...</td>\n",
       "      <td>1</td>\n",
       "      <td>comp.graphics</td>\n",
       "    </tr>\n",
       "    <tr>\n",
       "      <th>4</th>\n",
       "      <td>Re: Shuttle Launch Question\\n\\nFrom article &lt;&gt;...</td>\n",
       "      <td>14</td>\n",
       "      <td>sci.space</td>\n",
       "    </tr>\n",
       "  </tbody>\n",
       "</table>\n",
       "</div>"
      ],
      "text/plain": [
       "                                                Text  Label  \\\n",
       "0  WHAT car is this!?\\n\\n I was wondering if anyo...      7   \n",
       "1  SI Clock Poll - Final Call\\n\\nA fair number of...      4   \n",
       "2  PB questions...\\n\\nwell folks, my mac plus fin...      4   \n",
       "3  Re: Weitek P9000 ?\\n\\nRobert J.C. Kyanko () wr...      1   \n",
       "4  Re: Shuttle Launch Question\\n\\nFrom article <>...     14   \n",
       "\n",
       "              Class Name  \n",
       "0              rec.autos  \n",
       "1  comp.sys.mac.hardware  \n",
       "2  comp.sys.mac.hardware  \n",
       "3          comp.graphics  \n",
       "4              sci.space  "
      ]
     },
     "execution_count": 8,
     "metadata": {},
     "output_type": "execute_result"
    }
   ],
   "source": [
    "# Apply preprocessing function to training and test datasets\n",
    "df_train = preprocess_newsgroup_data(newsgroups_train)\n",
    "df_test = preprocess_newsgroup_data(newsgroups_test)\n",
    "\n",
    "df_train.head()"
   ]
  },
  {
   "cell_type": "code",
   "execution_count": 9,
   "id": "d1b5f418",
   "metadata": {
    "execution": {
     "iopub.execute_input": "2025-04-02T15:56:49.176057Z",
     "iopub.status.busy": "2025-04-02T15:56:49.175659Z",
     "iopub.status.idle": "2025-04-02T15:56:49.181642Z",
     "shell.execute_reply": "2025-04-02T15:56:49.180472Z"
    },
    "papermill": {
     "duration": 0.017805,
     "end_time": "2025-04-02T15:56:49.183797",
     "exception": false,
     "start_time": "2025-04-02T15:56:49.165992",
     "status": "completed"
    },
    "tags": []
   },
   "outputs": [
    {
     "name": "stdout",
     "output_type": "stream",
     "text": [
      "WHAT car is this!?\n",
      "\n",
      " I was wondering if anyone out there could enlighten me on this car I saw\n",
      "the other day. It was a 2-door sports car, looked to be from the late 60s/\n",
      "early 70s. It was called a Bricklin. The doors were really small. In addition,\n",
      "the front bumper was separate from the rest of the body. This is \n",
      "all I know. If anyone can tellme a model name, engine specs, years\n",
      "of production, where this car is made, history, or whatever info you\n",
      "have on this funky looking car, please e-mail.\n",
      "\n",
      "Thanks,\n",
      "- IL\n",
      "   ---- brought to you by your neighborhood Lerxst ----\n"
     ]
    }
   ],
   "source": [
    "# Self\n",
    "print(df_train.loc[0, \"Text\"])"
   ]
  },
  {
   "cell_type": "markdown",
   "id": "cd8ff42e",
   "metadata": {
    "id": "ogEGbg5XDv-T",
    "papermill": {
     "duration": 0.007972,
     "end_time": "2025-04-02T15:56:49.200340",
     "exception": false,
     "start_time": "2025-04-02T15:56:49.192368",
     "status": "completed"
    },
    "tags": []
   },
   "source": [
    "Next, you will sample some of the data by taking 100 data points in the training dataset, and dropping a few of the categories to run through this tutorial. Choose the science categories to compare."
   ]
  },
  {
   "cell_type": "code",
   "execution_count": 10,
   "id": "b263231b",
   "metadata": {
    "execution": {
     "iopub.execute_input": "2025-04-02T15:56:49.220328Z",
     "iopub.status.busy": "2025-04-02T15:56:49.219936Z",
     "iopub.status.idle": "2025-04-02T15:56:49.226927Z",
     "shell.execute_reply": "2025-04-02T15:56:49.225688Z"
    },
    "id": "C2N7xXhJohLR",
    "papermill": {
     "duration": 0.019284,
     "end_time": "2025-04-02T15:56:49.229288",
     "exception": false,
     "start_time": "2025-04-02T15:56:49.210004",
     "status": "completed"
    },
    "tags": []
   },
   "outputs": [],
   "source": [
    "def sample_data(df, num_samples, classes_to_keep):\n",
    "    # Sample rows, selecting num_samples of each Label.\n",
    "    df = (\n",
    "        df.groupby(\"Label\")[df.columns]\n",
    "        .apply(lambda x: x.sample(num_samples))\n",
    "        .reset_index(drop=True)\n",
    "    )\n",
    "\n",
    "    df = df[df[\"Class Name\"].str.contains(classes_to_keep)]\n",
    "\n",
    "    # We have fewer categories now, so re-calibrate the label encoding.\n",
    "    df[\"Class Name\"] = df[\"Class Name\"].astype(\"category\")\n",
    "    df[\"Encoded Label\"] = df[\"Class Name\"].cat.codes\n",
    "\n",
    "    return df"
   ]
  },
  {
   "cell_type": "code",
   "execution_count": 11,
   "id": "1b28fba7",
   "metadata": {
    "execution": {
     "iopub.execute_input": "2025-04-02T15:56:49.247720Z",
     "iopub.status.busy": "2025-04-02T15:56:49.247318Z",
     "iopub.status.idle": "2025-04-02T15:56:49.293608Z",
     "shell.execute_reply": "2025-04-02T15:56:49.292519Z"
    },
    "id": "jS2g_ZGupBUb",
    "papermill": {
     "duration": 0.058593,
     "end_time": "2025-04-02T15:56:49.296322",
     "exception": false,
     "start_time": "2025-04-02T15:56:49.237729",
     "status": "completed"
    },
    "tags": []
   },
   "outputs": [],
   "source": [
    "TRAIN_NUM_SAMPLES = 100\n",
    "TEST_NUM_SAMPLES = 25\n",
    "# Class name should contain 'sci' to keep science categories.\n",
    "# Try different labels from the data - see newsgroups_train.target_names\n",
    "CLASSES_TO_KEEP = \"sci\"\n",
    "\n",
    "df_train = sample_data(df_train, TRAIN_NUM_SAMPLES, CLASSES_TO_KEEP)\n",
    "df_test = sample_data(df_test, TEST_NUM_SAMPLES, CLASSES_TO_KEEP)"
   ]
  },
  {
   "cell_type": "code",
   "execution_count": 12,
   "id": "d59ad1c9",
   "metadata": {
    "execution": {
     "iopub.execute_input": "2025-04-02T15:56:49.316267Z",
     "iopub.status.busy": "2025-04-02T15:56:49.315448Z",
     "iopub.status.idle": "2025-04-02T15:56:49.328267Z",
     "shell.execute_reply": "2025-04-02T15:56:49.327012Z"
    },
    "id": "j04TMPY8rV5q",
    "papermill": {
     "duration": 0.026259,
     "end_time": "2025-04-02T15:56:49.331648",
     "exception": false,
     "start_time": "2025-04-02T15:56:49.305389",
     "status": "completed"
    },
    "tags": []
   },
   "outputs": [
    {
     "data": {
      "text/plain": [
       "Class Name\n",
       "sci.crypt          100\n",
       "sci.electronics    100\n",
       "sci.med            100\n",
       "sci.space          100\n",
       "Name: count, dtype: int64"
      ]
     },
     "execution_count": 12,
     "metadata": {},
     "output_type": "execute_result"
    }
   ],
   "source": [
    "df_train.value_counts(\"Class Name\")"
   ]
  },
  {
   "cell_type": "code",
   "execution_count": 13,
   "id": "46c2988d",
   "metadata": {
    "execution": {
     "iopub.execute_input": "2025-04-02T15:56:49.352346Z",
     "iopub.status.busy": "2025-04-02T15:56:49.351951Z",
     "iopub.status.idle": "2025-04-02T15:56:49.361336Z",
     "shell.execute_reply": "2025-04-02T15:56:49.360236Z"
    },
    "id": "qMsnfkVDsJlU",
    "papermill": {
     "duration": 0.021616,
     "end_time": "2025-04-02T15:56:49.363504",
     "exception": false,
     "start_time": "2025-04-02T15:56:49.341888",
     "status": "completed"
    },
    "tags": []
   },
   "outputs": [
    {
     "data": {
      "text/plain": [
       "Class Name\n",
       "sci.crypt          25\n",
       "sci.electronics    25\n",
       "sci.med            25\n",
       "sci.space          25\n",
       "Name: count, dtype: int64"
      ]
     },
     "execution_count": 13,
     "metadata": {},
     "output_type": "execute_result"
    }
   ],
   "source": [
    "df_test.value_counts(\"Class Name\")"
   ]
  },
  {
   "cell_type": "markdown",
   "id": "72ca1b3f",
   "metadata": {
    "id": "Kr-WlKzXjYWn",
    "papermill": {
     "duration": 0.008351,
     "end_time": "2025-04-02T15:56:49.380579",
     "exception": false,
     "start_time": "2025-04-02T15:56:49.372228",
     "status": "completed"
    },
    "tags": []
   },
   "source": [
    "## Create the embeddings\n",
    "\n",
    "In this section, you will generate embeddings for each piece of text using the Gemini API embeddings endpoint. To learn more about embeddings, visit the [embeddings guide](https://ai.google.dev/docs/embeddings_guide).\n",
    "\n",
    "**NOTE**: Embeddings are computed one at a time, so large sample sizes can take a long time!"
   ]
  },
  {
   "cell_type": "markdown",
   "id": "af575238",
   "metadata": {
    "id": "yPECMeE2xYA_",
    "papermill": {
     "duration": 0.009182,
     "end_time": "2025-04-02T15:56:49.398459",
     "exception": false,
     "start_time": "2025-04-02T15:56:49.389277",
     "status": "completed"
    },
    "tags": []
   },
   "source": [
    "### Task types\n",
    "\n",
    "The `text-embedding-004` model supports a task type parameter that generates embeddings tailored for the specific task.\n",
    "\n",
    "Task Type | Description\n",
    "---       | ---\n",
    "RETRIEVAL_QUERY\t| Specifies the given text is a query in a search/retrieval setting.\n",
    "RETRIEVAL_DOCUMENT | Specifies the given text is a document in a search/retrieval setting.\n",
    "SEMANTIC_SIMILARITY\t| Specifies the given text will be used for Semantic Textual Similarity (STS).\n",
    "CLASSIFICATION\t| Specifies that the embeddings will be used for classification.\n",
    "CLUSTERING\t| Specifies that the embeddings will be used for clustering.\n",
    "FACT_VERIFICATION | Specifies that the given text will be used for fact verification.\n",
    "\n",
    "For this example you will be performing classification."
   ]
  },
  {
   "cell_type": "code",
   "execution_count": 14,
   "id": "ee56d72e",
   "metadata": {
    "execution": {
     "iopub.execute_input": "2025-04-02T15:56:49.417474Z",
     "iopub.status.busy": "2025-04-02T15:56:49.417107Z",
     "iopub.status.idle": "2025-04-02T15:56:49.612098Z",
     "shell.execute_reply": "2025-04-02T15:56:49.611052Z"
    },
    "id": "MTBGKkPQsotz",
    "papermill": {
     "duration": 0.207582,
     "end_time": "2025-04-02T15:56:49.614730",
     "exception": false,
     "start_time": "2025-04-02T15:56:49.407148",
     "status": "completed"
    },
    "tags": []
   },
   "outputs": [],
   "source": [
    "from google.api_core import retry\n",
    "import tqdm\n",
    "from tqdm.rich import tqdm as tqdmr\n",
    "import warnings\n",
    "\n",
    "# Add tqdm to Pandas...\n",
    "tqdmr.pandas()\n",
    "\n",
    "# ...But suppress the experimental warning.\n",
    "warnings.filterwarnings(\"ignore\", category=tqdm.TqdmExperimentalWarning)\n",
    "\n",
    "# Define a helper to retry when per-minute quota is reached.\n",
    "is_retriable = lambda e: (isinstance(e, genai.errors.APIError) and e.code in {429, 503})\n",
    "\n",
    "@retry.Retry(predicate=is_retriable, timeout=300.0)\n",
    "def embed_fn(text: str) -> list[float]:\n",
    "    # You will be performing classification, so set task_type accordingly.\n",
    "    response = client.models.embed_content(\n",
    "        model=\"models/text-embedding-004\",\n",
    "        contents=text,\n",
    "        config=types.EmbedContentConfig(\n",
    "            task_type=\"classification\",\n",
    "        ),\n",
    "    )\n",
    "\n",
    "    return response.embeddings[0].values\n",
    "\n",
    "\n",
    "def create_embeddings(df):\n",
    "    df[\"Embeddings\"] = df[\"Text\"].progress_apply(embed_fn)\n",
    "    return df"
   ]
  },
  {
   "cell_type": "markdown",
   "id": "fd132914",
   "metadata": {
    "id": "HVDwY8F2kW2O",
    "papermill": {
     "duration": 0.008797,
     "end_time": "2025-04-02T15:56:49.632796",
     "exception": false,
     "start_time": "2025-04-02T15:56:49.623999",
     "status": "completed"
    },
    "tags": []
   },
   "source": [
    "This code is optimised for clarity, and is not particularly fast. It is left as an exercise for the reader to implement [batch](https://ai.google.dev/api/embeddings#method:-models.batchembedcontents) or parallel/asynchronous embedding generation. Running this step will take some time."
   ]
  },
  {
   "cell_type": "code",
   "execution_count": 15,
   "id": "fde99ba4",
   "metadata": {
    "execution": {
     "iopub.execute_input": "2025-04-02T15:56:49.652658Z",
     "iopub.status.busy": "2025-04-02T15:56:49.652084Z",
     "iopub.status.idle": "2025-04-02T16:03:02.034064Z",
     "shell.execute_reply": "2025-04-02T16:03:02.032907Z"
    },
    "id": "AH0yrHUHtHtw",
    "papermill": {
     "duration": 376.975109,
     "end_time": "2025-04-02T16:03:06.617218",
     "exception": false,
     "start_time": "2025-04-02T15:56:49.642109",
     "status": "completed"
    },
    "tags": []
   },
   "outputs": [
    {
     "data": {
      "application/vnd.jupyter.widget-view+json": {
       "model_id": "be098aae015b446dba8fbcbe6d57be85",
       "version_major": 2,
       "version_minor": 0
      },
      "text/plain": [
       "Output()"
      ]
     },
     "metadata": {},
     "output_type": "display_data"
    },
    {
     "data": {
      "text/html": [
       "<pre style=\"white-space:pre;overflow-x:auto;line-height:normal;font-family:Menlo,'DejaVu Sans Mono',consolas,'Courier New',monospace\"></pre>\n"
      ],
      "text/plain": []
     },
     "metadata": {},
     "output_type": "display_data"
    },
    {
     "data": {
      "text/html": [
       "<pre style=\"white-space:pre;overflow-x:auto;line-height:normal;font-family:Menlo,'DejaVu Sans Mono',consolas,'Courier New',monospace\">\n",
       "</pre>\n"
      ],
      "text/plain": [
       "\n"
      ]
     },
     "metadata": {},
     "output_type": "display_data"
    },
    {
     "data": {
      "application/vnd.jupyter.widget-view+json": {
       "model_id": "36f24828d62d423695aad7c0cf7fe105",
       "version_major": 2,
       "version_minor": 0
      },
      "text/plain": [
       "Output()"
      ]
     },
     "metadata": {},
     "output_type": "display_data"
    },
    {
     "data": {
      "text/html": [
       "<pre style=\"white-space:pre;overflow-x:auto;line-height:normal;font-family:Menlo,'DejaVu Sans Mono',consolas,'Courier New',monospace\"></pre>\n"
      ],
      "text/plain": []
     },
     "metadata": {},
     "output_type": "display_data"
    },
    {
     "data": {
      "text/html": [
       "<pre style=\"white-space:pre;overflow-x:auto;line-height:normal;font-family:Menlo,'DejaVu Sans Mono',consolas,'Courier New',monospace\">\n",
       "</pre>\n"
      ],
      "text/plain": [
       "\n"
      ]
     },
     "metadata": {},
     "output_type": "display_data"
    }
   ],
   "source": [
    "df_train = create_embeddings(df_train)\n",
    "df_test = create_embeddings(df_test)"
   ]
  },
  {
   "cell_type": "code",
   "execution_count": 16,
   "id": "753b1be5",
   "metadata": {
    "execution": {
     "iopub.execute_input": "2025-04-02T16:03:15.733826Z",
     "iopub.status.busy": "2025-04-02T16:03:15.733451Z",
     "iopub.status.idle": "2025-04-02T16:03:15.752814Z",
     "shell.execute_reply": "2025-04-02T16:03:15.751519Z"
    },
    "id": "6G5TvLlmRjHc",
    "papermill": {
     "duration": 9.124307,
     "end_time": "2025-04-02T16:03:15.755567",
     "exception": false,
     "start_time": "2025-04-02T16:03:06.631260",
     "status": "completed"
    },
    "tags": []
   },
   "outputs": [
    {
     "data": {
      "text/html": [
       "<div>\n",
       "<style scoped>\n",
       "    .dataframe tbody tr th:only-of-type {\n",
       "        vertical-align: middle;\n",
       "    }\n",
       "\n",
       "    .dataframe tbody tr th {\n",
       "        vertical-align: top;\n",
       "    }\n",
       "\n",
       "    .dataframe thead th {\n",
       "        text-align: right;\n",
       "    }\n",
       "</style>\n",
       "<table border=\"1\" class=\"dataframe\">\n",
       "  <thead>\n",
       "    <tr style=\"text-align: right;\">\n",
       "      <th></th>\n",
       "      <th>Text</th>\n",
       "      <th>Label</th>\n",
       "      <th>Class Name</th>\n",
       "      <th>Encoded Label</th>\n",
       "      <th>Embeddings</th>\n",
       "    </tr>\n",
       "  </thead>\n",
       "  <tbody>\n",
       "    <tr>\n",
       "      <th>1100</th>\n",
       "      <td>Re: text of White House announcement and Q&amp;As ...</td>\n",
       "      <td>11</td>\n",
       "      <td>sci.crypt</td>\n",
       "      <td>0</td>\n",
       "      <td>[-0.03652301, 0.021353725, -0.04631959, 0.0232...</td>\n",
       "    </tr>\n",
       "    <tr>\n",
       "      <th>1101</th>\n",
       "      <td>Screw the people, crypto is for hard-core hack...</td>\n",
       "      <td>11</td>\n",
       "      <td>sci.crypt</td>\n",
       "      <td>0</td>\n",
       "      <td>[-0.0075099324, 0.018182995, -0.05282134, 0.01...</td>\n",
       "    </tr>\n",
       "    <tr>\n",
       "      <th>1102</th>\n",
       "      <td>Re: Automatic online encryption of data\\n\\n\\tF...</td>\n",
       "      <td>11</td>\n",
       "      <td>sci.crypt</td>\n",
       "      <td>0</td>\n",
       "      <td>[-0.017572088, 0.02698444, -0.042832077, 0.026...</td>\n",
       "    </tr>\n",
       "    <tr>\n",
       "      <th>1103</th>\n",
       "      <td>Re: (new) reason for Clipper alg'm secrecy\\n\\n...</td>\n",
       "      <td>11</td>\n",
       "      <td>sci.crypt</td>\n",
       "      <td>0</td>\n",
       "      <td>[0.0071349684, 0.036663644, -0.054815542, 0.01...</td>\n",
       "    </tr>\n",
       "    <tr>\n",
       "      <th>1104</th>\n",
       "      <td>Re: Once tapped, your code is no good any more...</td>\n",
       "      <td>11</td>\n",
       "      <td>sci.crypt</td>\n",
       "      <td>0</td>\n",
       "      <td>[-0.0013634112, 0.01858307, -0.034085795, 0.03...</td>\n",
       "    </tr>\n",
       "  </tbody>\n",
       "</table>\n",
       "</div>"
      ],
      "text/plain": [
       "                                                   Text  Label Class Name  \\\n",
       "1100  Re: text of White House announcement and Q&As ...     11  sci.crypt   \n",
       "1101  Screw the people, crypto is for hard-core hack...     11  sci.crypt   \n",
       "1102  Re: Automatic online encryption of data\\n\\n\\tF...     11  sci.crypt   \n",
       "1103  Re: (new) reason for Clipper alg'm secrecy\\n\\n...     11  sci.crypt   \n",
       "1104  Re: Once tapped, your code is no good any more...     11  sci.crypt   \n",
       "\n",
       "      Encoded Label                                         Embeddings  \n",
       "1100              0  [-0.03652301, 0.021353725, -0.04631959, 0.0232...  \n",
       "1101              0  [-0.0075099324, 0.018182995, -0.05282134, 0.01...  \n",
       "1102              0  [-0.017572088, 0.02698444, -0.042832077, 0.026...  \n",
       "1103              0  [0.0071349684, 0.036663644, -0.054815542, 0.01...  \n",
       "1104              0  [-0.0013634112, 0.01858307, -0.034085795, 0.03...  "
      ]
     },
     "execution_count": 16,
     "metadata": {},
     "output_type": "execute_result"
    }
   ],
   "source": [
    "df_train.head()"
   ]
  },
  {
   "cell_type": "markdown",
   "id": "b7053562",
   "metadata": {
    "id": "QPYEYkIsWt_5",
    "papermill": {
     "duration": 0.010123,
     "end_time": "2025-04-02T16:03:15.777176",
     "exception": false,
     "start_time": "2025-04-02T16:03:15.767053",
     "status": "completed"
    },
    "tags": []
   },
   "source": [
    "## Build a classification model\n",
    "\n",
    "Here you will define a simple model that accepts the raw embedding data as input, has one hidden layer, and an output layer specifying the class probabilities. The prediction will correspond to the probability of a piece of text being a particular class of news.\n",
    "\n",
    "When you run the model, Keras will take care of details like shuffling the data points, calculating metrics and other ML boilerplate."
   ]
  },
  {
   "cell_type": "code",
   "execution_count": 17,
   "id": "72273cee",
   "metadata": {
    "execution": {
     "iopub.execute_input": "2025-04-02T16:03:15.802417Z",
     "iopub.status.busy": "2025-04-02T16:03:15.802014Z",
     "iopub.status.idle": "2025-04-02T16:03:31.227167Z",
     "shell.execute_reply": "2025-04-02T16:03:31.226058Z"
    },
    "id": "3oLGi4w5JsQR",
    "papermill": {
     "duration": 15.439878,
     "end_time": "2025-04-02T16:03:31.229686",
     "exception": false,
     "start_time": "2025-04-02T16:03:15.789808",
     "status": "completed"
    },
    "tags": []
   },
   "outputs": [],
   "source": [
    "import keras\n",
    "from keras import layers\n",
    "\n",
    "\n",
    "def build_classification_model(input_size: int, num_classes: int) -> keras.Model:\n",
    "    return keras.Sequential(\n",
    "        [\n",
    "            layers.Input([input_size], name=\"embedding_inputs\"),\n",
    "            layers.Dense(input_size, activation=\"relu\", name=\"hidden\"),\n",
    "            layers.Dense(num_classes, activation=\"softmax\", name=\"output_probs\"),\n",
    "        ]\n",
    "    )"
   ]
  },
  {
   "cell_type": "code",
   "execution_count": 18,
   "id": "4dbfb1de",
   "metadata": {
    "execution": {
     "iopub.execute_input": "2025-04-02T16:03:31.251521Z",
     "iopub.status.busy": "2025-04-02T16:03:31.250834Z",
     "iopub.status.idle": "2025-04-02T16:03:31.373821Z",
     "shell.execute_reply": "2025-04-02T16:03:31.372160Z"
    },
    "id": "kORA1Akl5GsG",
    "papermill": {
     "duration": 0.136926,
     "end_time": "2025-04-02T16:03:31.376804",
     "exception": false,
     "start_time": "2025-04-02T16:03:31.239878",
     "status": "completed"
    },
    "tags": []
   },
   "outputs": [
    {
     "data": {
      "text/html": [
       "<pre style=\"white-space:pre;overflow-x:auto;line-height:normal;font-family:Menlo,'DejaVu Sans Mono',consolas,'Courier New',monospace\"><span style=\"font-weight: bold\">Model: \"sequential\"</span>\n",
       "</pre>\n"
      ],
      "text/plain": [
       "\u001b[1mModel: \"sequential\"\u001b[0m\n"
      ]
     },
     "metadata": {},
     "output_type": "display_data"
    },
    {
     "data": {
      "text/html": [
       "<pre style=\"white-space:pre;overflow-x:auto;line-height:normal;font-family:Menlo,'DejaVu Sans Mono',consolas,'Courier New',monospace\">┏━━━━━━━━━━━━━━━━━━━━━━━━━━━━━━━━━┳━━━━━━━━━━━━━━━━━━━━━━━━┳━━━━━━━━━━━━━━━┓\n",
       "┃<span style=\"font-weight: bold\"> Layer (type)                    </span>┃<span style=\"font-weight: bold\"> Output Shape           </span>┃<span style=\"font-weight: bold\">       Param # </span>┃\n",
       "┡━━━━━━━━━━━━━━━━━━━━━━━━━━━━━━━━━╇━━━━━━━━━━━━━━━━━━━━━━━━╇━━━━━━━━━━━━━━━┩\n",
       "│ hidden (<span style=\"color: #0087ff; text-decoration-color: #0087ff\">Dense</span>)                  │ (<span style=\"color: #00d7ff; text-decoration-color: #00d7ff\">None</span>, <span style=\"color: #00af00; text-decoration-color: #00af00\">768</span>)            │       <span style=\"color: #00af00; text-decoration-color: #00af00\">590,592</span> │\n",
       "├─────────────────────────────────┼────────────────────────┼───────────────┤\n",
       "│ output_probs (<span style=\"color: #0087ff; text-decoration-color: #0087ff\">Dense</span>)            │ (<span style=\"color: #00d7ff; text-decoration-color: #00d7ff\">None</span>, <span style=\"color: #00af00; text-decoration-color: #00af00\">4</span>)              │         <span style=\"color: #00af00; text-decoration-color: #00af00\">3,076</span> │\n",
       "└─────────────────────────────────┴────────────────────────┴───────────────┘\n",
       "</pre>\n"
      ],
      "text/plain": [
       "┏━━━━━━━━━━━━━━━━━━━━━━━━━━━━━━━━━┳━━━━━━━━━━━━━━━━━━━━━━━━┳━━━━━━━━━━━━━━━┓\n",
       "┃\u001b[1m \u001b[0m\u001b[1mLayer (type)                   \u001b[0m\u001b[1m \u001b[0m┃\u001b[1m \u001b[0m\u001b[1mOutput Shape          \u001b[0m\u001b[1m \u001b[0m┃\u001b[1m \u001b[0m\u001b[1m      Param #\u001b[0m\u001b[1m \u001b[0m┃\n",
       "┡━━━━━━━━━━━━━━━━━━━━━━━━━━━━━━━━━╇━━━━━━━━━━━━━━━━━━━━━━━━╇━━━━━━━━━━━━━━━┩\n",
       "│ hidden (\u001b[38;5;33mDense\u001b[0m)                  │ (\u001b[38;5;45mNone\u001b[0m, \u001b[38;5;34m768\u001b[0m)            │       \u001b[38;5;34m590,592\u001b[0m │\n",
       "├─────────────────────────────────┼────────────────────────┼───────────────┤\n",
       "│ output_probs (\u001b[38;5;33mDense\u001b[0m)            │ (\u001b[38;5;45mNone\u001b[0m, \u001b[38;5;34m4\u001b[0m)              │         \u001b[38;5;34m3,076\u001b[0m │\n",
       "└─────────────────────────────────┴────────────────────────┴───────────────┘\n"
      ]
     },
     "metadata": {},
     "output_type": "display_data"
    },
    {
     "data": {
      "text/html": [
       "<pre style=\"white-space:pre;overflow-x:auto;line-height:normal;font-family:Menlo,'DejaVu Sans Mono',consolas,'Courier New',monospace\"><span style=\"font-weight: bold\"> Total params: </span><span style=\"color: #00af00; text-decoration-color: #00af00\">593,668</span> (2.26 MB)\n",
       "</pre>\n"
      ],
      "text/plain": [
       "\u001b[1m Total params: \u001b[0m\u001b[38;5;34m593,668\u001b[0m (2.26 MB)\n"
      ]
     },
     "metadata": {},
     "output_type": "display_data"
    },
    {
     "data": {
      "text/html": [
       "<pre style=\"white-space:pre;overflow-x:auto;line-height:normal;font-family:Menlo,'DejaVu Sans Mono',consolas,'Courier New',monospace\"><span style=\"font-weight: bold\"> Trainable params: </span><span style=\"color: #00af00; text-decoration-color: #00af00\">593,668</span> (2.26 MB)\n",
       "</pre>\n"
      ],
      "text/plain": [
       "\u001b[1m Trainable params: \u001b[0m\u001b[38;5;34m593,668\u001b[0m (2.26 MB)\n"
      ]
     },
     "metadata": {},
     "output_type": "display_data"
    },
    {
     "data": {
      "text/html": [
       "<pre style=\"white-space:pre;overflow-x:auto;line-height:normal;font-family:Menlo,'DejaVu Sans Mono',consolas,'Courier New',monospace\"><span style=\"font-weight: bold\"> Non-trainable params: </span><span style=\"color: #00af00; text-decoration-color: #00af00\">0</span> (0.00 B)\n",
       "</pre>\n"
      ],
      "text/plain": [
       "\u001b[1m Non-trainable params: \u001b[0m\u001b[38;5;34m0\u001b[0m (0.00 B)\n"
      ]
     },
     "metadata": {},
     "output_type": "display_data"
    }
   ],
   "source": [
    "# Derive the embedding size from observing the data. The embedding size can also be specified\n",
    "# with the `output_dimensionality` parameter to `embed_content` if you need to reduce it.\n",
    "embedding_size = len(df_train[\"Embeddings\"].iloc[0])\n",
    "\n",
    "classifier = build_classification_model(\n",
    "    embedding_size, len(df_train[\"Class Name\"].unique())\n",
    ")\n",
    "classifier.summary()\n",
    "\n",
    "classifier.compile(\n",
    "    loss=keras.losses.SparseCategoricalCrossentropy(),\n",
    "    optimizer=keras.optimizers.Adam(learning_rate=0.001),\n",
    "    metrics=[\"accuracy\"],\n",
    ")"
   ]
  },
  {
   "cell_type": "markdown",
   "id": "d1ba2589",
   "metadata": {
    "id": "kbpTGGiMXDxl",
    "papermill": {
     "duration": 0.010493,
     "end_time": "2025-04-02T16:03:31.397841",
     "exception": false,
     "start_time": "2025-04-02T16:03:31.387348",
     "status": "completed"
    },
    "tags": []
   },
   "source": [
    "## Train the model\n",
    "\n",
    "Finally, you can train your model. This code uses early stopping to exit the training loop once the loss value stabilises, so the number of epoch loops executed may differ from the specified value."
   ]
  },
  {
   "cell_type": "code",
   "execution_count": 19,
   "id": "155157aa",
   "metadata": {
    "execution": {
     "iopub.execute_input": "2025-04-02T16:03:31.420236Z",
     "iopub.status.busy": "2025-04-02T16:03:31.419832Z",
     "iopub.status.idle": "2025-04-02T16:03:35.192167Z",
     "shell.execute_reply": "2025-04-02T16:03:35.191106Z"
    },
    "id": "bGgvMZGfJ1A4",
    "papermill": {
     "duration": 3.786097,
     "end_time": "2025-04-02T16:03:35.194394",
     "exception": false,
     "start_time": "2025-04-02T16:03:31.408297",
     "status": "completed"
    },
    "tags": []
   },
   "outputs": [
    {
     "name": "stdout",
     "output_type": "stream",
     "text": [
      "Epoch 1/20\n",
      "\u001b[1m13/13\u001b[0m \u001b[32m━━━━━━━━━━━━━━━━━━━━\u001b[0m\u001b[37m\u001b[0m \u001b[1m1s\u001b[0m 24ms/step - accuracy: 0.3248 - loss: 1.3779 - val_accuracy: 0.5300 - val_loss: 1.3065\n",
      "Epoch 2/20\n",
      "\u001b[1m13/13\u001b[0m \u001b[32m━━━━━━━━━━━━━━━━━━━━\u001b[0m\u001b[37m\u001b[0m \u001b[1m0s\u001b[0m 8ms/step - accuracy: 0.6259 - loss: 1.2666 - val_accuracy: 0.6500 - val_loss: 1.1598\n",
      "Epoch 3/20\n",
      "\u001b[1m13/13\u001b[0m \u001b[32m━━━━━━━━━━━━━━━━━━━━\u001b[0m\u001b[37m\u001b[0m \u001b[1m0s\u001b[0m 9ms/step - accuracy: 0.7440 - loss: 1.0874 - val_accuracy: 0.7900 - val_loss: 1.0203\n",
      "Epoch 4/20\n",
      "\u001b[1m13/13\u001b[0m \u001b[32m━━━━━━━━━━━━━━━━━━━━\u001b[0m\u001b[37m\u001b[0m \u001b[1m0s\u001b[0m 8ms/step - accuracy: 0.8812 - loss: 0.9017 - val_accuracy: 0.8400 - val_loss: 0.8908\n",
      "Epoch 5/20\n",
      "\u001b[1m13/13\u001b[0m \u001b[32m━━━━━━━━━━━━━━━━━━━━\u001b[0m\u001b[37m\u001b[0m \u001b[1m0s\u001b[0m 8ms/step - accuracy: 0.9301 - loss: 0.7529 - val_accuracy: 0.9000 - val_loss: 0.7386\n",
      "Epoch 6/20\n",
      "\u001b[1m13/13\u001b[0m \u001b[32m━━━━━━━━━━━━━━━━━━━━\u001b[0m\u001b[37m\u001b[0m \u001b[1m0s\u001b[0m 9ms/step - accuracy: 0.9263 - loss: 0.6175 - val_accuracy: 0.8400 - val_loss: 0.6376\n",
      "Epoch 7/20\n",
      "\u001b[1m13/13\u001b[0m \u001b[32m━━━━━━━━━━━━━━━━━━━━\u001b[0m\u001b[37m\u001b[0m \u001b[1m0s\u001b[0m 9ms/step - accuracy: 0.9512 - loss: 0.4885 - val_accuracy: 0.9200 - val_loss: 0.5310\n",
      "Epoch 8/20\n",
      "\u001b[1m13/13\u001b[0m \u001b[32m━━━━━━━━━━━━━━━━━━━━\u001b[0m\u001b[37m\u001b[0m \u001b[1m0s\u001b[0m 9ms/step - accuracy: 0.9492 - loss: 0.4051 - val_accuracy: 0.9200 - val_loss: 0.4417\n",
      "Epoch 9/20\n",
      "\u001b[1m13/13\u001b[0m \u001b[32m━━━━━━━━━━━━━━━━━━━━\u001b[0m\u001b[37m\u001b[0m \u001b[1m0s\u001b[0m 9ms/step - accuracy: 0.9621 - loss: 0.3165 - val_accuracy: 0.9300 - val_loss: 0.3998\n",
      "Epoch 10/20\n",
      "\u001b[1m13/13\u001b[0m \u001b[32m━━━━━━━━━━━━━━━━━━━━\u001b[0m\u001b[37m\u001b[0m \u001b[1m0s\u001b[0m 9ms/step - accuracy: 0.9697 - loss: 0.2648 - val_accuracy: 0.9500 - val_loss: 0.3470\n",
      "Epoch 11/20\n",
      "\u001b[1m13/13\u001b[0m \u001b[32m━━━━━━━━━━━━━━━━━━━━\u001b[0m\u001b[37m\u001b[0m \u001b[1m0s\u001b[0m 8ms/step - accuracy: 0.9715 - loss: 0.2267 - val_accuracy: 0.9300 - val_loss: 0.3200\n",
      "Epoch 12/20\n",
      "\u001b[1m13/13\u001b[0m \u001b[32m━━━━━━━━━━━━━━━━━━━━\u001b[0m\u001b[37m\u001b[0m \u001b[1m0s\u001b[0m 8ms/step - accuracy: 0.9903 - loss: 0.1831 - val_accuracy: 0.9400 - val_loss: 0.2786\n",
      "Epoch 13/20\n",
      "\u001b[1m13/13\u001b[0m \u001b[32m━━━━━━━━━━━━━━━━━━━━\u001b[0m\u001b[37m\u001b[0m \u001b[1m0s\u001b[0m 8ms/step - accuracy: 0.9922 - loss: 0.1458 - val_accuracy: 0.9500 - val_loss: 0.2607\n",
      "Epoch 14/20\n",
      "\u001b[1m13/13\u001b[0m \u001b[32m━━━━━━━━━━━━━━━━━━━━\u001b[0m\u001b[37m\u001b[0m \u001b[1m0s\u001b[0m 8ms/step - accuracy: 0.9893 - loss: 0.1338 - val_accuracy: 0.9500 - val_loss: 0.2433\n",
      "Epoch 15/20\n",
      "\u001b[1m13/13\u001b[0m \u001b[32m━━━━━━━━━━━━━━━━━━━━\u001b[0m\u001b[37m\u001b[0m \u001b[1m0s\u001b[0m 8ms/step - accuracy: 0.9976 - loss: 0.1255 - val_accuracy: 0.9500 - val_loss: 0.2307\n",
      "Epoch 16/20\n",
      "\u001b[1m13/13\u001b[0m \u001b[32m━━━━━━━━━━━━━━━━━━━━\u001b[0m\u001b[37m\u001b[0m \u001b[1m0s\u001b[0m 9ms/step - accuracy: 1.0000 - loss: 0.0957 - val_accuracy: 0.9300 - val_loss: 0.2309\n",
      "Epoch 17/20\n",
      "\u001b[1m13/13\u001b[0m \u001b[32m━━━━━━━━━━━━━━━━━━━━\u001b[0m\u001b[37m\u001b[0m \u001b[1m0s\u001b[0m 9ms/step - accuracy: 0.9978 - loss: 0.0901 - val_accuracy: 0.9400 - val_loss: 0.2388\n",
      "Epoch 18/20\n",
      "\u001b[1m13/13\u001b[0m \u001b[32m━━━━━━━━━━━━━━━━━━━━\u001b[0m\u001b[37m\u001b[0m \u001b[1m0s\u001b[0m 8ms/step - accuracy: 0.9968 - loss: 0.0951 - val_accuracy: 0.9600 - val_loss: 0.2061\n",
      "Epoch 19/20\n",
      "\u001b[1m13/13\u001b[0m \u001b[32m━━━━━━━━━━━━━━━━━━━━\u001b[0m\u001b[37m\u001b[0m \u001b[1m0s\u001b[0m 9ms/step - accuracy: 1.0000 - loss: 0.0725 - val_accuracy: 0.9500 - val_loss: 0.1920\n"
     ]
    }
   ],
   "source": [
    "import numpy as np\n",
    "\n",
    "\n",
    "NUM_EPOCHS = 20\n",
    "BATCH_SIZE = 32\n",
    "\n",
    "# Split the x and y components of the train and validation subsets.\n",
    "y_train = df_train[\"Encoded Label\"]\n",
    "x_train = np.stack(df_train[\"Embeddings\"])\n",
    "y_val = df_test[\"Encoded Label\"]\n",
    "x_val = np.stack(df_test[\"Embeddings\"])\n",
    "\n",
    "# Specify that it's OK to stop early if accuracy stabilises.\n",
    "early_stop = keras.callbacks.EarlyStopping(monitor=\"accuracy\", patience=3)\n",
    "\n",
    "# Train the model for the desired number of epochs.\n",
    "history = classifier.fit(\n",
    "    x=x_train,\n",
    "    y=y_train,\n",
    "    validation_data=(x_val, y_val),\n",
    "    callbacks=[early_stop],\n",
    "    batch_size=BATCH_SIZE,\n",
    "    epochs=NUM_EPOCHS,\n",
    ")"
   ]
  },
  {
   "cell_type": "markdown",
   "id": "464917bd",
   "metadata": {
    "id": "xGBaDHZUPdJO",
    "papermill": {
     "duration": 0.014592,
     "end_time": "2025-04-02T16:03:35.223845",
     "exception": false,
     "start_time": "2025-04-02T16:03:35.209253",
     "status": "completed"
    },
    "tags": []
   },
   "source": [
    "## Evaluate model performance\n",
    "\n",
    "Use Keras <a href=\"https://www.tensorflow.org/api_docs/python/tf/keras/Model#evaluate\"><code>Model.evaluate</code></a> to calculate the loss and accuracy on the test dataset."
   ]
  },
  {
   "cell_type": "code",
   "execution_count": 20,
   "id": "59b2e530",
   "metadata": {
    "execution": {
     "iopub.execute_input": "2025-04-02T16:03:35.256001Z",
     "iopub.status.busy": "2025-04-02T16:03:35.255436Z",
     "iopub.status.idle": "2025-04-02T16:03:35.377805Z",
     "shell.execute_reply": "2025-04-02T16:03:35.376680Z"
    },
    "id": "d2kOeiqqQIB8",
    "papermill": {
     "duration": 0.142008,
     "end_time": "2025-04-02T16:03:35.380137",
     "exception": false,
     "start_time": "2025-04-02T16:03:35.238129",
     "status": "completed"
    },
    "tags": []
   },
   "outputs": [
    {
     "name": "stdout",
     "output_type": "stream",
     "text": [
      "\u001b[1m4/4\u001b[0m \u001b[32m━━━━━━━━━━━━━━━━━━━━\u001b[0m\u001b[37m\u001b[0m \u001b[1m0s\u001b[0m 3ms/step - accuracy: 0.9560 - loss: 0.1623 \n"
     ]
    },
    {
     "data": {
      "text/plain": [
       "{'accuracy': 0.949999988079071, 'loss': 0.1919996589422226}"
      ]
     },
     "execution_count": 20,
     "metadata": {},
     "output_type": "execute_result"
    }
   ],
   "source": [
    "classifier.evaluate(x=x_val, y=y_val, return_dict=True)"
   ]
  },
  {
   "cell_type": "markdown",
   "id": "23d51725",
   "metadata": {
    "id": "UyxMhiLYQXAN",
    "papermill": {
     "duration": 0.01574,
     "end_time": "2025-04-02T16:03:35.411225",
     "exception": false,
     "start_time": "2025-04-02T16:03:35.395485",
     "status": "completed"
    },
    "tags": []
   },
   "source": [
    "To learn more about training models with Keras, including how to visualise the model training metrics, read [Training & evaluation with built-in methods](https://www.tensorflow.org/guide/keras/training_with_built_in_methods)."
   ]
  },
  {
   "cell_type": "markdown",
   "id": "361fcaa1",
   "metadata": {
    "id": "XHyP-_torwsm",
    "papermill": {
     "duration": 0.014116,
     "end_time": "2025-04-02T16:03:35.440211",
     "exception": false,
     "start_time": "2025-04-02T16:03:35.426095",
     "status": "completed"
    },
    "tags": []
   },
   "source": [
    "## Try a custom prediction\n",
    "\n",
    "Now that you have a trained model with good evaluation metrics, you can try to make a prediction with new, hand-written data. Use the provided example or try your own data to see how the model performs."
   ]
  },
  {
   "cell_type": "code",
   "execution_count": 21,
   "id": "6644e765",
   "metadata": {
    "execution": {
     "iopub.execute_input": "2025-04-02T16:03:35.470563Z",
     "iopub.status.busy": "2025-04-02T16:03:35.470177Z",
     "iopub.status.idle": "2025-04-02T16:03:35.476515Z",
     "shell.execute_reply": "2025-04-02T16:03:35.475403Z"
    },
    "id": "Lj4gR0Mdr2rb",
    "papermill": {
     "duration": 0.024197,
     "end_time": "2025-04-02T16:03:35.478669",
     "exception": false,
     "start_time": "2025-04-02T16:03:35.454472",
     "status": "completed"
    },
    "tags": []
   },
   "outputs": [],
   "source": [
    "def make_prediction(text: str) -> list[float]:\n",
    "    \"\"\"Infer categories from the provided text.\"\"\"\n",
    "    # Remember that the model takes embeddings as input, so calculate them first.\n",
    "    embedded = embed_fn(new_text)\n",
    "\n",
    "    # And recall that the input must be batched, so here they are wrapped as a\n",
    "    # list to provide a batch of 1.\n",
    "    inp = np.array([embedded])\n",
    "\n",
    "    # And un-batched here.\n",
    "    [result] = classifier.predict(inp)\n",
    "    return result"
   ]
  },
  {
   "cell_type": "code",
   "execution_count": 22,
   "id": "3c651df3",
   "metadata": {
    "execution": {
     "iopub.execute_input": "2025-04-02T16:03:35.510402Z",
     "iopub.status.busy": "2025-04-02T16:03:35.509443Z",
     "iopub.status.idle": "2025-04-02T16:03:35.879283Z",
     "shell.execute_reply": "2025-04-02T16:03:35.877832Z"
    },
    "id": "CKTHEMrRsbcu",
    "papermill": {
     "duration": 0.388986,
     "end_time": "2025-04-02T16:03:35.882040",
     "exception": false,
     "start_time": "2025-04-02T16:03:35.493054",
     "status": "completed"
    },
    "tags": []
   },
   "outputs": [
    {
     "name": "stdout",
     "output_type": "stream",
     "text": [
      "\u001b[1m1/1\u001b[0m \u001b[32m━━━━━━━━━━━━━━━━━━━━\u001b[0m\u001b[37m\u001b[0m \u001b[1m0s\u001b[0m 50ms/step\n",
      "sci.crypt: 0.12%\n",
      "sci.electronics: 0.31%\n",
      "sci.med: 0.09%\n",
      "sci.space: 99.47%\n"
     ]
    }
   ],
   "source": [
    "# This example avoids any space-specific terminology to see if the model avoids\n",
    "# biases towards specific jargon.\n",
    "new_text = \"\"\"\n",
    "First-timer looking to get out of here.\n",
    "\n",
    "Hi, I'm writing about my interest in travelling to the outer limits!\n",
    "\n",
    "What kind of craft can I buy? What is easiest to access from this 3rd rock?\n",
    "\n",
    "Let me know how to do that please.\n",
    "\"\"\"\n",
    "\n",
    "result = make_prediction(new_text)\n",
    "\n",
    "for idx, category in enumerate(df_test[\"Class Name\"].cat.categories):\n",
    "    print(f\"{category}: {result[idx] * 100:0.2f}%\")"
   ]
  },
  {
   "cell_type": "code",
   "execution_count": 23,
   "id": "f28c8871",
   "metadata": {
    "execution": {
     "iopub.execute_input": "2025-04-02T16:03:35.915060Z",
     "iopub.status.busy": "2025-04-02T16:03:35.914628Z",
     "iopub.status.idle": "2025-04-02T16:03:38.321252Z",
     "shell.execute_reply": "2025-04-02T16:03:38.319944Z"
    },
    "papermill": {
     "duration": 2.426008,
     "end_time": "2025-04-02T16:03:38.323862",
     "exception": false,
     "start_time": "2025-04-02T16:03:35.897854",
     "status": "completed"
    },
    "tags": []
   },
   "outputs": [],
   "source": [
    "# Self\n",
    "self_train = preprocess_newsgroup_data(newsgroups_train)\n",
    "self_train = sample_data(self_train, TRAIN_NUM_SAMPLES, CLASSES_TO_KEEP)\n",
    "self_train = self_train.reset_index(drop=True)"
   ]
  },
  {
   "cell_type": "code",
   "execution_count": 24,
   "id": "5358f167",
   "metadata": {
    "execution": {
     "iopub.execute_input": "2025-04-02T16:03:38.355684Z",
     "iopub.status.busy": "2025-04-02T16:03:38.354858Z",
     "iopub.status.idle": "2025-04-02T16:03:38.645104Z",
     "shell.execute_reply": "2025-04-02T16:03:38.643694Z"
    },
    "papermill": {
     "duration": 0.308286,
     "end_time": "2025-04-02T16:03:38.647330",
     "exception": false,
     "start_time": "2025-04-02T16:03:38.339044",
     "status": "completed"
    },
    "tags": []
   },
   "outputs": [
    {
     "name": "stdout",
     "output_type": "stream",
     "text": [
      "\u001b[1m1/1\u001b[0m \u001b[32m━━━━━━━━━━━━━━━━━━━━\u001b[0m\u001b[37m\u001b[0m \u001b[1m0s\u001b[0m 22ms/step\n",
      "sci.crypt: 44.82%\n",
      "sci.electronics: 7.45%\n",
      "sci.med: 14.78%\n",
      "sci.space: 32.96%\n"
     ]
    }
   ],
   "source": [
    "# Self\n",
    "new_text = \"\"\"\n",
    "이 의학 기술은 정말 훌륭합니다.\n",
    "지원을 아끼지 말아야 한다고 생각합니다.\n",
    "\"\"\"\n",
    "\n",
    "result = make_prediction(new_text)\n",
    "\n",
    "for idx, category in enumerate(df_test[\"Class Name\"].cat.categories):\n",
    "    print(f\"{category}: {result[idx] * 100:0.2f}%\")"
   ]
  },
  {
   "cell_type": "code",
   "execution_count": 25,
   "id": "396d296b",
   "metadata": {
    "execution": {
     "iopub.execute_input": "2025-04-02T16:03:38.679439Z",
     "iopub.status.busy": "2025-04-02T16:03:38.679047Z",
     "iopub.status.idle": "2025-04-02T16:03:38.973642Z",
     "shell.execute_reply": "2025-04-02T16:03:38.972259Z"
    },
    "papermill": {
     "duration": 0.313436,
     "end_time": "2025-04-02T16:03:38.975934",
     "exception": false,
     "start_time": "2025-04-02T16:03:38.662498",
     "status": "completed"
    },
    "tags": []
   },
   "outputs": [
    {
     "name": "stdout",
     "output_type": "stream",
     "text": [
      "\u001b[1m1/1\u001b[0m \u001b[32m━━━━━━━━━━━━━━━━━━━━\u001b[0m\u001b[37m\u001b[0m \u001b[1m0s\u001b[0m 20ms/step\n",
      "sci.crypt: 2.13%\n",
      "sci.electronics: 0.81%\n",
      "sci.med: 90.52%\n",
      "sci.space: 6.55%\n"
     ]
    }
   ],
   "source": [
    "# Self\n",
    "new_text = \"\"\"\n",
    "This medical technology is truly remarkable.\n",
    "I believe we should not spare any support for it.\n",
    "\"\"\"\n",
    "\n",
    "result = make_prediction(new_text)\n",
    "\n",
    "for idx, category in enumerate(df_test[\"Class Name\"].cat.categories):\n",
    "    print(f\"{category}: {result[idx] * 100:0.2f}%\")"
   ]
  },
  {
   "cell_type": "markdown",
   "id": "562dd66d",
   "metadata": {
    "papermill": {
     "duration": 0.014533,
     "end_time": "2025-04-02T16:03:39.005632",
     "exception": false,
     "start_time": "2025-04-02T16:03:38.991099",
     "status": "completed"
    },
    "tags": []
   },
   "source": [
    "## Further reading\n",
    "\n",
    "To explore training custom models with Keras further, check out the [Keras guides](https://keras.io/guides/).\n",
    "\n",
    "*- [Mark McD](https://linktr.ee/markmcd)*"
   ]
  }
 ],
 "metadata": {
  "colab": {
   "name": "day-2-classifying-embeddings-with-keras.ipynb",
   "toc_visible": true
  },
  "google": {
   "image_path": "/examples/train_text_classifier_embeddings_files/output_3ae76701e178_0.png",
   "keywords": [
    "examples",
    "googleai",
    "samplecode",
    "python",
    "embed"
   ]
  },
  "kaggle": {
   "accelerator": "none",
   "dataSources": [],
   "dockerImageVersionId": 30786,
   "isGpuEnabled": false,
   "isInternetEnabled": true,
   "language": "python",
   "sourceType": "notebook"
  },
  "kernelspec": {
   "display_name": "Python 3",
   "language": "python",
   "name": "python3"
  },
  "language_info": {
   "codemirror_mode": {
    "name": "ipython",
    "version": 3
   },
   "file_extension": ".py",
   "mimetype": "text/x-python",
   "name": "python",
   "nbconvert_exporter": "python",
   "pygments_lexer": "ipython3",
   "version": "3.10.14"
  },
  "papermill": {
   "default_parameters": {},
   "duration": 451.645205,
   "end_time": "2025-04-02T16:03:40.947007",
   "environment_variables": {},
   "exception": null,
   "input_path": "__notebook__.ipynb",
   "output_path": "__notebook__.ipynb",
   "parameters": {},
   "start_time": "2025-04-02T15:56:09.301802",
   "version": "2.6.0"
  },
  "widgets": {
   "application/vnd.jupyter.widget-state+json": {
    "state": {
     "13c0bb7fe04c466a9462a368e05a2d54": {
      "model_module": "@jupyter-widgets/base",
      "model_module_version": "1.2.0",
      "model_name": "LayoutModel",
      "state": {
       "_model_module": "@jupyter-widgets/base",
       "_model_module_version": "1.2.0",
       "_model_name": "LayoutModel",
       "_view_count": null,
       "_view_module": "@jupyter-widgets/base",
       "_view_module_version": "1.2.0",
       "_view_name": "LayoutView",
       "align_content": null,
       "align_items": null,
       "align_self": null,
       "border": null,
       "bottom": null,
       "display": null,
       "flex": null,
       "flex_flow": null,
       "grid_area": null,
       "grid_auto_columns": null,
       "grid_auto_flow": null,
       "grid_auto_rows": null,
       "grid_column": null,
       "grid_gap": null,
       "grid_row": null,
       "grid_template_areas": null,
       "grid_template_columns": null,
       "grid_template_rows": null,
       "height": null,
       "justify_content": null,
       "justify_items": null,
       "left": null,
       "margin": null,
       "max_height": null,
       "max_width": null,
       "min_height": null,
       "min_width": null,
       "object_fit": null,
       "object_position": null,
       "order": null,
       "overflow": null,
       "overflow_x": null,
       "overflow_y": null,
       "padding": null,
       "right": null,
       "top": null,
       "visibility": null,
       "width": null
      }
     },
     "36f24828d62d423695aad7c0cf7fe105": {
      "model_module": "@jupyter-widgets/output",
      "model_module_version": "1.0.0",
      "model_name": "OutputModel",
      "state": {
       "_dom_classes": [],
       "_model_module": "@jupyter-widgets/output",
       "_model_module_version": "1.0.0",
       "_model_name": "OutputModel",
       "_view_count": null,
       "_view_module": "@jupyter-widgets/output",
       "_view_module_version": "1.0.0",
       "_view_name": "OutputView",
       "layout": "IPY_MODEL_a1c7e7d9d6614573bdd4a7f38eaf0a1b",
       "msg_id": "",
       "outputs": [
        {
         "data": {
          "text/html": "<pre style=\"white-space:pre;overflow-x:auto;line-height:normal;font-family:Menlo,'DejaVu Sans Mono',consolas,'Courier New',monospace\"><span style=\"color: #800080; text-decoration-color: #800080\"> 100%</span> <span style=\"color: #729c1f; text-decoration-color: #729c1f\">━━━━━━━━━━━━━━━━━━━━━━━━━━━━━━━━━━━━━━━━━━━━━━━━━━━━━━━━━━━━━━━━━━━━━</span> <span style=\"color: #008000; text-decoration-color: #008000\">100/100 </span> [ <span style=\"color: #808000; text-decoration-color: #808000\">0:02:42</span> &lt; <span style=\"color: #008080; text-decoration-color: #008080\">0:00:00</span> , <span style=\"color: #800000; text-decoration-color: #800000\">4 it/s</span> ]\n</pre>\n",
          "text/plain": "\u001b[35m 100%\u001b[0m \u001b[38;2;114;156;31m━━━━━━━━━━━━━━━━━━━━━━━━━━━━━━━━━━━━━━━━━━━━━━━━━━━━━━━━━━━━━━━━━━━━━\u001b[0m \u001b[32m100/100 \u001b[0m [ \u001b[33m0:02:42\u001b[0m < \u001b[36m0:00:00\u001b[0m , \u001b[31m4 it/s\u001b[0m ]\n"
         },
         "metadata": {},
         "output_type": "display_data"
        }
       ]
      }
     },
     "a1c7e7d9d6614573bdd4a7f38eaf0a1b": {
      "model_module": "@jupyter-widgets/base",
      "model_module_version": "1.2.0",
      "model_name": "LayoutModel",
      "state": {
       "_model_module": "@jupyter-widgets/base",
       "_model_module_version": "1.2.0",
       "_model_name": "LayoutModel",
       "_view_count": null,
       "_view_module": "@jupyter-widgets/base",
       "_view_module_version": "1.2.0",
       "_view_name": "LayoutView",
       "align_content": null,
       "align_items": null,
       "align_self": null,
       "border": null,
       "bottom": null,
       "display": null,
       "flex": null,
       "flex_flow": null,
       "grid_area": null,
       "grid_auto_columns": null,
       "grid_auto_flow": null,
       "grid_auto_rows": null,
       "grid_column": null,
       "grid_gap": null,
       "grid_row": null,
       "grid_template_areas": null,
       "grid_template_columns": null,
       "grid_template_rows": null,
       "height": null,
       "justify_content": null,
       "justify_items": null,
       "left": null,
       "margin": null,
       "max_height": null,
       "max_width": null,
       "min_height": null,
       "min_width": null,
       "object_fit": null,
       "object_position": null,
       "order": null,
       "overflow": null,
       "overflow_x": null,
       "overflow_y": null,
       "padding": null,
       "right": null,
       "top": null,
       "visibility": null,
       "width": null
      }
     },
     "be098aae015b446dba8fbcbe6d57be85": {
      "model_module": "@jupyter-widgets/output",
      "model_module_version": "1.0.0",
      "model_name": "OutputModel",
      "state": {
       "_dom_classes": [],
       "_model_module": "@jupyter-widgets/output",
       "_model_module_version": "1.0.0",
       "_model_name": "OutputModel",
       "_view_count": null,
       "_view_module": "@jupyter-widgets/output",
       "_view_module_version": "1.0.0",
       "_view_name": "OutputView",
       "layout": "IPY_MODEL_13c0bb7fe04c466a9462a368e05a2d54",
       "msg_id": "",
       "outputs": [
        {
         "data": {
          "text/html": "<pre style=\"white-space:pre;overflow-x:auto;line-height:normal;font-family:Menlo,'DejaVu Sans Mono',consolas,'Courier New',monospace\"><span style=\"color: #800080; text-decoration-color: #800080\"> 100%</span> <span style=\"color: #729c1f; text-decoration-color: #729c1f\">━━━━━━━━━━━━━━━━━━━━━━━━━━━━━━━━━━━━━━━━━━━━━━━━━━━━━━━━━━━━━━━━━━━━━</span> <span style=\"color: #008000; text-decoration-color: #008000\">400/400 </span> [ <span style=\"color: #808000; text-decoration-color: #808000\">0:03:29</span> &lt; <span style=\"color: #008080; text-decoration-color: #008080\">0:00:00</span> , <span style=\"color: #800000; text-decoration-color: #800000\">5 it/s</span> ]\n</pre>\n",
          "text/plain": "\u001b[35m 100%\u001b[0m \u001b[38;2;114;156;31m━━━━━━━━━━━━━━━━━━━━━━━━━━━━━━━━━━━━━━━━━━━━━━━━━━━━━━━━━━━━━━━━━━━━━\u001b[0m \u001b[32m400/400 \u001b[0m [ \u001b[33m0:03:29\u001b[0m < \u001b[36m0:00:00\u001b[0m , \u001b[31m5 it/s\u001b[0m ]\n"
         },
         "metadata": {},
         "output_type": "display_data"
        }
       ]
      }
     }
    },
    "version_major": 2,
    "version_minor": 0
   }
  }
 },
 "nbformat": 4,
 "nbformat_minor": 5
}
