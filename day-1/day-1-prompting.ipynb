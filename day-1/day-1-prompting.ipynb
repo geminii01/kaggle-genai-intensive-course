{
 "cells": [
  {
   "cell_type": "markdown",
   "id": "de03579c",
   "metadata": {
    "id": "jkxRSYjzA1oX",
    "papermill": {
     "duration": 0.015214,
     "end_time": "2025-04-01T20:43:36.782262",
     "exception": false,
     "start_time": "2025-04-01T20:43:36.767048",
     "status": "completed"
    },
    "tags": []
   },
   "source": [
    "##### Copyright 2025 Google LLC."
   ]
  },
  {
   "cell_type": "code",
   "execution_count": 1,
   "id": "9b9b5086",
   "metadata": {
    "cellView": "form",
    "execution": {
     "iopub.execute_input": "2025-04-01T20:43:36.813856Z",
     "iopub.status.busy": "2025-04-01T20:43:36.813488Z",
     "iopub.status.idle": "2025-04-01T20:43:36.819616Z",
     "shell.execute_reply": "2025-04-01T20:43:36.818667Z"
    },
    "id": "5u5OZ2ShA3BA",
    "jupyter": {
     "source_hidden": true
    },
    "papermill": {
     "duration": 0.023443,
     "end_time": "2025-04-01T20:43:36.821676",
     "exception": false,
     "start_time": "2025-04-01T20:43:36.798233",
     "status": "completed"
    },
    "tags": []
   },
   "outputs": [],
   "source": [
    "# @title Licensed under the Apache License, Version 2.0 (the \"License\");\n",
    "# you may not use this file except in compliance with the License.\n",
    "# You may obtain a copy of the License at\n",
    "#\n",
    "# https://www.apache.org/licenses/LICENSE-2.0\n",
    "#\n",
    "# Unless required by applicable law or agreed to in writing, software\n",
    "# distributed under the License is distributed on an \"AS IS\" BASIS,\n",
    "# WITHOUT WARRANTIES OR CONDITIONS OF ANY KIND, either express or implied.\n",
    "# See the License for the specific language governing permissions and\n",
    "# limitations under the License."
   ]
  },
  {
   "cell_type": "markdown",
   "id": "bf73f406",
   "metadata": {
    "id": "csNPnkuCobmG",
    "papermill": {
     "duration": 0.014017,
     "end_time": "2025-04-01T20:43:36.850053",
     "exception": false,
     "start_time": "2025-04-01T20:43:36.836036",
     "status": "completed"
    },
    "tags": []
   },
   "source": [
    "# Day 1 - Prompting\n",
    "\n",
    "Welcome to the Kaggle 5-day Generative AI course!\n",
    "\n",
    "This notebook will show you how to get started with the Gemini API and walk you through some of the example prompts and techniques that you can also read about in the Prompting whitepaper. You don't need to read the whitepaper to use this notebook, but the papers will give you some theoretical context and background to complement this interactive notebook.\n",
    "\n",
    "\n",
    "## Before you begin\n",
    "\n",
    "In this notebook, you'll start exploring prompting using the Python SDK and AI Studio. For some inspiration, you might enjoy exploring some apps that have been built using the Gemini family of models. Here are a few that we like, and we think you will too.\n",
    "\n",
    "* [TextFX](https://textfx.withgoogle.com/) is a suite of AI-powered tools for rappers, made in collaboration with Lupe Fiasco,\n",
    "* [SQL Talk](https://sql-talk-r5gdynozbq-uc.a.run.app/) shows how you can talk directly to a database using the Gemini API,\n",
    "* [NotebookLM](https://notebooklm.google/) uses Gemini models to build your own personal AI research assistant.\n",
    "\n",
    "\n",
    "## For help\n",
    "\n",
    "**Common issues are covered in the [FAQ and troubleshooting guide](https://www.kaggle.com/code/markishere/day-0-troubleshooting-and-faqs).**\n",
    "\n",
    "## New for Gemini 2.0!\n",
    "\n",
    "This course material was first launched in November 2024. The AI and LLM space is moving incredibly fast, so we have made some updates to use the latest models and capabilities.\n",
    "\n",
    "* These codelabs have been updated to use the Gemini 2.0 family of models.\n",
    "* The Python SDK has been updated from `google-generativeai` to the new, unified [`google-genai`](https://pypi.org/project/google-genai) SDK.\n",
    "  * This new SDK works with both the developer Gemini API as well as Google Cloud Vertex AI, and switching is [as simple as changing some fields](https://pypi.org/project/google-genai/#:~:text=.Client%28%29-,API%20Selection,-By%20default%2C%20the).\n",
    "* New model capabilities have been added to the relevant codelabs, such as \"thinking mode\" in this lab.\n",
    "* Day 1 includes a new [Evaluation codelab](https://www.kaggle.com/code/markishere/day-1-evaluation-and-structured-output)."
   ]
  },
  {
   "attachments": {
    "d8299597-f771-4195-ac94-1d6f658ef2bd.png": {
     "image/png": "[encoded data removed]"
    },
    "ed25e346-2e15-4ab0-bc22-503eb1845e66.png": {
     "image/png": "[encoded data removed]"
    }
   },
   "cell_type": "markdown",
   "id": "d0a70d54",
   "metadata": {
    "id": "f00ea7c99e44",
    "papermill": {
     "duration": 0.013766,
     "end_time": "2025-04-01T20:43:36.877997",
     "exception": false,
     "start_time": "2025-04-01T20:43:36.864231",
     "status": "completed"
    },
    "tags": []
   },
   "source": [
    "## Get started with Kaggle notebooks\n",
    "\n",
    "If this is your first time using a Kaggle notebook, welcome! You can read about how to use Kaggle notebooks [in the docs](https://www.kaggle.com/docs/notebooks).\n",
    "\n",
    "First, you will need to phone verify your account at kaggle.com/settings.\n",
    "\n",
    "![](https://storage.googleapis.com/kaggle-media/Images/5dgai_0.png)"
   ]
  },
  {
   "cell_type": "markdown",
   "id": "88cc0bb0",
   "metadata": {
    "papermill": {
     "duration": 0.013852,
     "end_time": "2025-04-01T20:43:36.905804",
     "exception": false,
     "start_time": "2025-04-01T20:43:36.891952",
     "status": "completed"
    },
    "tags": []
   },
   "source": [
    "To run this notebook, as well as the others in this course, you will need to make a copy, or fork, the notebook. Look for the `Copy and Edit` button in the top-right, and **click it** to make an editable, private copy of the notebook. It should look like this one:\n",
    "\n",
    "![Copy and Edit button](https://storage.googleapis.com/kaggle-media/Images/5gdai_sc_1.png)\n",
    "\n",
    "Your copy will now have a ▶️ **Run** button next to each code cell that you can press to execute that cell. These notebooks are expected to be run in order from top-to-bottom, but you are encouraged to add new cells, run your own code and explore. If you get stuck, you can try the `Factory reset` option in the `Run` menu, or head back to the original notebook and make a fresh copy.\n",
    "\n",
    "![Run cell button](https://storage.googleapis.com/kaggle-media/Images/5gdai_sc_2.png)\n",
    "\n",
    "### Problems?\n",
    "\n",
    "If you have any problems, head over to the [Kaggle Discord](https://discord.com/invite/kaggle), find the [`#5dgai-q-and-a` channel](https://discord.com/channels/1101210829807956100/1303438695143178251) and ask for help."
   ]
  },
  {
   "cell_type": "markdown",
   "id": "00d6d4dc",
   "metadata": {
    "id": "ExkOXcPxtTb5",
    "papermill": {
     "duration": 0.013827,
     "end_time": "2025-04-01T20:43:36.933670",
     "exception": false,
     "start_time": "2025-04-01T20:43:36.919843",
     "status": "completed"
    },
    "tags": []
   },
   "source": [
    "## Get started with the Gemini API\n",
    "\n",
    "All of the exercises in this notebook will use the [Gemini API](https://ai.google.dev/gemini-api/) by way of the [Python SDK](https://pypi.org/project/google-genai/). Each of these prompts can be accessed directly in [Google AI Studio](https://aistudio.google.com/) too, so if you would rather use a web interface and skip the code for this activity, look for the <img src=\"https://ai.google.dev/site-assets/images/marketing/home/icon-ais.png\" style=\"height: 24px\" height=24/> AI Studio link on each prompt."
   ]
  },
  {
   "cell_type": "markdown",
   "id": "e7133ffd",
   "metadata": {
    "papermill": {
     "duration": 0.013798,
     "end_time": "2025-04-01T20:43:36.961497",
     "exception": false,
     "start_time": "2025-04-01T20:43:36.947699",
     "status": "completed"
    },
    "tags": []
   },
   "source": [
    "Next, you will need to add your API key to your Kaggle Notebook as a Kaggle User Secret.\n",
    "\n",
    "![](https://storage.googleapis.com/kaggle-media/Images/5dgai_1.png)\n",
    "![](https://storage.googleapis.com/kaggle-media/Images/5dgai_2.png)\n",
    "![](https://storage.googleapis.com/kaggle-media/Images/5dgai_3.png)\n",
    "![](https://storage.googleapis.com/kaggle-media/Images/5dgai_4.png)"
   ]
  },
  {
   "cell_type": "markdown",
   "id": "12ac561d",
   "metadata": {
    "id": "UAjUV3BsvFXQ",
    "papermill": {
     "duration": 0.013724,
     "end_time": "2025-04-01T20:43:36.989272",
     "exception": false,
     "start_time": "2025-04-01T20:43:36.975548",
     "status": "completed"
    },
    "tags": []
   },
   "source": [
    "### Install the SDK"
   ]
  },
  {
   "cell_type": "code",
   "execution_count": 2,
   "id": "bc7d3915",
   "metadata": {
    "execution": {
     "iopub.execute_input": "2025-04-01T20:43:37.019774Z",
     "iopub.status.busy": "2025-04-01T20:43:37.018789Z",
     "iopub.status.idle": "2025-04-01T20:43:54.911323Z",
     "shell.execute_reply": "2025-04-01T20:43:54.909880Z"
    },
    "id": "NzwzJFU9LqkJ",
    "papermill": {
     "duration": 17.910466,
     "end_time": "2025-04-01T20:43:54.913953",
     "exception": false,
     "start_time": "2025-04-01T20:43:37.003487",
     "status": "completed"
    },
    "tags": []
   },
   "outputs": [],
   "source": [
    "!pip uninstall -qqy jupyterlab  # Remove unused packages from Kaggle's base image that conflict\n",
    "!pip install -U -q \"google-genai==1.7.0\""
   ]
  },
  {
   "cell_type": "markdown",
   "id": "1dd57625",
   "metadata": {
    "papermill": {
     "duration": 0.014073,
     "end_time": "2025-04-01T20:43:54.942571",
     "exception": false,
     "start_time": "2025-04-01T20:43:54.928498",
     "status": "completed"
    },
    "tags": []
   },
   "source": [
    "Import the SDK and some helpers for rendering the output."
   ]
  },
  {
   "cell_type": "code",
   "execution_count": 3,
   "id": "d8eea921",
   "metadata": {
    "execution": {
     "iopub.execute_input": "2025-04-01T20:43:54.972939Z",
     "iopub.status.busy": "2025-04-01T20:43:54.972546Z",
     "iopub.status.idle": "2025-04-01T20:43:56.331851Z",
     "shell.execute_reply": "2025-04-01T20:43:56.330630Z"
    },
    "id": "5DwxYIRavMST",
    "papermill": {
     "duration": 1.377605,
     "end_time": "2025-04-01T20:43:56.334341",
     "exception": false,
     "start_time": "2025-04-01T20:43:54.956736",
     "status": "completed"
    },
    "tags": []
   },
   "outputs": [],
   "source": [
    "from google import genai\n",
    "from google.genai import types\n",
    "\n",
    "from IPython.display import HTML, Markdown, display"
   ]
  },
  {
   "cell_type": "markdown",
   "id": "82d4291b",
   "metadata": {
    "papermill": {
     "duration": 0.013985,
     "end_time": "2025-04-01T20:43:56.362526",
     "exception": false,
     "start_time": "2025-04-01T20:43:56.348541",
     "status": "completed"
    },
    "tags": []
   },
   "source": [
    "Set up a retry helper. This allows you to \"Run all\" without worrying about per-minute quota."
   ]
  },
  {
   "cell_type": "code",
   "execution_count": 4,
   "id": "f906c0a5",
   "metadata": {
    "execution": {
     "iopub.execute_input": "2025-04-01T20:43:56.393217Z",
     "iopub.status.busy": "2025-04-01T20:43:56.391887Z",
     "iopub.status.idle": "2025-04-01T20:43:56.546729Z",
     "shell.execute_reply": "2025-04-01T20:43:56.545705Z"
    },
    "papermill": {
     "duration": 0.173094,
     "end_time": "2025-04-01T20:43:56.549682",
     "exception": false,
     "start_time": "2025-04-01T20:43:56.376588",
     "status": "completed"
    },
    "tags": []
   },
   "outputs": [],
   "source": [
    "from google.api_core import retry\n",
    "\n",
    "\n",
    "is_retriable = lambda e: (isinstance(e, genai.errors.APIError) and e.code in {429, 503})\n",
    "\n",
    "genai.models.Models.generate_content = retry.Retry(\n",
    "    predicate=is_retriable)(genai.models.Models.generate_content)"
   ]
  },
  {
   "cell_type": "markdown",
   "id": "8b0c2e16",
   "metadata": {
    "id": "DNEt2BCOvOJ1",
    "papermill": {
     "duration": 0.014319,
     "end_time": "2025-04-01T20:43:56.584492",
     "exception": false,
     "start_time": "2025-04-01T20:43:56.570173",
     "status": "completed"
    },
    "tags": []
   },
   "source": [
    "### Set up your API key\n",
    "\n",
    "To run the following cell, your API key must be stored it in a [Kaggle secret](https://www.kaggle.com/discussions/product-feedback/114053) named `GOOGLE_API_KEY`.\n",
    "\n",
    "If you don't already have an API key, you can grab one from [AI Studio](https://aistudio.google.com/app/apikey). You can find [detailed instructions in the docs](https://ai.google.dev/gemini-api/docs/api-key).\n",
    "\n",
    "To make the key available through Kaggle secrets, choose `Secrets` from the `Add-ons` menu and follow the instructions to add your key or enable it for this notebook."
   ]
  },
  {
   "cell_type": "code",
   "execution_count": 5,
   "id": "e7daeaa8",
   "metadata": {
    "execution": {
     "iopub.execute_input": "2025-04-01T20:43:56.614872Z",
     "iopub.status.busy": "2025-04-01T20:43:56.613815Z",
     "iopub.status.idle": "2025-04-01T20:43:56.794705Z",
     "shell.execute_reply": "2025-04-01T20:43:56.793625Z"
    },
    "id": "SHl0bkPCvayd",
    "papermill": {
     "duration": 0.198462,
     "end_time": "2025-04-01T20:43:56.797170",
     "exception": false,
     "start_time": "2025-04-01T20:43:56.598708",
     "status": "completed"
    },
    "tags": []
   },
   "outputs": [],
   "source": [
    "from kaggle_secrets import UserSecretsClient\n",
    "\n",
    "GOOGLE_API_KEY = UserSecretsClient().get_secret(\"GOOGLE_API_KEY\")"
   ]
  },
  {
   "attachments": {
    "d2be9aab-2527-48af-b6cf-1f06cdd7c3a7.png": {
     "image/png": "[encoded data removed]"
    }
   },
   "cell_type": "markdown",
   "id": "339417b5",
   "metadata": {
    "id": "4e720472fd86",
    "papermill": {
     "duration": 0.015519,
     "end_time": "2025-04-01T20:43:56.826991",
     "exception": false,
     "start_time": "2025-04-01T20:43:56.811472",
     "status": "completed"
    },
    "tags": []
   },
   "source": [
    "If you received an error response along the lines of `No user secrets exist for kernel id ...`, then you need to add your API key via `Add-ons`, `Secrets` **and** enable it.\n",
    "\n",
    "![Screenshot of the checkbox to enable GOOGLE_API_KEY secret](https://storage.googleapis.com/kaggle-media/Images/5gdai_sc_3.png)"
   ]
  },
  {
   "cell_type": "markdown",
   "id": "67e075dc",
   "metadata": {
    "id": "H_YXCYIKvyZJ",
    "papermill": {
     "duration": 0.01391,
     "end_time": "2025-04-01T20:43:56.855219",
     "exception": false,
     "start_time": "2025-04-01T20:43:56.841309",
     "status": "completed"
    },
    "tags": []
   },
   "source": [
    "### Run your first prompt\n",
    "\n",
    "In this step, you will test that your API key is set up correctly by making a request.\n",
    "\n",
    "The Python SDK uses a [`Client` object](https://googleapis.github.io/python-genai/genai.html#genai.client.Client) to make requests to the API. The client lets you control which back-end to use (between the Gemini API and Vertex AI) and handles authentication (the API key).\n",
    "\n",
    "The `gemini-2.0-flash` model has been selected here.\n",
    "\n",
    "**Note**: If you see a `TransportError` on this step, you may need to **🔁 Factory reset** the notebook one time."
   ]
  },
  {
   "cell_type": "code",
   "execution_count": 6,
   "id": "d4a6bec8",
   "metadata": {
    "execution": {
     "iopub.execute_input": "2025-04-01T20:43:56.885935Z",
     "iopub.status.busy": "2025-04-01T20:43:56.884951Z",
     "iopub.status.idle": "2025-04-01T20:43:58.575313Z",
     "shell.execute_reply": "2025-04-01T20:43:58.574249Z"
    },
    "id": "BV1o0PmcvyJF",
    "papermill": {
     "duration": 1.708215,
     "end_time": "2025-04-01T20:43:58.577552",
     "exception": false,
     "start_time": "2025-04-01T20:43:56.869337",
     "status": "completed"
    },
    "tags": []
   },
   "outputs": [
    {
     "name": "stdout",
     "output_type": "stream",
     "text": [
      "Imagine you have a really, really smart toy robot.  That robot is like a super good learner.\n",
      "\n",
      "Normally, you tell your toys exactly what to do. Like, \"Walk forward, turn left, stop!\"\n",
      "\n",
      "But an AI robot is different!  You teach it by showing it lots and lots of examples. \n",
      "\n",
      "For example, if you want it to recognize cats, you show it thousands of pictures of cats!  You say, \"This is a cat!  This is a cat!  This is also a cat!\"\n",
      "\n",
      "After seeing enough cats, the robot starts to learn what makes a cat a cat - pointy ears, whiskers, furry tail, etc.  \n",
      "\n",
      "Then, if you show it a brand new picture, it can guess if it's a cat or not!  It's learned from all the examples you showed it.\n",
      "\n",
      "That's what AI is! It's about making computers (or robots!) learn from examples so they can do smart things, like recognize cats, play games, or even help doctors find diseases!\n",
      "\n",
      "It's like teaching a pet a trick, but with computers!\n",
      "\n"
     ]
    }
   ],
   "source": [
    "client = genai.Client(api_key=GOOGLE_API_KEY)\n",
    "\n",
    "response = client.models.generate_content(\n",
    "    model=\"gemini-2.0-flash\",\n",
    "    contents=\"Explain AI to me like I'm a kid.\")\n",
    "\n",
    "print(response.text)"
   ]
  },
  {
   "cell_type": "code",
   "execution_count": 7,
   "id": "7de72332",
   "metadata": {
    "execution": {
     "iopub.execute_input": "2025-04-01T20:43:58.608666Z",
     "iopub.status.busy": "2025-04-01T20:43:58.607844Z",
     "iopub.status.idle": "2025-04-01T20:44:01.944771Z",
     "shell.execute_reply": "2025-04-01T20:44:01.943712Z"
    },
    "papermill": {
     "duration": 3.354809,
     "end_time": "2025-04-01T20:44:01.947287",
     "exception": false,
     "start_time": "2025-04-01T20:43:58.592478",
     "status": "completed"
    },
    "tags": []
   },
   "outputs": [
    {
     "name": "stdout",
     "output_type": "stream",
     "text": [
      "자, 우리 꼬마 친구야, 인공지능(AI)에 대해 얘기해볼까? 😊\n",
      "\n",
      "AI는 마치 아주 똑똑한 컴퓨터 친구 같아. 이 친구는 사람들이 가르쳐주는 것을 배우고, 생각하고, 심지어 문제를 해결할 수도 있어!\n",
      "\n",
      "**예를 들어볼게!**\n",
      "\n",
      "*   **네가 좋아하는 강아지 사진을 보여주면:** AI는 \"어, 이건 강아지구나!\" 하고 알아볼 수 있어. 수많은 강아지 사진을 보고 배웠기 때문이지. 마치 네가 강아지 책을 많이 읽어서 강아지를 잘 아는 것처럼 말이야!\n",
      "*   **네가 좋아하는 노래를 틀어주면:** AI는 네가 어떤 노래를 좋아하는지 기억하고, 다음에 또 비슷한 노래를 추천해줄 수 있어. 네 취향을 배우는 거지!\n",
      "*   **엄마 아빠가 쓰는 내비게이션:** AI는 가장 빠른 길을 찾아주고, 교통 상황도 알려줘. 많은 정보를 빠르게 계산해서 똑똑하게 길을 안내하는 거야.\n",
      "\n",
      "**AI는 어떻게 배우는 걸까?**\n",
      "\n",
      "AI는 마치 스펀지처럼 많은 정보를 흡수해. 사람들이 엄청나게 많은 데이터(사진, 글, 숫자 등)를 AI에게 보여주면, AI는 그 데이터에서 패턴을 찾고 규칙을 배우는 거야.\n",
      "\n",
      "**AI는 어디에 쓰일까?**\n",
      "\n",
      "AI는 정말 많은 곳에 쓰여!\n",
      "\n",
      "*   **로봇 청소기:** 스스로 집 안을 돌아다니며 청소를 해주지.\n",
      "*   **스마트폰 음성 비서:** \"헤이 빅스비!\" 또는 \"오케이 구글!\" 하고 말하면 날씨를 알려주거나 음악을 틀어줘.\n",
      "*   **병원:** 의사 선생님들이 병을 진단하고 치료하는 데 도움을 줘.\n",
      "*   **게임:** 게임 속 캐릭터들이 더 똑똑하게 움직이고 반응하도록 만들어줘.\n",
      "\n",
      "**AI는 마법일까?**\n",
      "\n",
      "아니, AI는 마법이 아니야. 똑똑한 과학자들과 엔지니어들이 만든 특별한 프로그램일 뿐이야. 하지만 AI는 앞으로 우리 삶을 더 편리하고 재미있게 만들어줄 수 있는 멋진 기술이야!\n",
      "\n",
      "**기억할 점!**\n",
      "\n",
      "AI는 아직 배우고 있는 중이야. 가끔 실수를 하기도 하지만, 점점 더 똑똑해질 거야. 그리고 AI는 사람들을 돕기 위해 만들어졌다는 것을 기억해야 해. 😊\n",
      "\n"
     ]
    }
   ],
   "source": [
    "# Self\n",
    "tmp_response = client.models.generate_content(\n",
    "    model=\"gemini-2.0-flash\",\n",
    "    contents=\"아이에게 말하는 것처럼 AI를 설명해줘.\")\n",
    "\n",
    "print(tmp_response.text)"
   ]
  },
  {
   "cell_type": "markdown",
   "id": "fe702bba",
   "metadata": {
    "id": "f60ed9d8ae41",
    "papermill": {
     "duration": 0.014207,
     "end_time": "2025-04-01T20:44:01.976436",
     "exception": false,
     "start_time": "2025-04-01T20:44:01.962229",
     "status": "completed"
    },
    "tags": []
   },
   "source": [
    "The response often comes back in markdown format, which you can render directly in this notebook."
   ]
  },
  {
   "cell_type": "code",
   "execution_count": 8,
   "id": "bbb8c2b2",
   "metadata": {
    "execution": {
     "iopub.execute_input": "2025-04-01T20:44:02.006971Z",
     "iopub.status.busy": "2025-04-01T20:44:02.006607Z",
     "iopub.status.idle": "2025-04-01T20:44:02.014571Z",
     "shell.execute_reply": "2025-04-01T20:44:02.013488Z"
    },
    "id": "c933e5e460a5",
    "papermill": {
     "duration": 0.025897,
     "end_time": "2025-04-01T20:44:02.016760",
     "exception": false,
     "start_time": "2025-04-01T20:44:01.990863",
     "status": "completed"
    },
    "tags": []
   },
   "outputs": [
    {
     "data": {
      "text/markdown": [
       "Imagine you have a really, really smart toy robot.  That robot is like a super good learner.\n",
       "\n",
       "Normally, you tell your toys exactly what to do. Like, \"Walk forward, turn left, stop!\"\n",
       "\n",
       "But an AI robot is different!  You teach it by showing it lots and lots of examples. \n",
       "\n",
       "For example, if you want it to recognize cats, you show it thousands of pictures of cats!  You say, \"This is a cat!  This is a cat!  This is also a cat!\"\n",
       "\n",
       "After seeing enough cats, the robot starts to learn what makes a cat a cat - pointy ears, whiskers, furry tail, etc.  \n",
       "\n",
       "Then, if you show it a brand new picture, it can guess if it's a cat or not!  It's learned from all the examples you showed it.\n",
       "\n",
       "That's what AI is! It's about making computers (or robots!) learn from examples so they can do smart things, like recognize cats, play games, or even help doctors find diseases!\n",
       "\n",
       "It's like teaching a pet a trick, but with computers!\n"
      ],
      "text/plain": [
       "<IPython.core.display.Markdown object>"
      ]
     },
     "execution_count": 8,
     "metadata": {},
     "output_type": "execute_result"
    }
   ],
   "source": [
    "Markdown(response.text)"
   ]
  },
  {
   "cell_type": "code",
   "execution_count": 9,
   "id": "afc02bbc",
   "metadata": {
    "execution": {
     "iopub.execute_input": "2025-04-01T20:44:02.048973Z",
     "iopub.status.busy": "2025-04-01T20:44:02.048628Z",
     "iopub.status.idle": "2025-04-01T20:44:02.055780Z",
     "shell.execute_reply": "2025-04-01T20:44:02.054774Z"
    },
    "papermill": {
     "duration": 0.025408,
     "end_time": "2025-04-01T20:44:02.057866",
     "exception": false,
     "start_time": "2025-04-01T20:44:02.032458",
     "status": "completed"
    },
    "tags": []
   },
   "outputs": [
    {
     "data": {
      "text/markdown": [
       "Imagine you have a really, really smart toy robot.  That robot is like a super good learner.\n",
       "\n",
       "Normally, you tell your toys exactly what to do. Like, \"Walk forward, turn left, stop!\"\n",
       "\n",
       "But an AI robot is different!  You teach it by showing it lots and lots of examples. \n",
       "\n",
       "For example, if you want it to recognize cats, you show it thousands of pictures of cats!  You say, \"This is a cat!  This is a cat!  This is also a cat!\"\n",
       "\n",
       "After seeing enough cats, the robot starts to learn what makes a cat a cat - pointy ears, whiskers, furry tail, etc.  \n",
       "\n",
       "Then, if you show it a brand new picture, it can guess if it's a cat or not!  It's learned from all the examples you showed it.\n",
       "\n",
       "That's what AI is! It's about making computers (or robots!) learn from examples so they can do smart things, like recognize cats, play games, or even help doctors find diseases!\n",
       "\n",
       "It's like teaching a pet a trick, but with computers!\n"
      ],
      "text/plain": [
       "<IPython.core.display.Markdown object>"
      ]
     },
     "metadata": {},
     "output_type": "display_data"
    }
   ],
   "source": [
    "# Self\n",
    "temp_response = Markdown(response.text)\n",
    "# print(temp_response)  # <IPython.core.display.Markdown object>\n",
    "display(temp_response)"
   ]
  },
  {
   "cell_type": "markdown",
   "id": "06a65d2f",
   "metadata": {
    "id": "byx0pT9ZMW2Q",
    "papermill": {
     "duration": 0.014527,
     "end_time": "2025-04-01T20:44:02.087129",
     "exception": false,
     "start_time": "2025-04-01T20:44:02.072602",
     "status": "completed"
    },
    "tags": []
   },
   "source": [
    "### Start a chat\n",
    "\n",
    "The previous example uses a single-turn, text-in/text-out structure, but you can also set up a multi-turn chat structure too."
   ]
  },
  {
   "cell_type": "code",
   "execution_count": 10,
   "id": "3796de1e",
   "metadata": {
    "execution": {
     "iopub.execute_input": "2025-04-01T20:44:02.117931Z",
     "iopub.status.busy": "2025-04-01T20:44:02.117581Z",
     "iopub.status.idle": "2025-04-01T20:44:02.654281Z",
     "shell.execute_reply": "2025-04-01T20:44:02.652976Z"
    },
    "id": "lV_S5ZL5MidD",
    "papermill": {
     "duration": 0.554829,
     "end_time": "2025-04-01T20:44:02.656540",
     "exception": false,
     "start_time": "2025-04-01T20:44:02.101711",
     "status": "completed"
    },
    "tags": []
   },
   "outputs": [
    {
     "name": "stdout",
     "output_type": "stream",
     "text": [
      "Nice to meet you, Jae-min Hong! It's a pleasure to connect with you. Is there anything I can help you with today?\n",
      "\n"
     ]
    }
   ],
   "source": [
    "chat = client.chats.create(model='gemini-2.0-flash', history=[])\n",
    "response = chat.send_message('Hello! My name is Jae-min Hong.')\n",
    "print(response.text)"
   ]
  },
  {
   "cell_type": "code",
   "execution_count": 11,
   "id": "32df69ea",
   "metadata": {
    "execution": {
     "iopub.execute_input": "2025-04-01T20:44:02.687568Z",
     "iopub.status.busy": "2025-04-01T20:44:02.687185Z",
     "iopub.status.idle": "2025-04-01T20:44:03.775411Z",
     "shell.execute_reply": "2025-04-01T20:44:03.774340Z"
    },
    "id": "7b0372c3c64a",
    "papermill": {
     "duration": 1.106332,
     "end_time": "2025-04-01T20:44:03.777623",
     "exception": false,
     "start_time": "2025-04-01T20:44:02.671291",
     "status": "completed"
    },
    "tags": []
   },
   "outputs": [
    {
     "name": "stdout",
     "output_type": "stream",
     "text": [
      "Okay, here's a fascinating fact about dinosaurs:\n",
      "\n",
      "**While we often picture dinosaurs as green or brown, recent fossil evidence suggests many dinosaurs, including some types of raptors and ornithomimids, had feathers and even vibrant colors!**\n",
      "\n",
      "Scientists have found fossilized melanosomes (pigment-containing structures) within dinosaur feathers. By analyzing these structures, they can infer what colors the dinosaurs likely were. This means some dinosaurs might have looked more like exotic birds than the scaly monsters we see in movies!\n",
      "\n",
      "Isn't that cool? They could have been quite colorful and patterned, using their plumage for display, camouflage, or even thermoregulation.\n",
      "\n"
     ]
    }
   ],
   "source": [
    "response = chat.send_message('Can you tell me something interesting about dinosaurs?')\n",
    "print(response.text)"
   ]
  },
  {
   "cell_type": "markdown",
   "id": "2fffbd2a",
   "metadata": {
    "papermill": {
     "duration": 0.014513,
     "end_time": "2025-04-01T20:44:03.806977",
     "exception": false,
     "start_time": "2025-04-01T20:44:03.792464",
     "status": "completed"
    },
    "tags": []
   },
   "source": [
    "While you have the `chat` object alive, the conversation state\n",
    "persists. Confirm that by asking if it knows the user's name."
   ]
  },
  {
   "cell_type": "code",
   "execution_count": 12,
   "id": "03573ba4",
   "metadata": {
    "execution": {
     "iopub.execute_input": "2025-04-01T20:44:03.838054Z",
     "iopub.status.busy": "2025-04-01T20:44:03.837650Z",
     "iopub.status.idle": "2025-04-01T20:44:04.299764Z",
     "shell.execute_reply": "2025-04-01T20:44:04.298711Z"
    },
    "id": "d3f9591392a7",
    "papermill": {
     "duration": 0.480442,
     "end_time": "2025-04-01T20:44:04.302083",
     "exception": false,
     "start_time": "2025-04-01T20:44:03.821641",
     "status": "completed"
    },
    "tags": []
   },
   "outputs": [
    {
     "name": "stdout",
     "output_type": "stream",
     "text": [
      "Yes, your name is Jae-min Hong.\n",
      "\n"
     ]
    }
   ],
   "source": [
    "response = chat.send_message('Do you remember what my name is?')\n",
    "print(response.text)"
   ]
  },
  {
   "cell_type": "code",
   "execution_count": 13,
   "id": "a60cf432",
   "metadata": {
    "execution": {
     "iopub.execute_input": "2025-04-01T20:44:04.333504Z",
     "iopub.status.busy": "2025-04-01T20:44:04.333138Z",
     "iopub.status.idle": "2025-04-01T20:44:04.338538Z",
     "shell.execute_reply": "2025-04-01T20:44:04.337448Z"
    },
    "papermill": {
     "duration": 0.024108,
     "end_time": "2025-04-01T20:44:04.341082",
     "exception": false,
     "start_time": "2025-04-01T20:44:04.316974",
     "status": "completed"
    },
    "tags": []
   },
   "outputs": [
    {
     "name": "stdout",
     "output_type": "stream",
     "text": [
      "{'_modules': <google.genai.models.Models object at 0x7fcebc8dd3c0>, '_model': 'gemini-2.0-flash', '_config': None, '_comprehensive_history': [UserContent(parts=[Part(video_metadata=None, thought=None, code_execution_result=None, executable_code=None, file_data=None, function_call=None, function_response=None, inline_data=None, text='Hello! My name is Jae-min Hong.')], role='user'), Content(parts=[Part(video_metadata=None, thought=None, code_execution_result=None, executable_code=None, file_data=None, function_call=None, function_response=None, inline_data=None, text=\"Nice to meet you, Jae-min Hong! It's a pleasure to connect with you. Is there anything I can help you with today?\\n\")], role='model'), UserContent(parts=[Part(video_metadata=None, thought=None, code_execution_result=None, executable_code=None, file_data=None, function_call=None, function_response=None, inline_data=None, text='Can you tell me something interesting about dinosaurs?')], role='user'), Content(parts=[Part(video_metadata=None, thought=None, code_execution_result=None, executable_code=None, file_data=None, function_call=None, function_response=None, inline_data=None, text=\"Okay, here's a fascinating fact about dinosaurs:\\n\\n**While we often picture dinosaurs as green or brown, recent fossil evidence suggests many dinosaurs, including some types of raptors and ornithomimids, had feathers and even vibrant colors!**\\n\\nScientists have found fossilized melanosomes (pigment-containing structures) within dinosaur feathers. By analyzing these structures, they can infer what colors the dinosaurs likely were. This means some dinosaurs might have looked more like exotic birds than the scaly monsters we see in movies!\\n\\nIsn't that cool? They could have been quite colorful and patterned, using their plumage for display, camouflage, or even thermoregulation.\\n\")], role='model'), UserContent(parts=[Part(video_metadata=None, thought=None, code_execution_result=None, executable_code=None, file_data=None, function_call=None, function_response=None, inline_data=None, text='Do you remember what my name is?')], role='user'), Content(parts=[Part(video_metadata=None, thought=None, code_execution_result=None, executable_code=None, file_data=None, function_call=None, function_response=None, inline_data=None, text='Yes, your name is Jae-min Hong.\\n')], role='model')], '_curated_history': [UserContent(parts=[Part(video_metadata=None, thought=None, code_execution_result=None, executable_code=None, file_data=None, function_call=None, function_response=None, inline_data=None, text='Hello! My name is Jae-min Hong.')], role='user'), Content(parts=[Part(video_metadata=None, thought=None, code_execution_result=None, executable_code=None, file_data=None, function_call=None, function_response=None, inline_data=None, text=\"Nice to meet you, Jae-min Hong! It's a pleasure to connect with you. Is there anything I can help you with today?\\n\")], role='model'), UserContent(parts=[Part(video_metadata=None, thought=None, code_execution_result=None, executable_code=None, file_data=None, function_call=None, function_response=None, inline_data=None, text='Can you tell me something interesting about dinosaurs?')], role='user'), Content(parts=[Part(video_metadata=None, thought=None, code_execution_result=None, executable_code=None, file_data=None, function_call=None, function_response=None, inline_data=None, text=\"Okay, here's a fascinating fact about dinosaurs:\\n\\n**While we often picture dinosaurs as green or brown, recent fossil evidence suggests many dinosaurs, including some types of raptors and ornithomimids, had feathers and even vibrant colors!**\\n\\nScientists have found fossilized melanosomes (pigment-containing structures) within dinosaur feathers. By analyzing these structures, they can infer what colors the dinosaurs likely were. This means some dinosaurs might have looked more like exotic birds than the scaly monsters we see in movies!\\n\\nIsn't that cool? They could have been quite colorful and patterned, using their plumage for display, camouflage, or even thermoregulation.\\n\")], role='model'), UserContent(parts=[Part(video_metadata=None, thought=None, code_execution_result=None, executable_code=None, file_data=None, function_call=None, function_response=None, inline_data=None, text='Do you remember what my name is?')], role='user'), Content(parts=[Part(video_metadata=None, thought=None, code_execution_result=None, executable_code=None, file_data=None, function_call=None, function_response=None, inline_data=None, text='Yes, your name is Jae-min Hong.\\n')], role='model')]}\n"
     ]
    }
   ],
   "source": [
    "# Self\n",
    "# print(chat)  # <google.genai.chats.Chat object at 0x79cd9cf9aa70>\n",
    "print(chat.__dict__)"
   ]
  },
  {
   "cell_type": "markdown",
   "id": "24a68fbd",
   "metadata": {
    "id": "2KAjpr1200sW",
    "papermill": {
     "duration": 0.015134,
     "end_time": "2025-04-01T20:44:04.371106",
     "exception": false,
     "start_time": "2025-04-01T20:44:04.355972",
     "status": "completed"
    },
    "tags": []
   },
   "source": [
    "### Choose a model\n",
    "\n",
    "The Gemini API provides access to a number of models from the Gemini model family. Read about the available models and their capabilities on the [model overview page](https://ai.google.dev/gemini-api/docs/models/gemini).\n",
    "\n",
    "In this step you'll use the API to list all of the available models."
   ]
  },
  {
   "cell_type": "code",
   "execution_count": 14,
   "id": "d04240b4",
   "metadata": {
    "execution": {
     "iopub.execute_input": "2025-04-01T20:44:04.402638Z",
     "iopub.status.busy": "2025-04-01T20:44:04.402293Z",
     "iopub.status.idle": "2025-04-01T20:44:04.425505Z",
     "shell.execute_reply": "2025-04-01T20:44:04.424475Z"
    },
    "id": "uUUZa2uq2jDm",
    "papermill": {
     "duration": 0.041801,
     "end_time": "2025-04-01T20:44:04.427747",
     "exception": false,
     "start_time": "2025-04-01T20:44:04.385946",
     "status": "completed"
    },
    "tags": []
   },
   "outputs": [
    {
     "name": "stdout",
     "output_type": "stream",
     "text": [
      "models/chat-bison-001\n",
      "models/text-bison-001\n",
      "models/embedding-gecko-001\n",
      "models/gemini-1.0-pro-vision-latest\n",
      "models/gemini-pro-vision\n",
      "models/gemini-1.5-pro-latest\n",
      "models/gemini-1.5-pro-001\n",
      "models/gemini-1.5-pro-002\n",
      "models/gemini-1.5-pro\n",
      "models/gemini-1.5-flash-latest\n",
      "models/gemini-1.5-flash-001\n",
      "models/gemini-1.5-flash-001-tuning\n",
      "models/gemini-1.5-flash\n",
      "models/gemini-1.5-flash-002\n",
      "models/gemini-1.5-flash-8b\n",
      "models/gemini-1.5-flash-8b-001\n",
      "models/gemini-1.5-flash-8b-latest\n",
      "models/gemini-1.5-flash-8b-exp-0827\n",
      "models/gemini-1.5-flash-8b-exp-0924\n",
      "models/gemini-2.5-pro-exp-03-25\n",
      "models/gemini-2.0-flash-exp\n",
      "models/gemini-2.0-flash\n",
      "models/gemini-2.0-flash-001\n",
      "models/gemini-2.0-flash-exp-image-generation\n",
      "models/gemini-2.0-flash-lite-001\n",
      "models/gemini-2.0-flash-lite\n",
      "models/gemini-2.0-flash-lite-preview-02-05\n",
      "models/gemini-2.0-flash-lite-preview\n",
      "models/gemini-2.0-pro-exp\n",
      "models/gemini-2.0-pro-exp-02-05\n",
      "models/gemini-exp-1206\n",
      "models/gemini-2.0-flash-thinking-exp-01-21\n",
      "models/gemini-2.0-flash-thinking-exp\n",
      "models/gemini-2.0-flash-thinking-exp-1219\n",
      "models/learnlm-1.5-pro-experimental\n",
      "models/gemma-3-4b-it\n",
      "models/gemma-3-12b-it\n",
      "models/gemma-3-27b-it\n",
      "models/embedding-001\n",
      "models/text-embedding-004\n",
      "models/gemini-embedding-exp-03-07\n",
      "models/gemini-embedding-exp\n",
      "models/aqa\n",
      "models/imagen-3.0-generate-002\n"
     ]
    }
   ],
   "source": [
    "for model in client.models.list():\n",
    "  print(model.name)"
   ]
  },
  {
   "cell_type": "markdown",
   "id": "e3511698",
   "metadata": {
    "id": "rN49kSI54R1v",
    "papermill": {
     "duration": 0.015335,
     "end_time": "2025-04-01T20:44:04.458632",
     "exception": false,
     "start_time": "2025-04-01T20:44:04.443297",
     "status": "completed"
    },
    "tags": []
   },
   "source": [
    "The [`models.list`](https://ai.google.dev/api/models#method:-models.list) response also returns additional information about the model's capabilities, like the token limits and supported parameters."
   ]
  },
  {
   "cell_type": "code",
   "execution_count": 15,
   "id": "4576c7f9",
   "metadata": {
    "execution": {
     "iopub.execute_input": "2025-04-01T20:44:04.490738Z",
     "iopub.status.busy": "2025-04-01T20:44:04.490375Z",
     "iopub.status.idle": "2025-04-01T20:44:04.517161Z",
     "shell.execute_reply": "2025-04-01T20:44:04.515931Z"
    },
    "id": "k7JJ1K6j4Rl8",
    "papermill": {
     "duration": 0.045536,
     "end_time": "2025-04-01T20:44:04.519396",
     "exception": false,
     "start_time": "2025-04-01T20:44:04.473860",
     "status": "completed"
    },
    "tags": []
   },
   "outputs": [
    {
     "name": "stdout",
     "output_type": "stream",
     "text": [
      "{'description': 'Gemini 2.0 Flash',\n",
      " 'display_name': 'Gemini 2.0 Flash',\n",
      " 'input_token_limit': 1048576,\n",
      " 'name': 'models/gemini-2.0-flash',\n",
      " 'output_token_limit': 8192,\n",
      " 'supported_actions': ['generateContent', 'countTokens'],\n",
      " 'tuned_model_info': {},\n",
      " 'version': '2.0'}\n"
     ]
    }
   ],
   "source": [
    "from pprint import pprint\n",
    "\n",
    "for model in client.models.list():\n",
    "  if model.name == 'models/gemini-2.0-flash':\n",
    "    pprint(model.to_json_dict())\n",
    "    break"
   ]
  },
  {
   "cell_type": "markdown",
   "id": "9f70f38b",
   "metadata": {
    "id": "5rU_UBlZdooM",
    "papermill": {
     "duration": 0.015325,
     "end_time": "2025-04-01T20:44:04.550705",
     "exception": false,
     "start_time": "2025-04-01T20:44:04.535380",
     "status": "completed"
    },
    "tags": []
   },
   "source": [
    "## Explore generation parameters\n",
    "\n"
   ]
  },
  {
   "cell_type": "markdown",
   "id": "6be14c4f",
   "metadata": {
    "id": "G7NfEizeipbW",
    "papermill": {
     "duration": 0.014818,
     "end_time": "2025-04-01T20:44:04.580754",
     "exception": false,
     "start_time": "2025-04-01T20:44:04.565936",
     "status": "completed"
    },
    "tags": []
   },
   "source": [
    "### Output length\n",
    "\n",
    "When generating text with an LLM, the output length affects cost and performance. Generating more tokens increases computation, leading to higher energy consumption, latency, and cost.\n",
    "\n",
    "To stop the model from generating tokens past a limit, you can specify the `max_output_tokens` parameter when using the Gemini API. Specifying this parameter does not influence the generation of the output tokens, so the output will not become more stylistically or textually succinct, but it will stop generating tokens once the specified length is reached. Prompt engineering may be required to generate a more complete output for your given limit."
   ]
  },
  {
   "cell_type": "code",
   "execution_count": 16,
   "id": "e12211f1",
   "metadata": {
    "execution": {
     "iopub.execute_input": "2025-04-01T20:44:04.614744Z",
     "iopub.status.busy": "2025-04-01T20:44:04.613991Z",
     "iopub.status.idle": "2025-04-01T20:44:05.935167Z",
     "shell.execute_reply": "2025-04-01T20:44:05.934157Z"
    },
    "id": "qVf23JsIi9ma",
    "papermill": {
     "duration": 1.340705,
     "end_time": "2025-04-01T20:44:05.937388",
     "exception": false,
     "start_time": "2025-04-01T20:44:04.596683",
     "status": "completed"
    },
    "tags": []
   },
   "outputs": [
    {
     "name": "stdout",
     "output_type": "stream",
     "text": [
      "## The Humble Olive: A Cornerstone of Culture, Cuisine, and Modern Society\n",
      "\n",
      "The olive, a small, unassuming fruit, has woven itself into the fabric of human civilization for millennia. From its humble origins in the Mediterranean basin, the olive has spread its branches across the globe, becoming more than just a foodstuff; it is a symbol of peace, prosperity, and cultural identity. Its importance in modern society is multifaceted, encompassing culinary traditions, health and wellness, economic stability, and even environmental considerations. This essay will explore the profound and enduring role of olives in shaping our world today.\n",
      "\n",
      "Perhaps the most immediately recognizable aspect of the olive’s importance lies in its culinary applications. Olive oil, extracted from the fruit, is a cornerstone of the Mediterranean diet, a dietary pattern widely recognized for its health benefits and longevity-promoting qualities. From drizzling over salads and grilling vegetables to frying seafood and baking bread, olive oil lends its distinctive flavor and velvety texture to countless dishes. Its diverse range of\n"
     ]
    }
   ],
   "source": [
    "from google.genai import types\n",
    "\n",
    "short_config = types.GenerateContentConfig(max_output_tokens=200)\n",
    "\n",
    "response = client.models.generate_content(\n",
    "    model='gemini-2.0-flash',\n",
    "    config=short_config,\n",
    "    contents='Write a 1000 word essay on the importance of olives in modern society.')\n",
    "\n",
    "print(response.text)"
   ]
  },
  {
   "cell_type": "code",
   "execution_count": 17,
   "id": "7d063c5b",
   "metadata": {
    "execution": {
     "iopub.execute_input": "2025-04-01T20:44:05.969665Z",
     "iopub.status.busy": "2025-04-01T20:44:05.969271Z",
     "iopub.status.idle": "2025-04-01T20:44:06.968184Z",
     "shell.execute_reply": "2025-04-01T20:44:06.967189Z"
    },
    "id": "W-3kR2F5kdMR",
    "papermill": {
     "duration": 1.018212,
     "end_time": "2025-04-01T20:44:06.970922",
     "exception": false,
     "start_time": "2025-04-01T20:44:05.952710",
     "status": "completed"
    },
    "tags": []
   },
   "outputs": [
    {
     "name": "stdout",
     "output_type": "stream",
     "text": [
      "From sun-drenched groves, a humble fruit,\n",
      "The olive's journey, bearing loot.\n",
      "No gold or gems, but pressed with care,\n",
      "A liquid grace, beyond compare.\n",
      "\n",
      "On salads bright, a savory gleam,\n",
      "In tapenades, a waking dream.\n",
      "An oil that heals, a flavor deep,\n",
      "The modern palate, secrets keep.\n",
      "\n",
      "So raise a glass, to emerald hue,\n",
      "The olive's gift, forever new.\n",
      "A taste of peace, a vibrant art,\n",
      "A cornerstone of every heart.\n",
      "\n"
     ]
    }
   ],
   "source": [
    "response = client.models.generate_content(\n",
    "    model='gemini-2.0-flash',\n",
    "    config=short_config,\n",
    "    contents='Write a short poem on the importance of olives in modern society.')\n",
    "\n",
    "print(response.text)"
   ]
  },
  {
   "cell_type": "markdown",
   "id": "7128ada7",
   "metadata": {
    "id": "3ZhDSLB6lqqB",
    "papermill": {
     "duration": 0.015822,
     "end_time": "2025-04-01T20:44:07.003255",
     "exception": false,
     "start_time": "2025-04-01T20:44:06.987433",
     "status": "completed"
    },
    "tags": []
   },
   "source": [
    "Explore with your own prompts. Try a prompt with a restrictive output limit and then adjust the prompt to work within that limit."
   ]
  },
  {
   "cell_type": "code",
   "execution_count": 18,
   "id": "ee2be950",
   "metadata": {
    "execution": {
     "iopub.execute_input": "2025-04-01T20:44:07.035782Z",
     "iopub.status.busy": "2025-04-01T20:44:07.035427Z",
     "iopub.status.idle": "2025-04-01T20:44:09.588286Z",
     "shell.execute_reply": "2025-04-01T20:44:09.587200Z"
    },
    "papermill": {
     "duration": 2.571528,
     "end_time": "2025-04-01T20:44:09.590363",
     "exception": false,
     "start_time": "2025-04-01T20:44:07.018835",
     "status": "completed"
    },
    "tags": []
   },
   "outputs": [
    {
     "name": "stdout",
     "output_type": "stream",
     "text": [
      "## RAG 모델에 대한 뜨거운 열정, 끊임없는 성장 추구\n",
      "\n",
      "저는 RAG(Retrieval-Augmented Generation) 모델의 무한한 가능성에 매료되어, 이 분야를 깊이 파고들며 꾸준히 성장하고 있는 개발자입니다. RAG 모델이 가진 정보 검색과 생성 능력의 결합은 사용자에게 더욱 풍부하고 정확한 정보를 제공할 수 있다는 점에서 큰 매력을 느꼈습니다.\n",
      "\n",
      "최근에는 RAG 모델 관련 경진대회에 참여하며 이론적인 지식을 실제 문제 해결에 적용하는 경험을 쌓았습니다. 비록 리더보드에서 높은 순위를 기록하지는 못했지만, 다양한 데이터 전처리 방식, 임베딩 모델, 검색 알고리즘을 실험하며 값진 인사이트를 얻었습니다. 특히, 데이터의 특성을 고려한 최적의 임베딩 모델 선정, 검색 결과의 신뢰도를 높이기 위한 랭킹 알고리즘 개선, 생성 모델의 답변 품질 향상을 위한 프롬프트 엔지니어링 등 다양한 시도를 통해 RAG 모델의 성능을 극대화하는 방법을 고민했습니다.\n",
      "\n",
      "경진대회 참여를 통해 얻은 경험은 RAG 모델의 작동 원리를 더욱 깊이 이해하고, 실제 서비스에 적용 가능한 기술적 노하우를 축적하는 데 큰 도움이 되었습니다. 앞으로도 RAG 모델에 대한 끊임없는 학습과 실험을 통해, 사용자에게 더욱 유용한 정보를 제공하는 RAG 시스템 개발에 기여하고 싶습니다. 저는 RAG 모델 분야의 전문가로 성장하기 위해 끊임없이 배우고 도전하며, 실력 향상을 위해 최선을 다할 것입니다.\n",
      "\n"
     ]
    }
   ],
   "source": [
    "# Self\n",
    "short_config = types.GenerateContentConfig(max_output_tokens=500)\n",
    "\n",
    "response = client.models.generate_content(\n",
    "    model='gemini-2.0-flash',\n",
    "    config=short_config,\n",
    "    contents='자기소개서를 500자 내외로 작성해줘. 나는 RAG 과정을 구현하는 것에 관심이 있어. 최근엔 경진대회에도 참여해서 리더보드 점수는 낮지만, 의미있는 실험들을 많이 했어.')\n",
    "\n",
    "print(response.text)"
   ]
  },
  {
   "cell_type": "markdown",
   "id": "e6965c31",
   "metadata": {
    "id": "alx-WaAvir_9",
    "papermill": {
     "duration": 0.014916,
     "end_time": "2025-04-01T20:44:09.621240",
     "exception": false,
     "start_time": "2025-04-01T20:44:09.606324",
     "status": "completed"
    },
    "tags": []
   },
   "source": [
    "### Temperature\n",
    "\n",
    "Temperature controls the degree of randomness in token selection. Higher temperatures result in a higher number of candidate tokens from which the next output token is selected, and can produce more diverse results, while lower temperatures have the opposite effect, such that a temperature of 0 results in greedy decoding, selecting the most probable token at each step.\n",
    "\n",
    "Temperature doesn't provide any guarantees of randomness, but it can be used to \"nudge\" the output somewhat."
   ]
  },
  {
   "cell_type": "code",
   "execution_count": 19,
   "id": "393c9def",
   "metadata": {
    "execution": {
     "iopub.execute_input": "2025-04-01T20:44:09.653495Z",
     "iopub.status.busy": "2025-04-01T20:44:09.653092Z",
     "iopub.status.idle": "2025-04-01T20:44:10.751063Z",
     "shell.execute_reply": "2025-04-01T20:44:10.750139Z"
    },
    "id": "SHraGMzqnZqt",
    "papermill": {
     "duration": 1.116917,
     "end_time": "2025-04-01T20:44:10.753534",
     "exception": false,
     "start_time": "2025-04-01T20:44:09.636617",
     "status": "completed"
    },
    "tags": []
   },
   "outputs": [
    {
     "name": "stdout",
     "output_type": "stream",
     "text": [
      "Azure\n",
      " -------------------------\n",
      "Magenta.\n",
      " -------------------------\n",
      "Azure\n",
      " -------------------------\n",
      "Magenta\n",
      " -------------------------\n",
      "Purple.\n",
      " -------------------------\n"
     ]
    }
   ],
   "source": [
    "high_temp_config = types.GenerateContentConfig(temperature=2.0)\n",
    "\n",
    "\n",
    "for _ in range(5):\n",
    "  response = client.models.generate_content(\n",
    "      model='gemini-2.0-flash',\n",
    "      config=high_temp_config,\n",
    "      contents='Pick a random colour... (respond in a single word)')\n",
    "\n",
    "  if response.text:\n",
    "    print(response.text, '-' * 25)"
   ]
  },
  {
   "cell_type": "markdown",
   "id": "1c9c7890",
   "metadata": {
    "id": "z3J4pCTuof7e",
    "papermill": {
     "duration": 0.015279,
     "end_time": "2025-04-01T20:44:10.784740",
     "exception": false,
     "start_time": "2025-04-01T20:44:10.769461",
     "status": "completed"
    },
    "tags": []
   },
   "source": [
    "Now try the same prompt with temperature set to zero. Note that the output is not completely deterministic, as other parameters affect token selection, but the results will tend to be more stable."
   ]
  },
  {
   "cell_type": "code",
   "execution_count": 20,
   "id": "4eb20ecb",
   "metadata": {
    "execution": {
     "iopub.execute_input": "2025-04-01T20:44:10.818024Z",
     "iopub.status.busy": "2025-04-01T20:44:10.817644Z",
     "iopub.status.idle": "2025-04-01T20:45:42.403689Z",
     "shell.execute_reply": "2025-04-01T20:45:42.402595Z"
    },
    "id": "clymkWv-PfUZ",
    "papermill": {
     "duration": 91.605393,
     "end_time": "2025-04-01T20:45:42.405970",
     "exception": false,
     "start_time": "2025-04-01T20:44:10.800577",
     "status": "completed"
    },
    "tags": []
   },
   "outputs": [
    {
     "name": "stdout",
     "output_type": "stream",
     "text": [
      "Azure\n",
      " -------------------------\n",
      "Azure\n",
      " -------------------------\n",
      "Azure\n",
      " -------------------------\n",
      "Azure\n",
      " -------------------------\n",
      "Azure\n",
      " -------------------------\n"
     ]
    }
   ],
   "source": [
    "low_temp_config = types.GenerateContentConfig(temperature=0.0)\n",
    "\n",
    "for _ in range(5):\n",
    "  response = client.models.generate_content(\n",
    "      model='gemini-2.0-flash',\n",
    "      config=low_temp_config,\n",
    "      contents='Pick a random colour... (respond in a single word)')\n",
    "\n",
    "  if response.text:\n",
    "    print(response.text, '-' * 25)"
   ]
  },
  {
   "cell_type": "code",
   "execution_count": 21,
   "id": "7adb317d",
   "metadata": {
    "execution": {
     "iopub.execute_input": "2025-04-01T20:45:42.439834Z",
     "iopub.status.busy": "2025-04-01T20:45:42.439452Z",
     "iopub.status.idle": "2025-04-01T20:45:43.594704Z",
     "shell.execute_reply": "2025-04-01T20:45:43.593515Z"
    },
    "papermill": {
     "duration": 1.174898,
     "end_time": "2025-04-01T20:45:43.596937",
     "exception": false,
     "start_time": "2025-04-01T20:45:42.422039",
     "status": "completed"
    },
    "tags": []
   },
   "outputs": [
    {
     "name": "stdout",
     "output_type": "stream",
     "text": [
      "Turquoise\n",
      " -------------------------\n",
      "Turquoise\n",
      " -------------------------\n",
      "Orange\n",
      " -------------------------\n",
      "Turquoise\n",
      " -------------------------\n",
      "Azure\n",
      " -------------------------\n"
     ]
    }
   ],
   "source": [
    "# Self\n",
    "low_temp_config = types.GenerateContentConfig(temperature=0.5)\n",
    "\n",
    "for _ in range(5):\n",
    "  response = client.models.generate_content(\n",
    "      model='gemini-2.0-flash',\n",
    "      config=low_temp_config,\n",
    "      contents='Pick a random colour... (respond in a single word)')\n",
    "\n",
    "  if response.text:\n",
    "    print(response.text, '-' * 25)"
   ]
  },
  {
   "cell_type": "markdown",
   "id": "87bd91e0",
   "metadata": {
    "id": "St5nt3vzitsZ",
    "papermill": {
     "duration": 0.015782,
     "end_time": "2025-04-01T20:45:43.629347",
     "exception": false,
     "start_time": "2025-04-01T20:45:43.613565",
     "status": "completed"
    },
    "tags": []
   },
   "source": [
    "### Top-P\n",
    "\n",
    "Like temperature, the top-P parameter is also used to control the diversity of the model's output.\n",
    "\n",
    "Top-P defines the probability threshold that, once cumulatively exceeded, tokens stop being selected as candidates. A top-P of 0 is typically equivalent to greedy decoding, and a top-P of 1 typically selects every token in the model's vocabulary.\n",
    "\n",
    "You may also see top-K referenced in LLM literature. Top-K is not configurable in the Gemini 2.0 series of models, but can be changed in older models. Top-K is a positive integer that defines the number of most probable tokens from which to select the output token. A top-K of 1 selects a single token, performing greedy decoding.\n",
    "\n",
    "\n",
    "Run this example a number of times, change the settings and observe the change in output."
   ]
  },
  {
   "cell_type": "code",
   "execution_count": 22,
   "id": "77e170d3",
   "metadata": {
    "execution": {
     "iopub.execute_input": "2025-04-01T20:45:43.664525Z",
     "iopub.status.busy": "2025-04-01T20:45:43.663689Z",
     "iopub.status.idle": "2025-04-01T20:45:48.577810Z",
     "shell.execute_reply": "2025-04-01T20:45:48.576743Z"
    },
    "id": "lPlzpEavUV8F",
    "papermill": {
     "duration": 4.934676,
     "end_time": "2025-04-01T20:45:48.580287",
     "exception": false,
     "start_time": "2025-04-01T20:45:43.645611",
     "status": "completed"
    },
    "tags": []
   },
   "outputs": [
    {
     "name": "stdout",
     "output_type": "stream",
     "text": [
      "Jasper was, by all accounts, a creature of comfort. His life revolved around sunbeams, the soft caress of Mrs. Higgins’ hand, and the precise allocation of his nine daily naps. His entire world was contained within the cozy confines of Number 12, Primrose Lane. Until, that is, the robin started singing.\n",
      "\n",
      "This wasn’t just any robin. This robin, with its audacious chirp and flirtatious hops on the window ledge, whispered of a world beyond Jasper's pampered existence. It spoke of rustling leaves, of chasing butterflies, of the wild, untamed scent of damp earth. Jasper, a cat who had previously considered a dust bunny under the sofa a formidable challenge, felt a tremor of something unknown stirring within his feline heart.\n",
      "\n",
      "One particularly warm morning, as Mrs. Higgins was distracted by a particularly juicy episode of her favorite soap opera, Jasper saw his opportunity. He nudged the slightly ajar back door with his nose, and with a surge of adrenaline, pushed it open.\n",
      "\n",
      "The world exploded.\n",
      "\n",
      "The air, thick with the scent of blooming honeysuckle and freshly cut grass, assaulted his senses. Butterflies, bigger and more colorful than any he had seen on the television, flitted past his nose. He crouched low, his hunter's instincts, long dormant, suddenly awakened.\n",
      "\n",
      "His first adventure led him to the towering oak tree at the edge of the garden. He scaled it, clawing his way up the rough bark, driven by an inexplicable desire to reach the canopy. From his vantage point, the world stretched out before him, a tapestry of green and gold. He spotted the robin, perched on a branch, its bright eyes gleaming with mischief. Jasper gave a soft, almost apologetic meow. The robin just chirped louder, as if to say, \"Come on, slowpoke! The adventure's just beginning!\"\n",
      "\n",
      "And so, Jasper followed. He chased the robin through the tall grass of the meadow, his sleek black fur rippling in the breeze. He explored the gurgling stream, cautiously dipping a paw into the cool water. He even faced a grumpy badger, who, after a brief hiss-off, decided Jasper wasn’t worth the effort.\n",
      "\n",
      "As the sun began to dip below the horizon, painting the sky in hues of orange and purple, a wave of weariness washed over Jasper. His paws were sore, his fur was matted, and his belly rumbled with hunger. He realized, with a pang of guilt, that Mrs. Higgins would be worried.\n",
      "\n",
      "He followed his nose back towards the familiar scent of home. He found the back door still ajar, a beacon in the twilight. As he slipped inside, Mrs. Higgins rushed over, her face etched with relief.\n",
      "\n",
      "\"Jasper! You naughty boy! Where have you been?\" she fussed, scooping him into her arms.\n",
      "\n",
      "He purred, burying his face in her soft shoulder. He didn't tell her about the robin, or the oak tree, or the badger. He didn't tell her about the incredible, terrifying, exhilarating world he had discovered. \n",
      "\n",
      "He only knew that, as he curled up on his favorite cushion, the sunbeams felt warmer, the house felt cozier, and his naps felt infinitely more deserved. He was still a cat of comfort, but now, he was a cat of adventure too. He knew, with a certainty that settled deep in his bones, that the robin would be back. And when it did, Jasper would be ready. The world beyond Number 12, Primrose Lane, was waiting.\n",
      "\n"
     ]
    }
   ],
   "source": [
    "model_config = types.GenerateContentConfig(\n",
    "    # These are the default values for gemini-2.0-flash.\n",
    "    temperature=1.0,\n",
    "    top_p=0.95,\n",
    ")\n",
    "\n",
    "story_prompt = \"You are a creative writer. Write a short story about a cat who goes on an adventure.\"\n",
    "response = client.models.generate_content(\n",
    "    model='gemini-2.0-flash',\n",
    "    config=model_config,\n",
    "    contents=story_prompt)\n",
    "\n",
    "print(response.text)"
   ]
  },
  {
   "cell_type": "code",
   "execution_count": 23,
   "id": "e9a5afcd",
   "metadata": {
    "execution": {
     "iopub.execute_input": "2025-04-01T20:45:48.615407Z",
     "iopub.status.busy": "2025-04-01T20:45:48.615013Z",
     "iopub.status.idle": "2025-04-01T20:45:53.215006Z",
     "shell.execute_reply": "2025-04-01T20:45:53.213901Z"
    },
    "papermill": {
     "duration": 4.61967,
     "end_time": "2025-04-01T20:45:53.217238",
     "exception": false,
     "start_time": "2025-04-01T20:45:48.597568",
     "status": "completed"
    },
    "tags": []
   },
   "outputs": [
    {
     "name": "stdout",
     "output_type": "stream",
     "text": [
      "Clementine, a calico of discerning tastes and a perpetually unimpressed expression, considered her life utterly predictable. Sunbeam naps, chasing dust bunnies, the occasional disdainful glance at the goldfish – it was all rather…beige. She yearned for something more, a splash of vibrant color in her monochrome existence.\n",
      "\n",
      "One blustery autumn afternoon, the back door, usually bolted tighter than a miser's purse, was ajar. A tantalizing gust of wind, carrying the scent of damp earth and decaying leaves, beckoned. Clementine, abandoning her nap mid-yawn, crept towards the opening.\n",
      "\n",
      "The world outside was a riot of sensory overload. Towering trees, their leaves ablaze in fiery hues, rustled secrets in the wind. Squirrels, plump and frantic, darted across the lawn, burying treasures. Clementine, emboldened by the novelty, slipped through the gap and into the unknown.\n",
      "\n",
      "Her adventure began with a perilous journey across the lawn, dodging rogue acorns and the judgmental stares of a robin perched on a birdbath. She navigated a jungle of overgrown ferns, their fronds tickling her whiskers. The air hummed with the buzz of unseen insects and the distant bark of a dog, a sound that sent a shiver of delicious fear down her spine.\n",
      "\n",
      "Deeper into the woods she ventured, following a winding path paved with fallen leaves. She encountered a grumpy hedgehog, who grumbled about the audacity of cats trespassing on his property. Clementine, with a flick of her tail, dismissed his complaints and continued on her way.\n",
      "\n",
      "The path led her to a babbling brook, its water sparkling like liquid diamonds. On the opposite bank, she spotted it: a magnificent, ancient oak, its branches reaching towards the sky like gnarled fingers. At the base of the tree, nestled amongst the roots, was a hollow, filled with soft moss and the faint scent of…catnip.\n",
      "\n",
      "Clementine, her heart pounding with anticipation, leaped across the brook. She landed gracefully on the other side and padded towards the oak. The catnip was potent, intoxicating. She rolled in it, purring with unadulterated joy, the scent clinging to her fur.\n",
      "\n",
      "As the sun began to dip below the horizon, painting the sky in shades of orange and purple, Clementine knew it was time to return. The adventure had been exhilarating, a brief escape from the mundane. She carried the scent of the woods, the memory of the babbling brook, and the intoxicating aroma of catnip back with her.\n",
      "\n",
      "Slipping back through the ajar door, she found her human, Sarah, frantic with worry. Sarah scooped her up in a hug, burying her face in Clementine's fur. Clementine, usually resistant to such displays of affection, allowed it, purring softly.\n",
      "\n",
      "Back on her favorite sunbeam, Clementine closed her eyes. The world might still be beige, but now it was beige with a hint of adventure, a whisper of the wild, and the lingering scent of catnip. And that, she decided, was quite enough. For now.\n",
      "\n"
     ]
    }
   ],
   "source": [
    "# Self\n",
    "model_config = types.GenerateContentConfig(\n",
    "    # These are the default values for gemini-2.0-flash.\n",
    "    temperature=0.1,\n",
    "    top_p=0.95,\n",
    ")\n",
    "\n",
    "story_prompt = \"You are a creative writer. Write a short story about a cat who goes on an adventure.\"\n",
    "response = client.models.generate_content(\n",
    "    model='gemini-2.0-flash',\n",
    "    config=model_config,\n",
    "    contents=story_prompt)\n",
    "\n",
    "print(response.text)"
   ]
  },
  {
   "cell_type": "code",
   "execution_count": 24,
   "id": "0cec3174",
   "metadata": {
    "execution": {
     "iopub.execute_input": "2025-04-01T20:45:53.251779Z",
     "iopub.status.busy": "2025-04-01T20:45:53.251440Z",
     "iopub.status.idle": "2025-04-01T20:45:58.084157Z",
     "shell.execute_reply": "2025-04-01T20:45:58.083023Z"
    },
    "papermill": {
     "duration": 4.85275,
     "end_time": "2025-04-01T20:45:58.086554",
     "exception": false,
     "start_time": "2025-04-01T20:45:53.233804",
     "status": "completed"
    },
    "tags": []
   },
   "outputs": [
    {
     "name": "stdout",
     "output_type": "stream",
     "text": [
      "Clementine, a calico of discerning tastes and a perpetually unimpressed expression, considered her life utterly predictable. Sunbeam naps, chasing dust bunnies, the occasional disdainful glance at the goldfish – it was all rather…beige. Then, the wind changed.\n",
      "\n",
      "Not just any wind, mind you. This wind, whistling through the slightly ajar kitchen window, carried the scent of pine needles, damp earth, and something wild, something untamed. It tickled Clementine’s whiskers and stirred a dormant yearning deep within her feline soul.\n",
      "\n",
      "She leaped onto the windowsill, her tail twitching. The world outside, usually a blur of passing cars and the neighbor’s yappy chihuahua, suddenly shimmered with possibility. The wind whispered promises of rustling leaves, scurrying creatures, and adventures beyond the confines of her perfectly curated indoor life.\n",
      "\n",
      "Clementine, against all her better judgment, squeezed through the window.\n",
      "\n",
      "The backyard was a jungle compared to her living room. Towering sunflowers loomed like exotic trees, and the overgrown rose bushes formed a thorny labyrinth. She navigated this new terrain with surprising agility, her paws padding softly on the damp earth.\n",
      "\n",
      "The scent of the wild wind grew stronger, pulling her towards the edge of the yard, where a gap in the fence beckoned. Hesitantly, she slipped through.\n",
      "\n",
      "Beyond the fence lay a world she had only glimpsed from afar: a sprawling park, a tapestry of green and brown, alive with the sounds of birdsong and the murmur of unseen creatures. Clementine, emboldened by the wind and her own burgeoning sense of adventure, ventured in.\n",
      "\n",
      "She stalked through the undergrowth, a miniature tiger in a world of giants. She chased butterflies with iridescent wings, their flight patterns as unpredictable as her own newfound freedom. She startled a family of squirrels, their chattering scolding echoing through the trees.\n",
      "\n",
      "Deeper and deeper she went, until she found herself at the edge of a small pond. Dragonflies danced on the surface, their wings shimmering in the sunlight. A frog, perched on a lily pad, croaked a greeting. Clementine, mesmerized, dipped a paw into the cool water, then recoiled with a dramatic shudder. Water, after all, was still water.\n",
      "\n",
      "As the sun began to dip below the horizon, painting the sky in hues of orange and purple, a pang of something akin to homesickness tugged at Clementine’s heart. The adventure had been exhilarating, but the thought of her warm bed and a bowl of tuna was undeniably appealing.\n",
      "\n",
      "Following her nose, she retraced her steps, the scent of home growing stronger with each stride. She slipped back through the gap in the fence, her fur slightly ruffled, her paws a little muddy, but her spirit undeniably changed.\n",
      "\n",
      "Back in the kitchen, she jumped onto the counter, demanding her dinner with a particularly imperious meow. As she devoured her tuna, she glanced at the slightly ajar window, a secret smile playing on her lips.\n",
      "\n",
      "The world might still be beige, but Clementine knew, with a certainty that warmed her from the inside out, that even a calico of discerning tastes could find adventure, if only she dared to follow the wind. And perhaps, just perhaps, tomorrow she would do it again.\n",
      "\n"
     ]
    }
   ],
   "source": [
    "# Self\n",
    "model_config = types.GenerateContentConfig(\n",
    "    # These are the default values for gemini-2.0-flash.\n",
    "    temperature=0.1,\n",
    "    top_p=0.95,\n",
    ")\n",
    "\n",
    "story_prompt = \"You are a creative writer. Write a short story about a cat who goes on an adventure.\"\n",
    "response = client.models.generate_content(\n",
    "    model='gemini-2.0-flash',\n",
    "    config=model_config,\n",
    "    contents=story_prompt)\n",
    "\n",
    "print(response.text)"
   ]
  },
  {
   "cell_type": "markdown",
   "id": "f461cac0",
   "metadata": {
    "id": "rMrYs1koY6DX",
    "papermill": {
     "duration": 0.016322,
     "end_time": "2025-04-01T20:45:58.119598",
     "exception": false,
     "start_time": "2025-04-01T20:45:58.103276",
     "status": "completed"
    },
    "tags": []
   },
   "source": [
    "## Prompting\n",
    "\n",
    "This section contains some prompts from the chapter for you to try out directly in the API. Try changing the text here to see how each prompt performs with different instructions, more examples, or any other changes you can think of."
   ]
  },
  {
   "cell_type": "markdown",
   "id": "94502e58",
   "metadata": {
    "id": "hhj_tQidZJP7",
    "papermill": {
     "duration": 0.018265,
     "end_time": "2025-04-01T20:45:58.154256",
     "exception": false,
     "start_time": "2025-04-01T20:45:58.135991",
     "status": "completed"
    },
    "tags": []
   },
   "source": [
    "### Zero-shot\n",
    "\n",
    "Zero-shot prompts are prompts that describe the request for the model directly.\n",
    "\n",
    "<table align=left>\n",
    "  <td>\n",
    "    <a target=\"_blank\" href=\"https://aistudio.google.com/prompts/1gzKKgDHwkAvexG5Up0LMtl1-6jKMKe4g\"><img src=\"https://ai.google.dev/site-assets/images/marketing/home/icon-ais.png\" style=\"height: 24px\" height=24/> Open in AI Studio</a>\n",
    "  </td>\n",
    "</table>"
   ]
  },
  {
   "cell_type": "code",
   "execution_count": 25,
   "id": "051f752e",
   "metadata": {
    "execution": {
     "iopub.execute_input": "2025-04-01T20:45:58.188887Z",
     "iopub.status.busy": "2025-04-01T20:45:58.188519Z",
     "iopub.status.idle": "2025-04-01T20:45:58.593496Z",
     "shell.execute_reply": "2025-04-01T20:45:58.592276Z"
    },
    "id": "1_t-cwnDZzbH",
    "papermill": {
     "duration": 0.424942,
     "end_time": "2025-04-01T20:45:58.595632",
     "exception": false,
     "start_time": "2025-04-01T20:45:58.170690",
     "status": "completed"
    },
    "tags": []
   },
   "outputs": [
    {
     "name": "stdout",
     "output_type": "stream",
     "text": [
      "POSITIVE\n",
      "\n"
     ]
    }
   ],
   "source": [
    "model_config = types.GenerateContentConfig(\n",
    "    temperature=0.1,\n",
    "    top_p=1,\n",
    "    max_output_tokens=5,\n",
    ")\n",
    "\n",
    "zero_shot_prompt = \"\"\"Classify movie reviews as POSITIVE, NEUTRAL or NEGATIVE.\n",
    "Review: \"Her\" is a disturbing study revealing the direction\n",
    "humanity is headed if AI is allowed to keep evolving,\n",
    "unchecked. I wish there were more movies like this masterpiece.\n",
    "Sentiment: \"\"\"\n",
    "\n",
    "response = client.models.generate_content(\n",
    "    model='gemini-2.0-flash',\n",
    "    config=model_config,\n",
    "    contents=zero_shot_prompt)\n",
    "\n",
    "print(response.text)"
   ]
  },
  {
   "cell_type": "markdown",
   "id": "5595d537",
   "metadata": {
    "id": "3b5568bdeb11",
    "papermill": {
     "duration": 0.016547,
     "end_time": "2025-04-01T20:45:58.629094",
     "exception": false,
     "start_time": "2025-04-01T20:45:58.612547",
     "status": "completed"
    },
    "tags": []
   },
   "source": [
    "#### Enum mode\n",
    "\n",
    "The models are trained to generate text, and while the Gemini 2.0 models are great at following instructions, other models can sometimes produce more text than you may wish for. In the preceding example, the model will output the label, but sometimes it can include a preceding \"Sentiment\" label, and without an output token limit, it may also add explanatory text afterwards. See [this prompt in AI Studio](https://aistudio.google.com/prompts/1gzKKgDHwkAvexG5Up0LMtl1-6jKMKe4g) for an example.\n",
    "\n",
    "The Gemini API has an [Enum mode](https://github.com/google-gemini/cookbook/blob/main/quickstarts/Enum.ipynb) feature that allows you to constrain the output to a fixed set of values."
   ]
  },
  {
   "cell_type": "code",
   "execution_count": 26,
   "id": "b075247e",
   "metadata": {
    "execution": {
     "iopub.execute_input": "2025-04-01T20:45:58.664340Z",
     "iopub.status.busy": "2025-04-01T20:45:58.663933Z",
     "iopub.status.idle": "2025-04-01T20:45:59.105400Z",
     "shell.execute_reply": "2025-04-01T20:45:59.104249Z"
    },
    "id": "ad118a56c598",
    "papermill": {
     "duration": 0.461795,
     "end_time": "2025-04-01T20:45:59.107631",
     "exception": false,
     "start_time": "2025-04-01T20:45:58.645836",
     "status": "completed"
    },
    "tags": []
   },
   "outputs": [
    {
     "name": "stdout",
     "output_type": "stream",
     "text": [
      "positive\n"
     ]
    }
   ],
   "source": [
    "import enum\n",
    "\n",
    "class Sentiment(enum.Enum):\n",
    "    POSITIVE = \"positive\"\n",
    "    NEUTRAL = \"neutral\"\n",
    "    NEGATIVE = \"negative\"\n",
    "\n",
    "\n",
    "response = client.models.generate_content(\n",
    "    model='gemini-2.0-flash',\n",
    "    config=types.GenerateContentConfig(\n",
    "        response_mime_type=\"text/x.enum\",\n",
    "        response_schema=Sentiment\n",
    "    ),\n",
    "    contents=zero_shot_prompt)\n",
    "\n",
    "print(response.text)"
   ]
  },
  {
   "cell_type": "code",
   "execution_count": 27,
   "id": "97e79cbf",
   "metadata": {
    "execution": {
     "iopub.execute_input": "2025-04-01T20:45:59.143563Z",
     "iopub.status.busy": "2025-04-01T20:45:59.142868Z",
     "iopub.status.idle": "2025-04-01T20:45:59.624940Z",
     "shell.execute_reply": "2025-04-01T20:45:59.623837Z"
    },
    "papermill": {
     "duration": 0.502758,
     "end_time": "2025-04-01T20:45:59.627293",
     "exception": false,
     "start_time": "2025-04-01T20:45:59.124535",
     "status": "completed"
    },
    "tags": []
   },
   "outputs": [
    {
     "name": "stdout",
     "output_type": "stream",
     "text": [
      "정상 메일\n"
     ]
    }
   ],
   "source": [
    "# Self\n",
    "zero_shot_prompt = \"\"\"Classify emails as POSITIVE, NEUTRAL or NEGATIVE.\n",
    "Email: 안녕하세요, Jae-min Hong 님!\n",
    "DACON 경진대회 운영진입니다.\n",
    "최종 2차 평가 안내를 공지드립니다.\n",
    "자세한 사항은 토크를 확인해 주세요.\n",
    "Sentiment: \"\"\"\n",
    "\n",
    "class Sentiment(enum.Enum):\n",
    "    POSITIVE = \"정상 메일\"\n",
    "    NEUTRAL = \"분류 불가능\"\n",
    "    NEGATIVE = \"스팸 메일\"\n",
    "\n",
    "\n",
    "response = client.models.generate_content(\n",
    "    model='gemini-2.0-flash',\n",
    "    config=types.GenerateContentConfig(\n",
    "        response_mime_type=\"text/x.enum\",\n",
    "        response_schema=Sentiment\n",
    "    ),\n",
    "    contents=zero_shot_prompt)\n",
    "\n",
    "print(response.text)"
   ]
  },
  {
   "cell_type": "code",
   "execution_count": 28,
   "id": "2033de02",
   "metadata": {
    "execution": {
     "iopub.execute_input": "2025-04-01T20:45:59.662909Z",
     "iopub.status.busy": "2025-04-01T20:45:59.662568Z",
     "iopub.status.idle": "2025-04-01T20:46:00.126137Z",
     "shell.execute_reply": "2025-04-01T20:46:00.125035Z"
    },
    "papermill": {
     "duration": 0.484482,
     "end_time": "2025-04-01T20:46:00.128549",
     "exception": false,
     "start_time": "2025-04-01T20:45:59.644067",
     "status": "completed"
    },
    "tags": []
   },
   "outputs": [
    {
     "name": "stdout",
     "output_type": "stream",
     "text": [
      "분류 불가능\n"
     ]
    }
   ],
   "source": [
    "# Self\n",
    "zero_shot_prompt = \"\"\"Classify emails as POSITIVE, NEUTRAL or NEGATIVE.\n",
    "Email: 안녕하세요, Jae-min Hong 님!\n",
    "DACON 경진대회 운영진입니다.\n",
    "최종 2차 평가 안내를 공지드립니다.\n",
    "자세한 사항은 토크를 확인해 주세요.\n",
    "두근두근!! 결과는?\n",
    "Sentiment: \"\"\"\n",
    "\n",
    "class Sentiment(enum.Enum):\n",
    "    POSITIVE = \"정상 메일\"\n",
    "    NEUTRAL = \"분류 불가능\"\n",
    "    NEGATIVE = \"스팸 메일\"\n",
    "\n",
    "\n",
    "response = client.models.generate_content(\n",
    "    model='gemini-2.0-flash',\n",
    "    config=types.GenerateContentConfig(\n",
    "        response_mime_type=\"text/x.enum\",\n",
    "        response_schema=Sentiment\n",
    "    ),\n",
    "    contents=zero_shot_prompt)\n",
    "\n",
    "print(response.text)"
   ]
  },
  {
   "cell_type": "code",
   "execution_count": 29,
   "id": "5584539a",
   "metadata": {
    "execution": {
     "iopub.execute_input": "2025-04-01T20:46:00.165284Z",
     "iopub.status.busy": "2025-04-01T20:46:00.164859Z",
     "iopub.status.idle": "2025-04-01T20:46:00.706607Z",
     "shell.execute_reply": "2025-04-01T20:46:00.705401Z"
    },
    "papermill": {
     "duration": 0.562482,
     "end_time": "2025-04-01T20:46:00.708839",
     "exception": false,
     "start_time": "2025-04-01T20:46:00.146357",
     "status": "completed"
    },
    "tags": []
   },
   "outputs": [
    {
     "name": "stdout",
     "output_type": "stream",
     "text": [
      "스팸 메일\n"
     ]
    }
   ],
   "source": [
    "# Self\n",
    "zero_shot_prompt = \"\"\"Classify emails as POSITIVE, NEUTRAL or NEGATIVE.\n",
    "Email: 안녕하세요, Jae-min Hong 님!\n",
    "두근두근!! 당첨 결과는?\n",
    "아래 링크로 바로 접속하세요!\n",
    "Sentiment: \"\"\"\n",
    "\n",
    "class Sentiment(enum.Enum):\n",
    "    POSITIVE = \"정상 메일\"\n",
    "    NEUTRAL = \"분류 불가능\"\n",
    "    NEGATIVE = \"스팸 메일\"\n",
    "\n",
    "\n",
    "response = client.models.generate_content(\n",
    "    model='gemini-2.0-flash',\n",
    "    config=types.GenerateContentConfig(\n",
    "        response_mime_type=\"text/x.enum\",\n",
    "        response_schema=Sentiment\n",
    "    ),\n",
    "    contents=zero_shot_prompt)\n",
    "\n",
    "print(response.text)"
   ]
  },
  {
   "cell_type": "markdown",
   "id": "9e2a2a58",
   "metadata": {
    "papermill": {
     "duration": 0.016593,
     "end_time": "2025-04-01T20:46:00.742326",
     "exception": false,
     "start_time": "2025-04-01T20:46:00.725733",
     "status": "completed"
    },
    "tags": []
   },
   "source": [
    "When using constrained output like an enum, the Python SDK will attempt to convert the model's text response into a Python object automatically. It's stored in the `response.parsed` field."
   ]
  },
  {
   "cell_type": "code",
   "execution_count": 30,
   "id": "f3e05243",
   "metadata": {
    "execution": {
     "iopub.execute_input": "2025-04-01T20:46:00.778059Z",
     "iopub.status.busy": "2025-04-01T20:46:00.777695Z",
     "iopub.status.idle": "2025-04-01T20:46:00.782902Z",
     "shell.execute_reply": "2025-04-01T20:46:00.781932Z"
    },
    "papermill": {
     "duration": 0.025393,
     "end_time": "2025-04-01T20:46:00.784968",
     "exception": false,
     "start_time": "2025-04-01T20:46:00.759575",
     "status": "completed"
    },
    "tags": []
   },
   "outputs": [
    {
     "name": "stdout",
     "output_type": "stream",
     "text": [
      "Sentiment.NEGATIVE\n",
      "<enum 'Sentiment'>\n"
     ]
    }
   ],
   "source": [
    "enum_response = response.parsed\n",
    "print(enum_response)\n",
    "print(type(enum_response))"
   ]
  },
  {
   "cell_type": "markdown",
   "id": "f8a76b9f",
   "metadata": {
    "id": "0udiSwNbv45W",
    "papermill": {
     "duration": 0.016499,
     "end_time": "2025-04-01T20:46:00.818298",
     "exception": false,
     "start_time": "2025-04-01T20:46:00.801799",
     "status": "completed"
    },
    "tags": []
   },
   "source": [
    "### One-shot and few-shot\n",
    "\n",
    "Providing an example of the expected response is known as a \"one-shot\" prompt. When you provide multiple examples, it is a \"few-shot\" prompt.\n",
    "\n",
    "<table align=left>\n",
    "  <td>\n",
    "    <a target=\"_blank\" href=\"https://aistudio.google.com/prompts/1jjWkjUSoMXmLvMJ7IzADr_GxHPJVV2bg\"><img src=\"https://ai.google.dev/site-assets/images/marketing/home/icon-ais.png\" style=\"height: 24px\" height=24/> Open in AI Studio</a>\n",
    "  </td>\n",
    "</table>\n"
   ]
  },
  {
   "cell_type": "code",
   "execution_count": 31,
   "id": "cd27aaa9",
   "metadata": {
    "execution": {
     "iopub.execute_input": "2025-04-01T20:46:00.853653Z",
     "iopub.status.busy": "2025-04-01T20:46:00.853283Z",
     "iopub.status.idle": "2025-04-01T20:46:01.437831Z",
     "shell.execute_reply": "2025-04-01T20:46:01.436595Z"
    },
    "id": "hd4mVUukwOKZ",
    "papermill": {
     "duration": 0.605204,
     "end_time": "2025-04-01T20:46:01.440181",
     "exception": false,
     "start_time": "2025-04-01T20:46:00.834977",
     "status": "completed"
    },
    "tags": []
   },
   "outputs": [
    {
     "name": "stdout",
     "output_type": "stream",
     "text": [
      "```json\n",
      "{\n",
      "\"size\": \"large\",\n",
      "\"type\": \"normal\",\n",
      "\"ingredients\": [\"cheese\", \"pineapple\"]\n",
      "}\n",
      "```\n",
      "\n"
     ]
    }
   ],
   "source": [
    "few_shot_prompt = \"\"\"Parse a customer's pizza order into valid JSON:\n",
    "\n",
    "EXAMPLE:\n",
    "I want a small pizza with cheese, tomato sauce, and pepperoni.\n",
    "JSON Response:\n",
    "```\n",
    "{\n",
    "\"size\": \"small\",\n",
    "\"type\": \"normal\",\n",
    "\"ingredients\": [\"cheese\", \"tomato sauce\", \"pepperoni\"]\n",
    "}\n",
    "```\n",
    "\n",
    "EXAMPLE:\n",
    "Can I get a large pizza with tomato sauce, basil and mozzarella\n",
    "JSON Response:\n",
    "```\n",
    "{\n",
    "\"size\": \"large\",\n",
    "\"type\": \"normal\",\n",
    "\"ingredients\": [\"tomato sauce\", \"basil\", \"mozzarella\"]\n",
    "}\n",
    "```\n",
    "\n",
    "ORDER:\n",
    "\"\"\"\n",
    "\n",
    "customer_order = \"Give me a large with cheese & pineapple\"\n",
    "\n",
    "response = client.models.generate_content(\n",
    "    model='gemini-2.0-flash',\n",
    "    config=types.GenerateContentConfig(\n",
    "        temperature=0.1,\n",
    "        top_p=1,\n",
    "        max_output_tokens=250,\n",
    "    ),\n",
    "    contents=[few_shot_prompt, customer_order])\n",
    "\n",
    "print(response.text)"
   ]
  },
  {
   "cell_type": "markdown",
   "id": "10ccb2b6",
   "metadata": {
    "id": "021293096f08",
    "papermill": {
     "duration": 0.016666,
     "end_time": "2025-04-01T20:46:01.473885",
     "exception": false,
     "start_time": "2025-04-01T20:46:01.457219",
     "status": "completed"
    },
    "tags": []
   },
   "source": [
    "#### JSON mode\n",
    "\n",
    "To provide control over the schema, and to ensure that you only receive JSON (with no other text or markdown), you can use the Gemini API's [JSON mode](https://github.com/google-gemini/cookbook/blob/main/quickstarts/JSON_mode.ipynb). This forces the model to constrain decoding, such that token selection is guided by the supplied schema."
   ]
  },
  {
   "cell_type": "code",
   "execution_count": 32,
   "id": "ef8f4dd7",
   "metadata": {
    "execution": {
     "iopub.execute_input": "2025-04-01T20:46:01.509089Z",
     "iopub.status.busy": "2025-04-01T20:46:01.508726Z",
     "iopub.status.idle": "2025-04-01T20:46:02.130451Z",
     "shell.execute_reply": "2025-04-01T20:46:02.129272Z"
    },
    "id": "50fbf0260912",
    "papermill": {
     "duration": 0.642042,
     "end_time": "2025-04-01T20:46:02.132694",
     "exception": false,
     "start_time": "2025-04-01T20:46:01.490652",
     "status": "completed"
    },
    "tags": []
   },
   "outputs": [
    {
     "name": "stdout",
     "output_type": "stream",
     "text": [
      "{\n",
      "  \"size\": \"large\",\n",
      "  \"ingredients\": [\"apple\", \"chocolate\"],\n",
      "  \"type\": \"dessert pizza\"\n",
      "}\n"
     ]
    }
   ],
   "source": [
    "import typing_extensions as typing\n",
    "\n",
    "class PizzaOrder(typing.TypedDict):\n",
    "    size: str\n",
    "    ingredients: list[str]\n",
    "    type: str\n",
    "\n",
    "\n",
    "response = client.models.generate_content(\n",
    "    model='gemini-2.0-flash',\n",
    "    config=types.GenerateContentConfig(\n",
    "        temperature=0.1,\n",
    "        response_mime_type=\"application/json\",\n",
    "        response_schema=PizzaOrder,\n",
    "    ),\n",
    "    contents=\"Can I have a large dessert pizza with apple and chocolate\")\n",
    "\n",
    "print(response.text)"
   ]
  },
  {
   "cell_type": "code",
   "execution_count": 33,
   "id": "2d827ef7",
   "metadata": {
    "execution": {
     "iopub.execute_input": "2025-04-01T20:46:02.170298Z",
     "iopub.status.busy": "2025-04-01T20:46:02.169867Z",
     "iopub.status.idle": "2025-04-01T20:46:02.933942Z",
     "shell.execute_reply": "2025-04-01T20:46:02.932795Z"
    },
    "papermill": {
     "duration": 0.786042,
     "end_time": "2025-04-01T20:46:02.936080",
     "exception": false,
     "start_time": "2025-04-01T20:46:02.150038",
     "status": "completed"
    },
    "tags": []
   },
   "outputs": [
    {
     "name": "stdout",
     "output_type": "stream",
     "text": [
      "{\n",
      "  \"productName\": [\"플레인 휘낭시에\", \"소금 초코 휘낭시에\", \"메이플 호두 휘낭시에\", \"통밀 식빵\", \"옥수수 바스크 치즈 케이크\", \"딸기 생크림 케이크\"],\n",
      "  \"productCount\": [2, 1, 2, 1, 1, 1],\n",
      "  \"notProduct\": [\"버터\", \"계란\"],\n",
      "  \"type\": \"제과/제빵\"\n",
      "}\n"
     ]
    }
   ],
   "source": [
    "# Self\n",
    "class DessertOrder(typing.TypedDict):\n",
    "    productName: list[str]\n",
    "    productCount: list[int]\n",
    "    notProduct: list[str]\n",
    "    type: str\n",
    "\n",
    "system_prompt = \"\"\"이 매장은 제과, 제빵을 판매하는 가게입니다.\n",
    "\n",
    "손님의 구매 요청 사항을 정확히 파악하세요.\n",
    "- 판매하는 제품의 여부를 확인하세요.\n",
    "    - 제과, 제빵에 해당하면 판매할 수 있습니다.\n",
    "    - 완성품인 제과, 제빵이 아니라면 판매할 수 없습니다.\n",
    "    - 판매하는 제품의 수량을 확인하세요.\n",
    "- 판매하지 않는 제품은 제외해 주세요.\"\"\"\n",
    "\n",
    "customer_order = \"\"\"안녕하세요!\n",
    "플레인 휘낭시에 2개, 소금 초코 휘낭시에 1개, 메이플 호두 휘낭시에 2개 주세요.\n",
    "아 그리고 통밀 식빵 한 봉지, 버터 1개, 계란 한 판도 살게요.\n",
    "음.. 옥수수 바스크 치즈 케이크 1개, 딸기 생크림 케이크 1개도 추가할게요!\"\"\"\n",
    "\n",
    "response = client.models.generate_content(\n",
    "    model='gemini-2.0-flash',\n",
    "    config=types.GenerateContentConfig(\n",
    "        temperature=0.1,\n",
    "        response_mime_type=\"application/json\",\n",
    "        response_schema=DessertOrder,\n",
    "    ),\n",
    "    contents=[system_prompt, customer_order])\n",
    "\n",
    "print(response.text)"
   ]
  },
  {
   "cell_type": "markdown",
   "id": "a937a53b",
   "metadata": {
    "id": "4a93e338e57c",
    "papermill": {
     "duration": 0.016737,
     "end_time": "2025-04-01T20:46:02.971964",
     "exception": false,
     "start_time": "2025-04-01T20:46:02.955227",
     "status": "completed"
    },
    "tags": []
   },
   "source": [
    "### Chain of Thought (CoT)\n",
    "\n",
    "Direct prompting on LLMs can return answers quickly and (in terms of output token usage) efficiently, but they can be prone to hallucination. The answer may \"look\" correct (in terms of language and syntax) but is incorrect in terms of factuality and reasoning.\n",
    "\n",
    "Chain-of-Thought prompting is a technique where you instruct the model to output intermediate reasoning steps, and it typically gets better results, especially when combined with few-shot examples. It is worth noting that this technique doesn't completely eliminate hallucinations, and that it tends to cost more to run, due to the increased token count.\n",
    "\n",
    "Models like the Gemini family are trained to be \"chatty\" or \"thoughtful\" and will provide reasoning steps without prompting, so for this simple example you can ask the model to be more direct in the prompt to force a non-reasoning response. Try re-running this step if the model gets lucky and gets the answer correct on the first try."
   ]
  },
  {
   "cell_type": "code",
   "execution_count": 34,
   "id": "90ac9e97",
   "metadata": {
    "execution": {
     "iopub.execute_input": "2025-04-01T20:46:03.008217Z",
     "iopub.status.busy": "2025-04-01T20:46:03.007820Z",
     "iopub.status.idle": "2025-04-01T20:46:03.398069Z",
     "shell.execute_reply": "2025-04-01T20:46:03.397059Z"
    },
    "id": "5715555db1c1",
    "papermill": {
     "duration": 0.411145,
     "end_time": "2025-04-01T20:46:03.400591",
     "exception": false,
     "start_time": "2025-04-01T20:46:02.989446",
     "status": "completed"
    },
    "tags": []
   },
   "outputs": [
    {
     "name": "stdout",
     "output_type": "stream",
     "text": [
      "48\n",
      "\n"
     ]
    }
   ],
   "source": [
    "prompt = \"\"\"When I was 4 years old, my partner was 3 times my age. Now, I\n",
    "am 20 years old. How old is my partner? Return the answer directly.\"\"\"\n",
    "\n",
    "response = client.models.generate_content(\n",
    "    model='gemini-2.0-flash',\n",
    "    contents=prompt)\n",
    "\n",
    "print(response.text)"
   ]
  },
  {
   "cell_type": "markdown",
   "id": "2229e21e",
   "metadata": {
    "id": "e12b19677bfd",
    "papermill": {
     "duration": 0.017393,
     "end_time": "2025-04-01T20:46:03.435579",
     "exception": false,
     "start_time": "2025-04-01T20:46:03.418186",
     "status": "completed"
    },
    "tags": []
   },
   "source": [
    "Now try the same approach, but indicate to the model that it should \"think step by step\"."
   ]
  },
  {
   "cell_type": "code",
   "execution_count": 35,
   "id": "6222516e",
   "metadata": {
    "execution": {
     "iopub.execute_input": "2025-04-01T20:46:03.486024Z",
     "iopub.status.busy": "2025-04-01T20:46:03.485006Z",
     "iopub.status.idle": "2025-04-01T20:46:04.173492Z",
     "shell.execute_reply": "2025-04-01T20:46:04.172467Z"
    },
    "id": "ffd7536a481f",
    "papermill": {
     "duration": 0.719278,
     "end_time": "2025-04-01T20:46:04.176667",
     "exception": false,
     "start_time": "2025-04-01T20:46:03.457389",
     "status": "completed"
    },
    "tags": []
   },
   "outputs": [
    {
     "data": {
      "text/markdown": [
       "Here's how to solve this:\n",
       "\n",
       "1. **Find the age difference:** When you were 4, your partner was 3 * 4 = 12 years old.\n",
       "2. **Calculate the age difference:** This means your partner is 12 - 4 = 8 years older than you.\n",
       "3. **Calculate the partner's current age:** Since your partner is 8 years older than you, they are currently 20 + 8 = 28 years old.\n",
       "\n",
       "**Answer:** Your partner is 28 years old.\n"
      ],
      "text/plain": [
       "<IPython.core.display.Markdown object>"
      ]
     },
     "execution_count": 35,
     "metadata": {},
     "output_type": "execute_result"
    }
   ],
   "source": [
    "prompt = \"\"\"When I was 4 years old, my partner was 3 times my age. Now,\n",
    "I am 20 years old. How old is my partner? Let's think step by step.\"\"\"\n",
    "\n",
    "response = client.models.generate_content(\n",
    "    model='gemini-2.0-flash',\n",
    "    contents=prompt)\n",
    "\n",
    "Markdown(response.text)"
   ]
  },
  {
   "cell_type": "code",
   "execution_count": 36,
   "id": "a0061c03",
   "metadata": {
    "execution": {
     "iopub.execute_input": "2025-04-01T20:46:04.219547Z",
     "iopub.status.busy": "2025-04-01T20:46:04.218562Z",
     "iopub.status.idle": "2025-04-01T20:46:05.532249Z",
     "shell.execute_reply": "2025-04-01T20:46:05.531039Z"
    },
    "papermill": {
     "duration": 1.334754,
     "end_time": "2025-04-01T20:46:05.534339",
     "exception": false,
     "start_time": "2025-04-01T20:46:04.199585",
     "status": "completed"
    },
    "tags": []
   },
   "outputs": [
    {
     "data": {
      "text/markdown": [
       "자, 단계를 따라 차근차근 생각해 봅시다.\n",
       "\n",
       "1. **처음 가지고 있던 과일:**\n",
       "   * 사과: 5개\n",
       "   * 오렌지: 3개\n",
       "   * 총합: 5 + 3 = 8개\n",
       "\n",
       "2. **먹은 과일:**\n",
       "   * 사과: 1개\n",
       "   * 오렌지: 1개\n",
       "   * 총합: 1 + 1 = 2개\n",
       "\n",
       "3. **남은 과일:**\n",
       "   * 사과: 5 - 1 = 4개\n",
       "   * 오렌지: 3 - 1 = 2개\n",
       "   * 총합: 4 + 2 = 6개\n",
       "\n",
       "4. **새로 산 딸기:**\n",
       "   * 딸기: 15개\n",
       "\n",
       "5. **최종 과일 개수:**\n",
       "   * 남은 사과, 오렌지: 6개\n",
       "   * 새로 산 딸기: 15개\n",
       "   * 총합: 6 + 15 = 21개\n",
       "\n",
       "따라서, 과일은 총 **21개**가 됩니다."
      ],
      "text/plain": [
       "<IPython.core.display.Markdown object>"
      ]
     },
     "execution_count": 36,
     "metadata": {},
     "output_type": "execute_result"
    }
   ],
   "source": [
    "# Self\n",
    "prompt = \"\"\"사과가 5개가 있고, 오렌지가 3개가 있어. \n",
    "나는 사과와 오렌지를 각각 1개 씩 먹었어. \n",
    "그리고 한 팩에 15개인 딸기를 구매한다면, 과일은 총 몇 개가 될까?\n",
    "단계별로 생각해!\"\"\"\n",
    "\n",
    "response = client.models.generate_content(\n",
    "    model='gemini-2.0-flash',\n",
    "    contents=prompt)\n",
    "\n",
    "Markdown(response.text)"
   ]
  },
  {
   "cell_type": "markdown",
   "id": "5db15c02",
   "metadata": {
    "id": "oiLgBQJj0V53",
    "papermill": {
     "duration": 0.017047,
     "end_time": "2025-04-01T20:46:05.569028",
     "exception": false,
     "start_time": "2025-04-01T20:46:05.551981",
     "status": "completed"
    },
    "tags": []
   },
   "source": [
    "### ReAct: Reason and act\n",
    "\n",
    "In this example you will run a ReAct prompt directly in the Gemini API and perform the searching steps yourself. As this prompt follows a well-defined structure, there are frameworks available that wrap the prompt into easier-to-use APIs that make tool calls automatically, such as the LangChain example from the \"Prompting\" whitepaper.\n",
    "\n",
    "To try this out with the Wikipedia search engine, check out the [Searching Wikipedia with ReAct](https://github.com/google-gemini/cookbook/blob/main/examples/Search_Wikipedia_using_ReAct.ipynb) cookbook example.\n",
    "\n",
    "\n",
    "> Note: The prompt and in-context examples used here are from [https://github.com/ysymyth/ReAct](https://github.com/ysymyth/ReAct) which is published under an [MIT license](https://opensource.org/licenses/MIT), Copyright (c) 2023 Shunyu Yao.\n",
    "\n",
    "<table align=left>\n",
    "  <td>\n",
    "    <a target=\"_blank\" href=\"https://aistudio.google.com/prompts/18oo63Lwosd-bQ6Ay51uGogB3Wk3H8XMO\"><img src=\"https://ai.google.dev/site-assets/images/marketing/home/icon-ais.png\" style=\"height: 24px\" height=24/> Open in AI Studio</a>\n",
    "  </td>\n",
    "</table>\n"
   ]
  },
  {
   "cell_type": "code",
   "execution_count": 37,
   "id": "34c38f1e",
   "metadata": {
    "execution": {
     "iopub.execute_input": "2025-04-01T20:46:05.605600Z",
     "iopub.status.busy": "2025-04-01T20:46:05.605255Z",
     "iopub.status.idle": "2025-04-01T20:46:05.611294Z",
     "shell.execute_reply": "2025-04-01T20:46:05.610197Z"
    },
    "id": "cBgyNJ5z0VSs",
    "papermill": {
     "duration": 0.027174,
     "end_time": "2025-04-01T20:46:05.613478",
     "exception": false,
     "start_time": "2025-04-01T20:46:05.586304",
     "status": "completed"
    },
    "tags": []
   },
   "outputs": [],
   "source": [
    "model_instructions = \"\"\"\n",
    "Solve a question answering task with interleaving Thought, Action, Observation steps. Thought can reason about the current situation,\n",
    "Observation is understanding relevant information from an Action's output and Action can be one of three types:\n",
    " (1) <search>entity</search>, which searches the exact entity on Wikipedia and returns the first paragraph if it exists. If not, it\n",
    "     will return some similar entities to search and you can try to search the information from those topics.\n",
    " (2) <lookup>keyword</lookup>, which returns the next sentence containing keyword in the current context. This only does exact matches,\n",
    "     so keep your searches short.\n",
    " (3) <finish>answer</finish>, which returns the answer and finishes the task.\n",
    "\"\"\"\n",
    "\n",
    "example1 = \"\"\"Question\n",
    "Musician and satirist Allie Goertz wrote a song about the \"The Simpsons\" character Milhouse, who Matt Groening named after who?\n",
    "\n",
    "Thought 1\n",
    "The question simplifies to \"The Simpsons\" character Milhouse is named after who. I only need to search Milhouse and find who it is named after.\n",
    "\n",
    "Action 1\n",
    "<search>Milhouse</search>\n",
    "\n",
    "Observation 1\n",
    "Milhouse Mussolini Van Houten is a recurring character in the Fox animated television series The Simpsons voiced by Pamela Hayden and created by Matt Groening.\n",
    "\n",
    "Thought 2\n",
    "The paragraph does not tell who Milhouse is named after, maybe I can look up \"named after\".\n",
    "\n",
    "Action 2\n",
    "<lookup>named after</lookup>\n",
    "\n",
    "Observation 2\n",
    "Milhouse was named after U.S. president Richard Nixon, whose middle name was Milhous.\n",
    "\n",
    "Thought 3\n",
    "Milhouse was named after U.S. president Richard Nixon, so the answer is Richard Nixon.\n",
    "\n",
    "Action 3\n",
    "<finish>Richard Nixon</finish>\n",
    "\"\"\"\n",
    "\n",
    "example2 = \"\"\"Question\n",
    "What is the elevation range for the area that the eastern sector of the Colorado orogeny extends into?\n",
    "\n",
    "Thought 1\n",
    "I need to search Colorado orogeny, find the area that the eastern sector of the Colorado orogeny extends into, then find the elevation range of the area.\n",
    "\n",
    "Action 1\n",
    "<search>Colorado orogeny</search>\n",
    "\n",
    "Observation 1\n",
    "The Colorado orogeny was an episode of mountain building (an orogeny) in Colorado and surrounding areas.\n",
    "\n",
    "Thought 2\n",
    "It does not mention the eastern sector. So I need to look up eastern sector.\n",
    "\n",
    "Action 2\n",
    "<lookup>eastern sector</lookup>\n",
    "\n",
    "Observation 2\n",
    "The eastern sector extends into the High Plains and is called the Central Plains orogeny.\n",
    "\n",
    "Thought 3\n",
    "The eastern sector of Colorado orogeny extends into the High Plains. So I need to search High Plains and find its elevation range.\n",
    "\n",
    "Action 3\n",
    "<search>High Plains</search>\n",
    "\n",
    "Observation 3\n",
    "High Plains refers to one of two distinct land regions\n",
    "\n",
    "Thought 4\n",
    "I need to instead search High Plains (United States).\n",
    "\n",
    "Action 4\n",
    "<search>High Plains (United States)</search>\n",
    "\n",
    "Observation 4\n",
    "The High Plains are a subregion of the Great Plains. From east to west, the High Plains rise in elevation from around 1,800 to 7,000 ft (550 to 2,130m).\n",
    "\n",
    "Thought 5\n",
    "High Plains rise in elevation from around 1,800 to 7,000 ft, so the answer is 1,800 to 7,000 ft.\n",
    "\n",
    "Action 5\n",
    "<finish>1,800 to 7,000 ft</finish>\n",
    "\"\"\"\n",
    "\n",
    "# Come up with more examples yourself, or take a look through https://github.com/ysymyth/ReAct/"
   ]
  },
  {
   "cell_type": "markdown",
   "id": "6730b5cd",
   "metadata": {
    "id": "C3wbfstjTgey",
    "papermill": {
     "duration": 0.017353,
     "end_time": "2025-04-01T20:46:05.648178",
     "exception": false,
     "start_time": "2025-04-01T20:46:05.630825",
     "status": "completed"
    },
    "tags": []
   },
   "source": [
    "To capture a single step at a time, while ignoring any hallucinated Observation steps, you will use `stop_sequences` to end the generation process. The steps are `Thought`, `Action`, `Observation`, in that order."
   ]
  },
  {
   "cell_type": "code",
   "execution_count": 38,
   "id": "8bcf0416",
   "metadata": {
    "execution": {
     "iopub.execute_input": "2025-04-01T20:46:05.686006Z",
     "iopub.status.busy": "2025-04-01T20:46:05.685036Z",
     "iopub.status.idle": "2025-04-01T20:46:06.279270Z",
     "shell.execute_reply": "2025-04-01T20:46:06.278205Z"
    },
    "id": "8mxrXRkRTdXm",
    "papermill": {
     "duration": 0.616161,
     "end_time": "2025-04-01T20:46:06.281576",
     "exception": false,
     "start_time": "2025-04-01T20:46:05.665415",
     "status": "completed"
    },
    "tags": []
   },
   "outputs": [
    {
     "name": "stdout",
     "output_type": "stream",
     "text": [
      "Thought 1\n",
      "I need to find the transformers NLP paper and then find the list of authors, then determine which author is the youngest.\n",
      "\n",
      "Action 1\n",
      "<search>transformers NLP paper</search>\n",
      "\n"
     ]
    }
   ],
   "source": [
    "question = \"\"\"Question\n",
    "Who was the youngest author listed on the transformers NLP paper?\n",
    "\"\"\"\n",
    "\n",
    "# You will perform the Action; so generate up to, but not including, the Observation.\n",
    "react_config = types.GenerateContentConfig(\n",
    "    stop_sequences=[\"\\nObservation\"],\n",
    "    system_instruction=model_instructions + example1 + example2,\n",
    ")\n",
    "\n",
    "# Create a chat that has the model instructions and examples pre-seeded.\n",
    "react_chat = client.chats.create(\n",
    "    model='gemini-2.0-flash',\n",
    "    config=react_config,\n",
    ")\n",
    "\n",
    "resp = react_chat.send_message(question)\n",
    "print(resp.text)"
   ]
  },
  {
   "cell_type": "markdown",
   "id": "97a8f534",
   "metadata": {
    "id": "aW2PIdLbVv3l",
    "papermill": {
     "duration": 0.017215,
     "end_time": "2025-04-01T20:46:06.316452",
     "exception": false,
     "start_time": "2025-04-01T20:46:06.299237",
     "status": "completed"
    },
    "tags": []
   },
   "source": [
    "Now you can perform this research yourself and supply it back to the model."
   ]
  },
  {
   "cell_type": "code",
   "execution_count": 39,
   "id": "ef3c139c",
   "metadata": {
    "execution": {
     "iopub.execute_input": "2025-04-01T20:46:06.353633Z",
     "iopub.status.busy": "2025-04-01T20:46:06.353285Z",
     "iopub.status.idle": "2025-04-01T20:46:07.108125Z",
     "shell.execute_reply": "2025-04-01T20:46:07.106844Z"
    },
    "id": "mLMc0DZaV9g2",
    "papermill": {
     "duration": 0.77672,
     "end_time": "2025-04-01T20:46:07.110552",
     "exception": false,
     "start_time": "2025-04-01T20:46:06.333832",
     "status": "completed"
    },
    "tags": []
   },
   "outputs": [
    {
     "name": "stdout",
     "output_type": "stream",
     "text": [
      "Thought 2\n",
      "The authors are Ashish Vaswani, Noam Shazeer, Niki Parmar, Jakob Uszkoreit, Llion Jones, Aidan N. Gomez, Lukasz Kaiser, Illia Polosukhin. I need to search each one to find their birthdate, and determine who is the youngest.\n",
      "\n",
      "Action 2\n",
      "<search>Ashish Vaswani</search>\n",
      "\n"
     ]
    }
   ],
   "source": [
    "observation = \"\"\"Observation 1\n",
    "[1706.03762] Attention Is All You Need\n",
    "Ashish Vaswani, Noam Shazeer, Niki Parmar, Jakob Uszkoreit, Llion Jones, Aidan N. Gomez, Lukasz Kaiser, Illia Polosukhin\n",
    "We propose a new simple network architecture, the Transformer, based solely on attention mechanisms, dispensing with recurrence and convolutions entirely.\n",
    "\"\"\"\n",
    "resp = react_chat.send_message(observation)\n",
    "print(resp.text)"
   ]
  },
  {
   "cell_type": "markdown",
   "id": "a465bb27",
   "metadata": {
    "id": "bo0tzf4nX6dA",
    "papermill": {
     "duration": 0.017257,
     "end_time": "2025-04-01T20:46:07.145903",
     "exception": false,
     "start_time": "2025-04-01T20:46:07.128646",
     "status": "completed"
    },
    "tags": []
   },
   "source": [
    "This process repeats until the `<finish>` action is reached. You can continue running this yourself if you like, or try the [Wikipedia example](https://github.com/google-gemini/cookbook/blob/main/examples/Search_Wikipedia_using_ReAct.ipynb) to see a fully automated ReAct system at work."
   ]
  },
  {
   "cell_type": "markdown",
   "id": "cc6e8caf",
   "metadata": {
    "papermill": {
     "duration": 0.018478,
     "end_time": "2025-04-01T20:46:07.181773",
     "exception": false,
     "start_time": "2025-04-01T20:46:07.163295",
     "status": "completed"
    },
    "tags": []
   },
   "source": [
    "## Thinking mode\n",
    "\n",
    "The experiemental Gemini Flash 2.0 \"Thinking\" model has been trained to generate the \"thinking process\" the model goes through as part of its response. As a result, the Flash Thinking model is capable of stronger reasoning capabilities in its responses.\n",
    "\n",
    "Using a \"thinking mode\" model can provide you with high-quality responses without needing specialised prompting like the previous approaches. One reason this technique is effective is that you induce the model to generate relevant information (\"brainstorming\", or \"thoughts\") that is then used as part of the context in which the final response is generated.\n",
    "\n",
    "Note that when you use the API, you get the final response from the model, but the thoughts are not captured. To see the intermediate thoughts, try out [the thinking mode model in AI Studio](https://aistudio.google.com/prompts/new_chat?model=gemini-2.0-flash-thinking-exp-01-21).\n",
    "\n",
    "<table align=left>\n",
    "  <td>\n",
    "    <a target=\"_blank\" href=\"https://aistudio.google.com/prompts/1Z991SV7lZZZqioOiqIUPv9a9ix-ws4zk\"><img src=\"https://ai.google.dev/site-assets/images/marketing/home/icon-ais.png\" style=\"height: 24px\" height=24/> Open in AI Studio</a>\n",
    "  </td>\n",
    "</table>"
   ]
  },
  {
   "cell_type": "code",
   "execution_count": 40,
   "id": "8cc9d30d",
   "metadata": {
    "execution": {
     "iopub.execute_input": "2025-04-01T20:46:07.218174Z",
     "iopub.status.busy": "2025-04-01T20:46:07.217746Z",
     "iopub.status.idle": "2025-04-01T20:46:13.278845Z",
     "shell.execute_reply": "2025-04-01T20:46:13.277793Z"
    },
    "papermill": {
     "duration": 6.081781,
     "end_time": "2025-04-01T20:46:13.280972",
     "exception": false,
     "start_time": "2025-04-01T20:46:07.199191",
     "status": "completed"
    },
    "tags": []
   },
   "outputs": [
    {
     "data": {
      "text/markdown": [
       "The youngest author listed on the \"Attention is All You Need\" paper, which introduced the Transformer architecture, is **Aidan N. Gomez**.\n",
       "\n",
       "While precise birthdates for all authors may not be readily available publicly, Aidan N. Gomez was a PhD student at the University of Toronto at the time of the paper's publication in 2017.  This generally indicates he would be the youngest among the authors, who were mostly researchers at Google Brain or other established institutions.\n",
       "\n",
       "To confirm, biographical information and online presence (like LinkedIn, university pages, etc.) for the authors generally support this, placing Aidan N. Gomez as the youngest based on typical academic career trajectories."
      ],
      "text/plain": [
       "<IPython.core.display.Markdown object>"
      ]
     },
     "execution_count": 40,
     "metadata": {},
     "output_type": "execute_result"
    }
   ],
   "source": [
    "import io\n",
    "from IPython.display import Markdown, clear_output\n",
    "\n",
    "\n",
    "response = client.models.generate_content_stream(\n",
    "    model='gemini-2.0-flash-thinking-exp',\n",
    "    contents='Who was the youngest author listed on the transformers NLP paper?',\n",
    ")\n",
    "\n",
    "buf = io.StringIO()\n",
    "for chunk in response:\n",
    "    buf.write(chunk.text)\n",
    "    # Display the response as it is streamed\n",
    "    print(chunk.text, end='')\n",
    "\n",
    "# And then render the finished response as formatted markdown.\n",
    "clear_output()\n",
    "Markdown(buf.getvalue())"
   ]
  },
  {
   "cell_type": "markdown",
   "id": "a5a89714",
   "metadata": {
    "id": "jPiZ_eIIaVPt",
    "papermill": {
     "duration": 0.072911,
     "end_time": "2025-04-01T20:46:13.371795",
     "exception": false,
     "start_time": "2025-04-01T20:46:13.298884",
     "status": "completed"
    },
    "tags": []
   },
   "source": [
    "## Code prompting"
   ]
  },
  {
   "cell_type": "markdown",
   "id": "beb50e65",
   "metadata": {
    "id": "ZinKamwXeR6C",
    "papermill": {
     "duration": 0.017423,
     "end_time": "2025-04-01T20:46:13.407040",
     "exception": false,
     "start_time": "2025-04-01T20:46:13.389617",
     "status": "completed"
    },
    "tags": []
   },
   "source": [
    "### Generating code\n",
    "\n",
    "The Gemini family of models can be used to generate code, configuration and scripts. Generating code can be helpful when learning to code, learning a new language or for rapidly generating a first draft.\n",
    "\n",
    "It's important to be aware that since LLMs can make mistakes, and can repeat training data, it's essential to read and test your code first, and comply with any relevant licenses.\n",
    "\n",
    "<table align=left>\n",
    "  <td>\n",
    "    <a target=\"_blank\" href=\"https://aistudio.google.com/prompts/1YX71JGtzDjXQkgdes8bP6i3oH5lCRKxv\"><img src=\"https://ai.google.dev/site-assets/images/marketing/home/icon-ais.png\" style=\"height: 24px\" height=24/> Open in AI Studio</a>\n",
    "  </td>\n",
    "</table>"
   ]
  },
  {
   "cell_type": "code",
   "execution_count": 41,
   "id": "6d8b604a",
   "metadata": {
    "execution": {
     "iopub.execute_input": "2025-04-01T20:46:13.444503Z",
     "iopub.status.busy": "2025-04-01T20:46:13.443653Z",
     "iopub.status.idle": "2025-04-01T20:46:14.003033Z",
     "shell.execute_reply": "2025-04-01T20:46:14.002016Z"
    },
    "id": "fOQP9pqmeUO1",
    "papermill": {
     "duration": 0.580535,
     "end_time": "2025-04-01T20:46:14.005145",
     "exception": false,
     "start_time": "2025-04-01T20:46:13.424610",
     "status": "completed"
    },
    "tags": []
   },
   "outputs": [
    {
     "data": {
      "text/markdown": [
       "```python\n",
       "def factorial(n):\n",
       "  if n == 0:\n",
       "    return 1\n",
       "  else:\n",
       "    return n * factorial(n-1)\n",
       "```"
      ],
      "text/plain": [
       "<IPython.core.display.Markdown object>"
      ]
     },
     "execution_count": 41,
     "metadata": {},
     "output_type": "execute_result"
    }
   ],
   "source": [
    "# The Gemini models love to talk, so it helps to specify they stick to the code if that\n",
    "# is all that you want.\n",
    "code_prompt = \"\"\"\n",
    "Write a Python function to calculate the factorial of a number. No explanation, provide only the code.\n",
    "\"\"\"\n",
    "\n",
    "response = client.models.generate_content(\n",
    "    model='gemini-2.0-flash',\n",
    "    config=types.GenerateContentConfig(\n",
    "        temperature=1,\n",
    "        top_p=1,\n",
    "        max_output_tokens=1024,\n",
    "    ),\n",
    "    contents=code_prompt)\n",
    "\n",
    "Markdown(response.text)"
   ]
  },
  {
   "cell_type": "markdown",
   "id": "545a4600",
   "metadata": {
    "id": "wlBMWSFhgVRQ",
    "papermill": {
     "duration": 0.017653,
     "end_time": "2025-04-01T20:46:14.041030",
     "exception": false,
     "start_time": "2025-04-01T20:46:14.023377",
     "status": "completed"
    },
    "tags": []
   },
   "source": [
    "### Code execution\n",
    "\n",
    "The Gemini API can automatically run generated code too, and will return the output.\n",
    "\n",
    "<table align=left>\n",
    "  <td>\n",
    "    <a target=\"_blank\" href=\"https://aistudio.google.com/prompts/11veFr_VYEwBWcLkhNLr-maCG0G8sS_7Z\"><img src=\"https://ai.google.dev/site-assets/images/marketing/home/icon-ais.png\" style=\"height: 24px\" height=24/> Open in AI Studio</a>\n",
    "  </td>\n",
    "</table>"
   ]
  },
  {
   "cell_type": "code",
   "execution_count": 42,
   "id": "332cbca9",
   "metadata": {
    "execution": {
     "iopub.execute_input": "2025-04-01T20:46:14.078640Z",
     "iopub.status.busy": "2025-04-01T20:46:14.078258Z",
     "iopub.status.idle": "2025-04-01T20:47:16.490025Z",
     "shell.execute_reply": "2025-04-01T20:47:16.488970Z"
    },
    "id": "jT3OfWYfhjRL",
    "papermill": {
     "duration": 62.452176,
     "end_time": "2025-04-01T20:47:16.510933",
     "exception": false,
     "start_time": "2025-04-01T20:46:14.058757",
     "status": "completed"
    },
    "tags": []
   },
   "outputs": [
    {
     "name": "stdout",
     "output_type": "stream",
     "text": [
      "{'text': \"Okay, I can do that. First, I'll generate the first 14 odd prime \"\n",
      "         'numbers. Remember that a prime number is a number greater than 1 '\n",
      "         'that has only two factors: 1 and itself. Since we want *odd* prime '\n",
      "         'numbers, we exclude 2 from the list. After generating those numbers, '\n",
      "         'I will sum them.\\n'\n",
      "         '\\n'}\n",
      "-----\n",
      "{'executable_code': {'code': 'primes = []\\n'\n",
      "                             'num = 3\\n'\n",
      "                             'while len(primes) < 14:\\n'\n",
      "                             '    is_prime = True\\n'\n",
      "                             '    for i in range(2, int(num**0.5) + 1):\\n'\n",
      "                             '        if num % i == 0:\\n'\n",
      "                             '            is_prime = False\\n'\n",
      "                             '            break\\n'\n",
      "                             '    if is_prime:\\n'\n",
      "                             '        primes.append(num)\\n'\n",
      "                             '    num += 2\\n'\n",
      "                             '\\n'\n",
      "                             \"print(f'{primes=}')\\n\"\n",
      "                             '\\n'\n",
      "                             'sum_of_primes = sum(primes)\\n'\n",
      "                             \"print(f'{sum_of_primes=}')\\n\",\n",
      "                     'language': 'PYTHON'}}\n",
      "-----\n",
      "{'code_execution_result': {'outcome': 'OUTCOME_OK',\n",
      "                           'output': 'primes=[3, 5, 7, 11, 13, 17, 19, 23, 29, '\n",
      "                                     '31, 37, 41, 43, 47]\\n'\n",
      "                                     'sum_of_primes=326\\n'}}\n",
      "-----\n",
      "{'text': 'The first 14 odd prime numbers are 3, 5, 7, 11, 13, 17, 19, 23, 29, '\n",
      "         '31, 37, 41, 43, and 47. Their sum is 326.\\n'}\n",
      "-----\n"
     ]
    }
   ],
   "source": [
    "from pprint import pprint\n",
    "\n",
    "config = types.GenerateContentConfig(\n",
    "    tools=[types.Tool(code_execution=types.ToolCodeExecution())],\n",
    ")\n",
    "\n",
    "code_exec_prompt = \"\"\"\n",
    "Generate the first 14 odd prime numbers, then calculate their sum.\n",
    "\"\"\"\n",
    "\n",
    "response = client.models.generate_content(\n",
    "    model='gemini-2.0-flash',\n",
    "    config=config,\n",
    "    contents=code_exec_prompt)\n",
    "\n",
    "for part in response.candidates[0].content.parts:\n",
    "  pprint(part.to_json_dict())\n",
    "  print(\"-----\")"
   ]
  },
  {
   "cell_type": "markdown",
   "id": "ce1f219d",
   "metadata": {
    "id": "ZspT1GSkjG6d",
    "papermill": {
     "duration": 0.017663,
     "end_time": "2025-04-01T20:47:16.547054",
     "exception": false,
     "start_time": "2025-04-01T20:47:16.529391",
     "status": "completed"
    },
    "tags": []
   },
   "source": [
    "This response contains multiple parts, including an opening and closing text part that represent regular responses, an `executable_code` part that represents generated code and a `code_execution_result` part that represents the results from running the generated code.\n",
    "\n",
    "You can explore them individually."
   ]
  },
  {
   "cell_type": "code",
   "execution_count": 43,
   "id": "fc0ec9dc",
   "metadata": {
    "execution": {
     "iopub.execute_input": "2025-04-01T20:47:16.585300Z",
     "iopub.status.busy": "2025-04-01T20:47:16.584891Z",
     "iopub.status.idle": "2025-04-01T20:47:16.597859Z",
     "shell.execute_reply": "2025-04-01T20:47:16.596933Z"
    },
    "papermill": {
     "duration": 0.034936,
     "end_time": "2025-04-01T20:47:16.599648",
     "exception": false,
     "start_time": "2025-04-01T20:47:16.564712",
     "status": "completed"
    },
    "tags": []
   },
   "outputs": [
    {
     "data": {
      "text/markdown": [
       "Okay, I can do that. First, I'll generate the first 14 odd prime numbers. Remember that a prime number is a number greater than 1 that has only two factors: 1 and itself. Since we want *odd* prime numbers, we exclude 2 from the list. After generating those numbers, I will sum them.\n",
       "\n"
      ],
      "text/plain": [
       "<IPython.core.display.Markdown object>"
      ]
     },
     "metadata": {},
     "output_type": "display_data"
    },
    {
     "data": {
      "text/markdown": [
       "```python\n",
       "primes = []\n",
       "num = 3\n",
       "while len(primes) < 14:\n",
       "    is_prime = True\n",
       "    for i in range(2, int(num**0.5) + 1):\n",
       "        if num % i == 0:\n",
       "            is_prime = False\n",
       "            break\n",
       "    if is_prime:\n",
       "        primes.append(num)\n",
       "    num += 2\n",
       "\n",
       "print(f'{primes=}')\n",
       "\n",
       "sum_of_primes = sum(primes)\n",
       "print(f'{sum_of_primes=}')\n",
       "\n",
       "```"
      ],
      "text/plain": [
       "<IPython.core.display.Markdown object>"
      ]
     },
     "metadata": {},
     "output_type": "display_data"
    },
    {
     "data": {
      "text/markdown": [
       "```\n",
       "primes=[3, 5, 7, 11, 13, 17, 19, 23, 29, 31, 37, 41, 43, 47]\n",
       "sum_of_primes=326\n",
       "\n",
       "```"
      ],
      "text/plain": [
       "<IPython.core.display.Markdown object>"
      ]
     },
     "metadata": {},
     "output_type": "display_data"
    },
    {
     "data": {
      "text/markdown": [
       "The first 14 odd prime numbers are 3, 5, 7, 11, 13, 17, 19, 23, 29, 31, 37, 41, 43, and 47. Their sum is 326.\n"
      ],
      "text/plain": [
       "<IPython.core.display.Markdown object>"
      ]
     },
     "metadata": {},
     "output_type": "display_data"
    }
   ],
   "source": [
    "for part in response.candidates[0].content.parts:\n",
    "    if part.text:\n",
    "        display(Markdown(part.text))\n",
    "    elif part.executable_code:\n",
    "        display(Markdown(f'```python\\n{part.executable_code.code}\\n```'))\n",
    "    elif part.code_execution_result:\n",
    "        if part.code_execution_result.outcome != 'OUTCOME_OK':\n",
    "            display(Markdown(f'## Status {part.code_execution_result.outcome}'))\n",
    "\n",
    "        display(Markdown(f'```\\n{part.code_execution_result.output}\\n```'))"
   ]
  },
  {
   "cell_type": "markdown",
   "id": "f6fd484f",
   "metadata": {
    "id": "1gUX8QzCj4d5",
    "papermill": {
     "duration": 0.018289,
     "end_time": "2025-04-01T20:47:16.636454",
     "exception": false,
     "start_time": "2025-04-01T20:47:16.618165",
     "status": "completed"
    },
    "tags": []
   },
   "source": [
    "### Explaining code\n",
    "\n",
    "The Gemini family of models can explain code to you too. In this example, you pass a [bash script](https://github.com/magicmonty/bash-git-prompt) and ask some questions.\n",
    "\n",
    "<table align=left>\n",
    "  <td>\n",
    "    <a target=\"_blank\" href=\"https://aistudio.google.com/prompts/1N7LGzWzCYieyOf_7bAG4plrmkpDNmUyb\"><img src=\"https://ai.google.dev/site-assets/images/marketing/home/icon-ais.png\" style=\"height: 24px\" height=24/> Open in AI Studio</a>\n",
    "  </td>\n",
    "</table>"
   ]
  },
  {
   "cell_type": "code",
   "execution_count": 44,
   "id": "95673cae",
   "metadata": {
    "execution": {
     "iopub.execute_input": "2025-04-01T20:47:16.675051Z",
     "iopub.status.busy": "2025-04-01T20:47:16.674664Z",
     "iopub.status.idle": "2025-04-01T20:47:19.141243Z",
     "shell.execute_reply": "2025-04-01T20:47:19.140103Z"
    },
    "id": "7_jPMMoxkIEb",
    "papermill": {
     "duration": 2.488841,
     "end_time": "2025-04-01T20:47:19.143872",
     "exception": false,
     "start_time": "2025-04-01T20:47:16.655031",
     "status": "completed"
    },
    "tags": []
   },
   "outputs": [
    {
     "data": {
      "text/markdown": [
       "This is a shell script (likely for Bash or Zsh) designed to enhance your command-line prompt with information about the current Git repository.  It's often referred to as a \"Git prompt.\"\n",
       "\n",
       "**What it does:**\n",
       "\n",
       "*   **Displays Git Status:** Shows you the current branch, whether there are uncommitted changes (staged, unstaged, untracked), if you're ahead/behind the remote branch, and other relevant Git information directly in your command prompt.\n",
       "*   **Customizable:** Allows you to configure the colors, symbols, and information displayed in the prompt to match your preferences.  It supports themes to easily switch between different styles.\n",
       "*   **Asynchronous Fetching:**  Can fetch remote branch information in the background, so your prompt doesn't lag while waiting for network operations.\n",
       "*   **Virtual Environment Integration:** Can display information about the active Python virtual environment (if any).\n",
       "*   **Cross-Shell Compatibility:** It contains logic to work with both Bash and Zsh shells.\n",
       "\n",
       "**Why you would use it:**\n",
       "\n",
       "*   **Stay Informed:** Quickly see the status of your Git repository without having to run `git status` every time.\n",
       "*   **Improve Workflow:** Makes it easier to track changes, branches, and the overall state of your Git projects.\n",
       "*   **Personalize Your Terminal:** Customize the look and feel of your command prompt to make it more visually appealing and informative.\n",
       "\n",
       "In essence, this script aims to provide a convenient and visually informative way to keep track of your Git repositories directly within your command-line environment. You would use it by sourcing this script in your `.bashrc` or `.zshrc` file so that it gets executed every time you start a new terminal session.\n"
      ],
      "text/plain": [
       "<IPython.core.display.Markdown object>"
      ]
     },
     "execution_count": 44,
     "metadata": {},
     "output_type": "execute_result"
    }
   ],
   "source": [
    "file_contents = !curl https://raw.githubusercontent.com/magicmonty/bash-git-prompt/refs/heads/master/gitprompt.sh\n",
    "\n",
    "explain_prompt = f\"\"\"\n",
    "Please explain what this file does at a very high level. What is it, and why would I use it?\n",
    "\n",
    "```\n",
    "{file_contents}\n",
    "```\n",
    "\"\"\"\n",
    "\n",
    "response = client.models.generate_content(\n",
    "    model='gemini-2.0-flash',\n",
    "    contents=explain_prompt)\n",
    "\n",
    "Markdown(response.text)"
   ]
  },
  {
   "cell_type": "markdown",
   "id": "d744d6a5",
   "metadata": {
    "id": "2a8266d97ce5",
    "papermill": {
     "duration": 0.018453,
     "end_time": "2025-04-01T20:47:19.181169",
     "exception": false,
     "start_time": "2025-04-01T20:47:19.162716",
     "status": "completed"
    },
    "tags": []
   },
   "source": [
    "## Learn more\n",
    "\n",
    "To learn more about prompting in depth:\n",
    "\n",
    "* Check out the whitepaper issued with today's content,\n",
    "* Try out the apps listed at the top of this notebook ([TextFX](https://textfx.withgoogle.com/), [SQL Talk](https://sql-talk-r5gdynozbq-uc.a.run.app/) and [NotebookLM](https://notebooklm.google/)),\n",
    "* Read the [Introduction to Prompting](https://ai.google.dev/gemini-api/docs/prompting-intro) from the Gemini API docs,\n",
    "* Explore the Gemini API's [prompt gallery](https://ai.google.dev/gemini-api/prompts) and try them out in AI Studio,\n",
    "* Check out the Gemini API cookbook for [inspirational examples](https://github.com/google-gemini/cookbook/blob/main/examples/) and [educational quickstarts](https://github.com/google-gemini/cookbook/blob/main/quickstarts/).\n",
    "\n",
    "Be sure to check out the codelabs on day 3 too, where you will explore some more advanced prompting with code execution.\n",
    "\n",
    "And please share anything exciting you have tried in the Discord!\n",
    "\n",
    "*- [Mark McD](https://linktr.ee/markmcd)*"
   ]
  }
 ],
 "metadata": {
  "colab": {
   "name": "day-1-prompting.ipynb",
   "toc_visible": true
  },
  "kaggle": {
   "accelerator": "none",
   "dataSources": [],
   "dockerImageVersionId": 30786,
   "isGpuEnabled": false,
   "isInternetEnabled": true,
   "language": "python",
   "sourceType": "notebook"
  },
  "kernelspec": {
   "display_name": "Python 3",
   "language": "python",
   "name": "python3"
  },
  "language_info": {
   "codemirror_mode": {
    "name": "ipython",
    "version": 3
   },
   "file_extension": ".py",
   "mimetype": "text/x-python",
   "name": "python",
   "nbconvert_exporter": "python",
   "pygments_lexer": "ipython3",
   "version": "3.10.14"
  },
  "papermill": {
   "default_parameters": {},
   "duration": 226.166083,
   "end_time": "2025-04-01T20:47:19.820354",
   "environment_variables": {},
   "exception": null,
   "input_path": "__notebook__.ipynb",
   "output_path": "__notebook__.ipynb",
   "parameters": {},
   "start_time": "2025-04-01T20:43:33.654271",
   "version": "2.6.0"
  }
 },
 "nbformat": 4,
 "nbformat_minor": 5
}
